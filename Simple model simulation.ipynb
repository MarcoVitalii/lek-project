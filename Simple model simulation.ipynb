{
 "cells": [
  {
   "cell_type": "markdown",
   "metadata": {},
   "source": [
    "# Test idea fitness vs inbreeding\n",
    "\n",
    "The most naive implementation doesn't work. The main point is that the whole population( both females and males )  collapse to a point because of the fact that a son is a mix of the parents, so the variance in the genome is lost no matter how parents are paired"
   ]
  },
  {
   "cell_type": "code",
   "execution_count": 42,
   "metadata": {},
   "outputs": [],
   "source": [
    "import numpy as np\n",
    "import matplotlib.pyplot as plt"
   ]
  },
  {
   "cell_type": "code",
   "execution_count": 47,
   "metadata": {},
   "outputs": [],
   "source": [
    "#definition of all the functions needed in the simulation\n",
    "\n",
    "def generate_individual(n):\n",
    "    '''\n",
    "    returns an array of n bits representing a random genome of an individual\n",
    "    '''\n",
    "    return np.array( list(np.binary_repr(np.random.randint(0,2**n),n)),dtype=int)\n",
    "\n",
    "def fitness (male, female, weight = 1):\n",
    "    '''\n",
    "    params:\n",
    "    male - genetic sequence of male \n",
    "    female - genetic sequence of female\n",
    "    weight - importance of genetic similarity between male and female with respect to male's fitness\n",
    "    returns the fitness of a male with respect to the female which is choosing\n",
    "    the partner. This introduces a subjective alpha male definition.\n",
    "    \n",
    "    '''\n",
    "    return male.sum() - (len(male) - ((male + female) % 2  ).sum() ) * weight\n",
    "\n",
    "def rndFitness (male,female):\n",
    "    '''\n",
    "    this function returns a random fitness value. Is used as a null model'''\n",
    "    return np.random.randint(40) \n",
    "\n",
    "\n",
    "def dist_ham(individuals):\n",
    "    \"\"\"\n",
    "    returns the distribution of hamming distances between the individuals\n",
    "    \"\"\"\n",
    "    dist = []\n",
    "    for i in range(1,len(individuals)):\n",
    "        for j in range(0,i):\n",
    "            dist.append(((individuals[i]+individuals[j]) % 2).sum())\n",
    "    return dist\n",
    "\n",
    "def mate (female, males, weight = 1):\n",
    "    '''\n",
    "    params:\n",
    "    female - female genetic seq\n",
    "    males - list of genetic seq of candidate partners\n",
    "    weight - weight of genetic similarity in fitness'''\n",
    "    genome_length = len(female)\n",
    "    partner = males[np.argmax([fitness(male,female,weight) for male in males])]\n",
    "    genes_selected = generate_individual(genome_length)\n",
    "    genomes = (female, partner)\n",
    "    son = np.array([genomes[genes_selected[i]][i] for i in range(genome_length)])\n",
    "#     print (f\"male:   {partner} \\nfemale: {female} \\ngeneSel:{genes_selected}\\nSon:    {son}\")\n",
    "    return son\n",
    "\n",
    "def evolve(males, females,weight, subs, time=10):\n",
    "    '''\n",
    "    params:\n",
    "    males - list of genetic seq of male population\n",
    "    females - list of genetic seq of female population\n",
    "    weight - weight of genetic similarity in fitness\n",
    "    subs - number of individuals substituted from the population each timestep\n",
    "    time - number of timesteps\n",
    "    \n",
    "    this function lets the system evolve for time, changing the populations through substitutions with the \n",
    "    sons of current male and female population'''\n",
    "    for i in range(time):\n",
    "        sons = [mate(female, males, weight) for female in females]\n",
    "        into_populations = np.random.choice(range(n_females), subs * 2)\n",
    "        males_dropout = np.random.choice(range(n_males), subs)\n",
    "        females_dropout = np.random.choice(range(n_females), subs)\n",
    "        counter = 0\n",
    "        for index in males_dropout:\n",
    "            males[index] = sons[into_populations[counter]]\n",
    "            counter += 1\n",
    "        for index in females_dropout:\n",
    "            females[index] = sons[into_populations[counter]]\n",
    "            counter += 1\n"
   ]
  },
  {
   "cell_type": "code",
   "execution_count": null,
   "metadata": {},
   "outputs": [],
   "source": [
    "#initialization of the populations:\n",
    "n_males = 200\n",
    "n_females = 200\n",
    "genome_length = 60\n",
    "males = [generate_individual(genome_length) for i in range(n_males)]\n",
    "females = [generate_individual(genome_length) for i in range(n_females)]\n",
    "init_f = dist_ham(females)\n",
    "init_m = dist_ham(males)\n",
    "plt.hist(init_f)\n",
    "plt.show()\n",
    "plt.hist(init_m)\n",
    "plt.show()"
   ]
  },
  {
   "cell_type": "code",
   "execution_count": 45,
   "metadata": {},
   "outputs": [
    {
     "data": {
      "image/png": "[encoded data removed]",
      "text/plain": [
       "<Figure size 432x288 with 1 Axes>"
      ]
     },
     "metadata": {
      "needs_background": "light"
     },
     "output_type": "display_data"
    },
    {
     "data": {
      "image/png": "[encoded data removed]",
      "text/plain": [
       "<Figure size 432x288 with 1 Axes>"
      ]
     },
     "metadata": {
      "needs_background": "light"
     },
     "output_type": "display_data"
    }
   ],
   "source": [
    "#Evolution of the system. At the end of the evolution a histogram of hamming distances between individuals is plotted for females and males.\n",
    "evolve(males, females, 40, 200)\n",
    "plt.hist(dist_ham(males))\n",
    "plt.show()\n",
    "plt.hist(dist_ham(females))\n",
    "plt.show()"
   ]
  },
  {
   "cell_type": "code",
   "execution_count": 46,
   "metadata": {},
   "outputs": [
    {
     "data": {
      "text/plain": [
       "1"
      ]
     },
     "execution_count": 46,
     "metadata": {},
     "output_type": "execute_result"
    }
   ],
   "source": [
    "#Counter of different sequences in female population\n",
    "differents = []\n",
    "for female in females:\n",
    "    st =female.tostring()\n",
    "    if st not in differents:\n",
    "        differents.append(st)\n",
    "len(differents)"
   ]
  },
  {
   "cell_type": "code",
   "execution_count": 41,
   "metadata": {},
   "outputs": [
    {
     "name": "stdout",
     "output_type": "stream",
     "text": [
      "[[0 0 0]\n",
      " [0 0 1]\n",
      " [0 1 0]\n",
      " [0 1 1]\n",
      " [1 0 0]\n",
      " [1 0 1]\n",
      " [1 1 0]\n",
      " [1 1 1]]\n"
     ]
    },
    {
     "data": {
      "text/plain": [
       "matrix([[-3, -1, -1,  1, -1,  1,  1,  3],\n",
       "        [-2, -2,  0,  0,  0,  0,  2,  2],\n",
       "        [-2,  0, -2,  0,  0,  2,  0,  2],\n",
       "        [-1, -1, -1, -1,  1,  1,  1,  1],\n",
       "        [-2,  0,  0,  2, -2,  0,  0,  2],\n",
       "        [-1, -1,  1,  1, -1, -1,  1,  1],\n",
       "        [-1,  1, -1,  1, -1,  1, -1,  1],\n",
       "        [ 0,  0,  0,  0,  0,  0,  0,  0]])"
      ]
     },
     "execution_count": 41,
     "metadata": {},
     "output_type": "execute_result"
    }
   ],
   "source": [
    "#Visualization of the fitness matrix. rows represents females, columns males.\n",
    "k=3\n",
    "base = np.array( [list(np.binary_repr(n,k)) for n in range(2**k)],dtype=int)\n",
    "print(base)\n",
    "np.matrix([[fitness(base[i], base[j]) for i in range(2**k)] for j in range(2**k)])"
   ]
  }
 ],
 "metadata": {
  "kernelspec": {
   "display_name": "lek-project",
   "language": "python",
   "name": "lek-project"
  },
  "language_info": {
   "codemirror_mode": {
    "name": "ipython",
    "version": 3
   },
   "file_extension": ".py",
   "mimetype": "text/x-python",
   "name": "python",
   "nbconvert_exporter": "python",
   "pygments_lexer": "ipython3",
   "version": "3.6.4"
  }
 },
 "nbformat": 4,
 "nbformat_minor": 2
}
