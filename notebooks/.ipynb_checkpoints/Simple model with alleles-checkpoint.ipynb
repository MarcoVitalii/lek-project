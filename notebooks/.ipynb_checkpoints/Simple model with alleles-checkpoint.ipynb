{
 "cells": [
  {
   "cell_type": "code",
   "execution_count": 1,
   "metadata": {},
   "outputs": [],
   "source": [
    "import numpy as np\n",
    "import matplotlib.pyplot as plt"
   ]
  },
  {
   "cell_type": "code",
   "execution_count": 222,
   "metadata": {},
   "outputs": [
    {
     "name": "stdout",
     "output_type": "stream",
     "text": [
      "(array([0, 1, 1]), array([0, 1, 1])) 4\n"
     ]
    }
   ],
   "source": [
    "k = generate_individual(3)\n",
    "print(k,sum(k[0]+k[1]))"
   ]
  },
  {
   "cell_type": "code",
   "execution_count": 182,
   "metadata": {},
   "outputs": [],
   "source": [
    "#definition of all the functions needed in the simulation\n",
    "\n",
    "def generate_individual(n):\n",
    "    '''\n",
    "    returns an array of n bits representing a random genome of an individual\n",
    "    '''\n",
    "    return tuple(np.random.randint(0,2,n) for _ in range(2))\n",
    "\n",
    "def fitness (male, female, weight = 1):\n",
    "    '''\n",
    "    params:\n",
    "    male - genetic sequence of male \n",
    "    female - genetic sequence of female\n",
    "    weight - importance of genetic similarity between male and female with respect to male's fitness\n",
    "    returns the fitness of a male with respect to the female which is choosing\n",
    "    the partner. This introduces a subjective alpha male definition.\n",
    "\n",
    "    '''\n",
    "    return sum(sum(male)) - (len(male) - (male == female  ).sum() ) * weight\n",
    "\n",
    "def rndFitness (male,female):\n",
    "    '''\n",
    "    this function returns a random fitness value. Is used as a null model'''\n",
    "    return np.random.randint(40) \n",
    "\n",
    "\n",
    "def dist_ham(individuals):\n",
    "    \"\"\"\n",
    "    returns the distribution of hamming distances between the individuals\n",
    "    \"\"\"\n",
    "    dist = []\n",
    "    for i in range(1,len(individuals)):\n",
    "        for j in range(0,i):\n",
    "            dist.append(((individuals[i]+individuals[j]) % 2).sum())\n",
    "    return dist\n",
    "\n",
    "def mate (female, males, father_dist, weight = 1):\n",
    "    '''\n",
    "    params:\n",
    "    female - female genetic seq\n",
    "    males - list of genetic seq of candidate partners\n",
    "    weight - weight of genetic similarity in fitness\n",
    "    father_dist - list where the index of the selected father is appended\n",
    "    returns th gentic code of the son\n",
    "    '''\n",
    "    \n",
    "    genome_length = len(female)\n",
    "    father_index = np.argmax([fitness(male,female,weight) for male in males])\n",
    "    father_dist.append(father_index)\n",
    "    partner = males[father_index]\n",
    "    genes_selected = generate_individual(genome_length)\n",
    "    genomes = (female, partner)\n",
    "    son = np.array([genomes[genes_selected[i]][i] for i in range(genome_length)])\n",
    "#     print (f\"male:   {partner} \\nfemale: {female} \\ngeneSel:{genes_selected}\\nSon:    {son}\")\n",
    "    return son\n",
    "\n",
    "\n",
    "\n",
    "def evolve(males, females,weight, subs, time=10):\n",
    "    '''\n",
    "    params:\n",
    "    males - list of genetic seq of male population\n",
    "    females - list of genetic seq of female population\n",
    "    weight - weight of genetic similarity in fitness\n",
    "    subs - number of individuals substituted from the population each timestep\n",
    "    time - number of timesteps\n",
    "\n",
    "    this function lets the system evolve for time, changing the populations through substitutions with the \n",
    "    sons of current male and female population'''\n",
    "    father_dist = []\n",
    "    for i in range(time):\n",
    "        father_dist = []\n",
    "        sons = [mate(female, males, father_dist, weight) for female in females]\n",
    "        into_populations = np.random.choice(range(n_females), subs * 2)\n",
    "        males_dropout = np.random.choice(range(n_males), subs)\n",
    "        females_dropout = np.random.choice(range(n_females), subs)\n",
    "        counter = 0\n",
    "        for index in males_dropout:\n",
    "            males[index] = sons[into_populations[counter]]\n",
    "            counter += 1\n",
    "        for index in females_dropout:\n",
    "            females[index] = sons[into_populations[counter]]\n",
    "            counter += 1\n",
    "    return father_dist\n"
   ]
  },
  {
   "cell_type": "code",
   "execution_count": 31,
   "metadata": {},
   "outputs": [
    {
     "data": {
      "image/png": "[encoded data removed]",
      "text/plain": [
       "<Figure size 432x288 with 1 Axes>"
      ]
     },
     "metadata": {
      "needs_background": "light"
     },
     "output_type": "display_data"
    },
    {
     "data": {
      "image/png": "[encoded data removed]",
      "text/plain": [
       "<Figure size 432x288 with 1 Axes>"
      ]
     },
     "metadata": {
      "needs_background": "light"
     },
     "output_type": "display_data"
    }
   ],
   "source": [
    "#initialization of the populations:\n",
    "n_males = 50\n",
    "n_females = 50\n",
    "genome_length = 30\n",
    "males = [generate_individual(genome_length) for i in range(n_males)]\n",
    "females = [generate_individual(genome_length) for i in range(n_females)]\n",
    "init_f = dist_ham(females)\n",
    "init_m = dist_ham(males)\n",
    "plt.hist(init_f)\n",
    "plt.show()\n",
    "plt.hist(init_m)\n",
    "plt.show()"
   ]
  },
  {
   "cell_type": "code",
   "execution_count": 39,
   "metadata": {},
   "outputs": [
    {
     "data": {
      "image/png": "[encoded data removed]",
      "text/plain": [
       "<Figure size 432x288 with 1 Axes>"
      ]
     },
     "metadata": {
      "needs_background": "light"
     },
     "output_type": "display_data"
    },
    {
     "data": {
      "image/png": "[encoded data removed]",
      "text/plain": [
       "<Figure size 432x288 with 1 Axes>"
      ]
     },
     "metadata": {
      "needs_background": "light"
     },
     "output_type": "display_data"
    },
    {
     "data": {
      "image/png": "[encoded data removed]",
      "text/plain": [
       "<Figure size 432x288 with 1 Axes>"
      ]
     },
     "metadata": {
      "needs_background": "light"
     },
     "output_type": "display_data"
    }
   ],
   "source": [
    "#Evolution of the system. At the end of the evolution a histogram of hamming distances between individuals is plotted for females and males.\n",
    "plt.hist(evolve(males, females, 2, 30, 8000))\n",
    "plt.show()\n",
    "plt.hist(dist_ham(males))\n",
    "plt.show()\n",
    "plt.hist(dist_ham(females))\n",
    "plt.show()"
   ]
  },
  {
   "cell_type": "code",
   "execution_count": 40,
   "metadata": {},
   "outputs": [
    {
     "data": {
      "text/plain": [
       "44"
      ]
     },
     "execution_count": 40,
     "metadata": {},
     "output_type": "execute_result"
    }
   ],
   "source": [
    "#Counter of different sequences in female population\n",
    "differents = []\n",
    "for female in females:\n",
    "    st =female.tostring()\n",
    "    if st not in differents:\n",
    "        differents.append(st)\n",
    "len(differents)"
   ]
  },
  {
   "cell_type": "code",
   "execution_count": 30,
   "metadata": {},
   "outputs": [
    {
     "name": "stdout",
     "output_type": "stream",
     "text": [
      "[[0 0 0]\n",
      " [0 0 1]\n",
      " [0 1 0]\n",
      " [0 1 1]\n",
      " [1 0 0]\n",
      " [1 0 1]\n",
      " [1 1 0]\n",
      " [1 1 1]]\n"
     ]
    },
    {
     "data": {
      "text/plain": [
       "matrix([[-3, -1, -1,  1, -1,  1,  1,  3],\n",
       "        [-2, -2,  0,  0,  0,  0,  2,  2],\n",
       "        [-2,  0, -2,  0,  0,  2,  0,  2],\n",
       "        [-1, -1, -1, -1,  1,  1,  1,  1],\n",
       "        [-2,  0,  0,  2, -2,  0,  0,  2],\n",
       "        [-1, -1,  1,  1, -1, -1,  1,  1],\n",
       "        [-1,  1, -1,  1, -1,  1, -1,  1],\n",
       "        [ 0,  0,  0,  0,  0,  0,  0,  0]])"
      ]
     },
     "execution_count": 30,
     "metadata": {},
     "output_type": "execute_result"
    }
   ],
   "source": [
    "#Visualization of the fitness matrix. rows represents females, columns males.\n",
    "k=3\n",
    "base = np.array( [list(np.binary_repr(n,k)) for n in range(2**k)],dtype=int)\n",
    "print(base)\n",
    "np.matrix([[fitness(base[i], base[j]) for i in range(2**k)] for j in range(2**k)])"
   ]
  },
  {
   "cell_type": "code",
   "execution_count": null,
   "metadata": {},
   "outputs": [],
   "source": []
  }
 ],
 "metadata": {
  "kernelspec": {
   "display_name": "lek-project",
   "language": "python",
   "name": "lek-project"
  },
  "language_info": {
   "codemirror_mode": {
    "name": "ipython",
    "version": 3
   },
   "file_extension": ".py",
   "mimetype": "text/x-python",
   "name": "python",
   "nbconvert_exporter": "python",
   "pygments_lexer": "ipython3",
   "version": "3.6.4"
  }
 },
 "nbformat": 4,
 "nbformat_minor": 2
}
