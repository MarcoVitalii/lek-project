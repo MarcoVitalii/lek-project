{
 "cells": [
  {
   "cell_type": "code",
   "execution_count": 1,
   "metadata": {},
   "outputs": [
    {
     "data": {
      "text/plain": [
       "DataTransformerRegistry.enable('json')"
      ]
     },
     "execution_count": 1,
     "metadata": {},
     "output_type": "execute_result"
    }
   ],
   "source": [
    "import numpy as np\n",
    "import matplotlib.pyplot as plt\n",
    "import time \n",
    "from itertools import product\n",
    "from IPython.display import display\n",
    "\n",
    "\n",
    "import pandas as pd\n",
    "import altair as alt\n",
    "from tqdm import tqdm\n",
    "\n",
    "alt.renderers.enable('notebook')\n",
    "alt.data_transformers.enable('json') #enables graphs with more than 5k lines. It stores info in a local file"
   ]
  },
  {
   "cell_type": "code",
   "execution_count": 2,
   "metadata": {},
   "outputs": [],
   "source": [
    "class Simulation:\n",
    "    def __init__(self, genome_length, n_females, n_males, sub_rate, offsprings_per_female=1, fitness_weight=1.0, seed=None):\n",
    "        self.genome_length = genome_length\n",
    "        self.n_females = n_females\n",
    "        self.n_males = n_males\n",
    "        self.sub_rate = sub_rate\n",
    "        self.offsprings_per_female = offsprings_per_female\n",
    "        self.fitness_weight = fitness_weight\n",
    "        self.n_female_sub = int(sub_rate * n_females)\n",
    "        self.n_male_sub = int(sub_rate * n_males)\n",
    "        self.powers = np.array([2**i for i in range(genome_length)])\n",
    "        self.partners = np.zeros(n_females, dtype=np.int)\n",
    "        if seed == None:\n",
    "            seed = int(time.time())\n",
    "        self.seed = seed\n",
    "        np.random.seed(seed)\n",
    "        \n",
    "        \n",
    "    def set_populations(self):\n",
    "        self.females = np.random.randint(0, 2, (self.n_females, self.genome_length))\n",
    "        self.males = np.random.randint(0, 2, (self.n_males, self.genome_length))\n",
    "        \n",
    "        \n",
    "    def calculate_fitness_matrix(self):\n",
    "        return - (self.females.reshape(self.n_females,1,self.genome_length) == self.males).sum(axis=2) * \\\n",
    "                self.fitness_weight + np.abs(self.genome_length - 2 * self.males.sum(1) )\n",
    "\n",
    "    \n",
    "    def select_partners(self):\n",
    "        \"\"\"\n",
    "        Selects the indexes of the right male partner for every female. Equally good partners are\n",
    "        randomly selected\n",
    "        \"\"\"\n",
    "        fitness = self.calculate_fitness_matrix()\n",
    "        maxes = np.max(fitness,axis=1)\n",
    "        for i in range(self.n_females):\n",
    "            self.partners[i] = np.random.choice(np.where(fitness[i,:] == maxes[i])[0],1)\n",
    "            \n",
    "       \n",
    "    def generate_sons(self):\n",
    "        return np.where(np.random.randint(0,2,(self.n_females * self.offsprings_per_female, self.genome_length)),\n",
    "                        self.females[list(range(self.n_females)) * self.offsprings_per_female],\n",
    "                        self.males[list(self.partners) * self.offsprings_per_female])\n",
    "    \n",
    "    \n",
    "    def evolve_full_dump(self, time, stats_dt):\n",
    "        #evolution of the system with a dump of all system info for statistical analysis\n",
    "        stats = pd.DataFrame(columns=['sex','genome','timestep','partner','n_copulations'],\n",
    "                             index=np.arange(time / stats_dt * (self.n_males + self.n_females),dtype=np.int))\n",
    "        progress = 0\n",
    "        for i in range(time):\n",
    "            self.select_partners()\n",
    "            #calculating the statistics:\n",
    "            if(i % stats_dt == 0):\n",
    "                for ind in range(self.n_males):\n",
    "                    stats.loc[progress] = ['M', self.males[ind].dot(self.powers), i, np.nan,(self.partners==ind).sum()]\n",
    "                    progress += 1\n",
    "                for ind in range(self.n_females):\n",
    "                    stats.loc[progress] = ['F', self.females[ind].dot(self.powers), i, self.males[self.partners[ind]].dot(self.powers),np.nan]\n",
    "                    progress += 1\n",
    "                \n",
    "            self.evolution_step()       \n",
    "        #setting the right types for the stats Dataframe\n",
    "        stats.to_csv('test.csv')\n",
    "    \n",
    "    \n",
    "    def evolution_step(self):\n",
    "        #mixing the offsprings in the population NO NATURAL SELECTION IS TAKEN INTO ACCOUT \n",
    "        sons = self.generate_sons()[np.random.choice(self.n_females * self.offsprings_per_female,\n",
    "                                                    self.n_female_sub + self.n_male_sub,\n",
    "                                                    replace=False),:]\n",
    "        self.females[np.random.choice(self.n_females,self.n_female_sub,replace=False),:] = sons[:self.n_female_sub]\n",
    "        self.males[np.random.choice(self.n_males, self.n_male_sub, replace=False),:] = sons[-self.n_male_sub:]\n",
    "\n",
    "    \n",
    "    def sons_statistics(self):\n",
    "#         Distribution of sons for the current male and female population.\n",
    "        sons_count = np.zeros(2 ** self.genome_length)\n",
    "        sons = np.zeros((2 ** self.genome_length, self.genome_length))\n",
    "        self.select_partners()\n",
    "        for ind in range(self.n_females):\n",
    "            for son in product(*np.array([self.males[self.partners[ind]],self.females[ind]]).transpose()):\n",
    "                sons_count[np.array(son).dot(self.powers)] += 1\n",
    "        return sons_count\n",
    "    \n",
    "    def evolve_order_par_stats(self, genome_threshold, length):\n",
    "        n_step = 0\n",
    "        setback = 20\n",
    "        stats = pd.DataFrame(columns=['r2 individuals','r2 genomes'],\n",
    "                             index=np.arange(length),dtype=np.int)\n",
    "        while(n_step < length):\n",
    "            self.select_partners()\n",
    "            stats.loc[n_step] = ((pd.Series(self.partners).value_counts()**2).sum(),\n",
    "                                 (pd.Series(self.males.dot(self.powers)[self.partners]).value_counts()**2).sum())\n",
    "            self.evolution_step()\n",
    "            n_step += 1\n",
    "            if (pd.Series(self.males.dot(self.powers)).nunique() < genome_threshold):\n",
    "                if (n_step < setback):\n",
    "                    n_step = 0\n",
    "                else:\n",
    "                    n_step -= setback\n",
    "                self.set_populations()\n",
    "                print(\"resetting populations as the system collapsed\")\n",
    "        return stats\n",
    "        "
   ]
  },
  {
   "cell_type": "code",
   "execution_count": 68,
   "metadata": {},
   "outputs": [
    {
     "name": "stdout",
     "output_type": "stream",
     "text": [
      "current seed:1558693366\n"
     ]
    }
   ],
   "source": [
    "# Initialization of the simulation. \n",
    "k = Simulation(genome_length=3,\n",
    "               n_females=32,\n",
    "               n_males=32,\n",
    "               sub_rate=0.3,\n",
    "               offsprings_per_female=1,\n",
    "               fitness_weight=1.5\n",
    "#                seed = 1558444788\n",
    "               )\n",
    "print(f\"current seed:{k.seed}\")\n",
    "k.set_populations()\n",
    "#MEMO> seed 1558387779 for genome length 3 , n_females/n_males = 30, sub_rate 0.3 offspring= 1 fitness 1.5 fails aroun 100k"
   ]
  },
  {
   "cell_type": "code",
   "execution_count": 69,
   "metadata": {},
   "outputs": [],
   "source": [
    "# Evolution of the system. Stats are recorded every STAT_STEP steps and are saved in test.csv\n",
    "SIM_LENGTH = 500\n",
    "STAT_STEP = 1\n",
    "k.evolve_full_dump(SIM_LENGTH, STAT_STEP)\n",
    "\n",
    "#preparation of the dataframe needed for visualization\n",
    "stats = pd.read_csv('test.csv')\n",
    "st = stats[['timestep','sex','genome']]"
   ]
  },
  {
   "cell_type": "code",
   "execution_count": 70,
   "metadata": {},
   "outputs": [
    {
     "data": {
      "application/javascript": [
       "var spec = {\"config\": {\"view\": {\"width\": 400, \"height\": 300}}, \"hconcat\": [{\"data\": {\"url\": \"altair-data-5ce12ad8e9ad2643f57268ffa5ebbf03.json\", \"format\": {\"type\": \"json\"}}, \"mark\": \"line\", \"encoding\": {\"color\": {\"type\": \"nominal\", \"field\": \"sex\"}, \"x\": {\"type\": \"quantitative\", \"field\": \"timestep\"}, \"y\": {\"type\": \"quantitative\", \"aggregate\": \"distinct\", \"field\": \"genome\"}}}, {\"data\": {\"url\": \"altair-data-22e25990976a493a646a2b4fa93644d3.json\", \"format\": {\"type\": \"json\"}}, \"mark\": \"line\", \"encoding\": {\"color\": {\"type\": \"nominal\", \"field\": \"sex\"}, \"x\": {\"type\": \"quantitative\", \"field\": \"timestep\"}, \"y\": {\"type\": \"quantitative\", \"field\": \"genome\", \"title\": \"R**2\"}}}], \"$schema\": \"https://vega.github.io/schema/vega-lite/v2.6.0.json\"};\n",
       "var opt = {};\n",
       "var type = \"vega-lite\";\n",
       "var id = \"dab1f9d1-00c1-42a0-b29a-a4625bc6805e\";\n",
       "\n",
       "var output_area = this;\n",
       "\n",
       "require([\"nbextensions/jupyter-vega/index\"], function(vega) {\n",
       "  var target = document.createElement(\"div\");\n",
       "  target.id = id;\n",
       "  target.className = \"vega-embed\";\n",
       "\n",
       "  var style = document.createElement(\"style\");\n",
       "  style.textContent = [\n",
       "    \".vega-embed .error p {\",\n",
       "    \"  color: firebrick;\",\n",
       "    \"  font-size: 14px;\",\n",
       "    \"}\",\n",
       "  ].join(\"\\\\n\");\n",
       "\n",
       "  // element is a jQuery wrapped DOM element inside the output area\n",
       "  // see http://ipython.readthedocs.io/en/stable/api/generated/\\\n",
       "  // IPython.display.html#IPython.display.Javascript.__init__\n",
       "  element[0].appendChild(target);\n",
       "  element[0].appendChild(style);\n",
       "\n",
       "  vega.render(\"#\" + id, spec, type, opt, output_area);\n",
       "}, function (err) {\n",
       "  if (err.requireType !== \"scripterror\") {\n",
       "    throw(err);\n",
       "  }\n",
       "});\n"
      ],
      "text/plain": [
       "<vega.vegalite.VegaLite at 0x7f5b275e0588>"
      ]
     },
     "metadata": {
      "jupyter-vega": "#dab1f9d1-00c1-42a0-b29a-a4625bc6805e"
     },
     "output_type": "display_data"
    },
    {
     "data": {
      "text/plain": []
     },
     "execution_count": 70,
     "metadata": {},
     "output_type": "execute_result"
    },
    {
     "data": {
      "image/png": "[encoded data removed]"
     },
     "metadata": {
      "jupyter-vega": "#dab1f9d1-00c1-42a0-b29a-a4625bc6805e"
     },
     "output_type": "display_data"
    },
    {
     "data": {
      "image/png": "[encoded data removed]"
     },
     "metadata": {
      "jupyter-vega": "#dab1f9d1-00c1-42a0-b29a-a4625bc6805e"
     },
     "output_type": "display_data"
    }
   ],
   "source": [
    "#visualization of variety inside the genome pool and measure of distance from uniform distribution\n",
    "c1 = alt.Chart(stats[['timestep','sex','genome']]).mark_line().encode(\n",
    "    x = 'timestep',\n",
    "    y = 'distinct(genome)',\n",
    "    color = 'sex')\n",
    "\n",
    "r2 = st.groupby(['timestep','sex']).agg(lambda x: (x.value_counts()**2).sum()).reset_index()\n",
    "c2 = alt.Chart(r2).mark_line().encode(\n",
    "    x = 'timestep',\n",
    "    y = alt.Y('genome',title='R**2'),\n",
    "    color = 'sex')\n",
    "\n",
    "c1 |c2"
   ]
  },
  {
   "cell_type": "code",
   "execution_count": 71,
   "metadata": {
    "scrolled": false
   },
   "outputs": [
    {
     "data": {
      "application/javascript": [
       "var spec = {\"config\": {\"view\": {\"width\": 400, \"height\": 300}}, \"hconcat\": [{\"data\": {\"url\": \"altair-data-8b2151e726a8b826f1e0f88f1cf40c6b.json\", \"format\": {\"type\": \"json\"}}, \"mark\": {\"type\": \"bar\", \"opacity\": 0.6}, \"encoding\": {\"color\": {\"type\": \"nominal\", \"field\": \"sex\"}, \"tooltip\": {\"type\": \"quantitative\", \"aggregate\": \"count\"}, \"x\": {\"type\": \"nominal\", \"field\": \"genome\"}, \"y\": {\"type\": \"quantitative\", \"aggregate\": \"count\", \"stack\": null, \"title\": \"population distribution\"}}, \"selection\": {\"timestep\": {\"type\": \"single\", \"fields\": [\"timestep\"], \"bind\": {\"input\": \"range\", \"max\": 500, \"min\": 0, \"step\": 1}}}, \"transform\": [{\"filter\": {\"selection\": \"timestep\"}}]}, {\"data\": {\"url\": \"altair-data-fbf30baab1f427db1ae35350fd3375aa.json\", \"format\": {\"type\": \"json\"}}, \"mark\": \"bar\", \"encoding\": {\"x\": {\"type\": \"nominal\", \"field\": \"genome\"}, \"y\": {\"type\": \"quantitative\", \"aggregate\": \"sum\", \"field\": \"n_copulations\"}}, \"selection\": {\"timestep\": {\"type\": \"single\", \"fields\": [\"timestep\"], \"bind\": {\"input\": \"range\", \"max\": 500, \"min\": 0, \"step\": 1}}}, \"transform\": [{\"filter\": {\"selection\": \"timestep\"}}]}, {\"data\": {\"url\": \"altair-data-da2ca09f07539272b0067c966ad19683.json\", \"format\": {\"type\": \"json\"}}, \"mark\": \"point\", \"encoding\": {\"shape\": {\"type\": \"quantitative\", \"aggregate\": \"count\", \"field\": \"genome\", \"legend\": null, \"title\": \"number of copulations\"}, \"size\": {\"type\": \"quantitative\", \"aggregate\": \"count\", \"field\": \"genome\", \"legend\": null}, \"tooltip\": {\"type\": \"quantitative\", \"aggregate\": \"count\", \"field\": \"genome\"}, \"x\": {\"type\": \"nominal\", \"field\": \"partner\", \"title\": \"male genome\"}, \"y\": {\"type\": \"nominal\", \"field\": \"genome\", \"title\": \"female genome\"}}, \"selection\": {\"timestep\": {\"type\": \"single\", \"fields\": [\"timestep\"], \"bind\": {\"input\": \"range\", \"max\": 500, \"min\": 0, \"step\": 1}}}, \"transform\": [{\"filter\": {\"selection\": \"timestep\"}}]}], \"$schema\": \"https://vega.github.io/schema/vega-lite/v2.6.0.json\"};\n",
       "var opt = {};\n",
       "var type = \"vega-lite\";\n",
       "var id = \"3cbea96b-db5e-46c7-9561-94656072078d\";\n",
       "\n",
       "var output_area = this;\n",
       "\n",
       "require([\"nbextensions/jupyter-vega/index\"], function(vega) {\n",
       "  var target = document.createElement(\"div\");\n",
       "  target.id = id;\n",
       "  target.className = \"vega-embed\";\n",
       "\n",
       "  var style = document.createElement(\"style\");\n",
       "  style.textContent = [\n",
       "    \".vega-embed .error p {\",\n",
       "    \"  color: firebrick;\",\n",
       "    \"  font-size: 14px;\",\n",
       "    \"}\",\n",
       "  ].join(\"\\\\n\");\n",
       "\n",
       "  // element is a jQuery wrapped DOM element inside the output area\n",
       "  // see http://ipython.readthedocs.io/en/stable/api/generated/\\\n",
       "  // IPython.display.html#IPython.display.Javascript.__init__\n",
       "  element[0].appendChild(target);\n",
       "  element[0].appendChild(style);\n",
       "\n",
       "  vega.render(\"#\" + id, spec, type, opt, output_area);\n",
       "}, function (err) {\n",
       "  if (err.requireType !== \"scripterror\") {\n",
       "    throw(err);\n",
       "  }\n",
       "});\n"
      ],
      "text/plain": [
       "<vega.vegalite.VegaLite at 0x7f5b275ff860>"
      ]
     },
     "metadata": {
      "jupyter-vega": "#3cbea96b-db5e-46c7-9561-94656072078d"
     },
     "output_type": "display_data"
    },
    {
     "data": {
      "text/plain": []
     },
     "execution_count": 71,
     "metadata": {},
     "output_type": "execute_result"
    },
    {
     "data": {
      "image/png": "[encoded data removed]"
     },
     "metadata": {
      "jupyter-vega": "#3cbea96b-db5e-46c7-9561-94656072078d"
     },
     "output_type": "display_data"
    },
    {
     "data": {
      "image/png": "[encoded data removed]"
     },
     "metadata": {
      "jupyter-vega": "#3cbea96b-db5e-46c7-9561-94656072078d"
     },
     "output_type": "display_data"
    }
   ],
   "source": [
    "#visualization of populations for both sexes and reproductive success of males based on their genome\n",
    "\n",
    "copulations = stats.drop(['partner','Unnamed: 0'],axis=1)[stats['sex'] ==\"M\"]\n",
    "slider = alt.binding_range(min=0, max=SIM_LENGTH, step=STAT_STEP)\n",
    "select_timestep = alt.selection_single(name=\"timestep\", fields=['timestep'],\n",
    "                                       bind=slider)\n",
    "\n",
    "c_pops = alt.Chart(stats).mark_bar(opacity=0.6).encode(\n",
    "    x = 'genome:N',\n",
    "    y = alt.Y('count()', stack=None, title='population distribution'),\n",
    "    color = alt.Color('sex'),\n",
    "    tooltip = 'count()'\n",
    ").add_selection(\n",
    "    select_timestep\n",
    ").transform_filter(\n",
    "    select_timestep\n",
    ")\n",
    "\n",
    "c_copulations = alt.Chart(copulations).mark_bar().encode(\n",
    "    x = 'genome:N',\n",
    "    y = 'sum(n_copulations)'\n",
    ").add_selection(\n",
    "    select_timestep\n",
    ").transform_filter(\n",
    "    select_timestep\n",
    ")\n",
    "fem_cop = stats[stats['sex'] ==\"F\"].drop(['Unnamed: 0','n_copulations','sex'],axis=1)\n",
    "c_fem_cop = alt.Chart(fem_cop).mark_point().encode(\n",
    "    x = alt.X('partner:N',title='male genome'),\n",
    "    y = alt.Y('genome:N',title='female genome'),\n",
    "    size = alt.Size('count(genome)', legend=None),\n",
    "    shape = alt.Shape('count(genome)',title='number of copulations',legend=None),\n",
    "    tooltip = 'count(genome)'\n",
    ").add_selection(\n",
    "    select_timestep\n",
    ").transform_filter(\n",
    "    select_timestep\n",
    ")\n",
    "\n",
    "c_pops | c_copulations | c_fem_cop"
   ]
  },
  {
   "cell_type": "code",
   "execution_count": 72,
   "metadata": {},
   "outputs": [
    {
     "data": {
      "application/javascript": [
       "var spec = {\"config\": {\"view\": {\"width\": 400, \"height\": 300}}, \"data\": {\"url\": \"altair-data-a8713cde551f3e327855f6bbfe8ab8ce.json\", \"format\": {\"type\": \"json\"}}, \"mark\": \"bar\", \"encoding\": {\"tooltip\": {\"type\": \"quantitative\", \"aggregate\": \"distinct\", \"field\": \"key\"}, \"x\": {\"type\": \"quantitative\", \"field\": \"n_copulations\"}, \"y\": {\"type\": \"quantitative\", \"aggregate\": \"distinct\", \"field\": \"key\"}}, \"selection\": {\"timestep\": {\"type\": \"single\", \"fields\": [\"timestep\"], \"bind\": {\"input\": \"range\", \"max\": 500, \"min\": 0, \"step\": 1}}}, \"transform\": [{\"filter\": {\"selection\": \"timestep\"}}], \"$schema\": \"https://vega.github.io/schema/vega-lite/v2.6.0.json\"};\n",
       "var opt = {};\n",
       "var type = \"vega-lite\";\n",
       "var id = \"2ebed811-2dd7-4929-9131-189e21778764\";\n",
       "\n",
       "var output_area = this;\n",
       "\n",
       "require([\"nbextensions/jupyter-vega/index\"], function(vega) {\n",
       "  var target = document.createElement(\"div\");\n",
       "  target.id = id;\n",
       "  target.className = \"vega-embed\";\n",
       "\n",
       "  var style = document.createElement(\"style\");\n",
       "  style.textContent = [\n",
       "    \".vega-embed .error p {\",\n",
       "    \"  color: firebrick;\",\n",
       "    \"  font-size: 14px;\",\n",
       "    \"}\",\n",
       "  ].join(\"\\\\n\");\n",
       "\n",
       "  // element is a jQuery wrapped DOM element inside the output area\n",
       "  // see http://ipython.readthedocs.io/en/stable/api/generated/\\\n",
       "  // IPython.display.html#IPython.display.Javascript.__init__\n",
       "  element[0].appendChild(target);\n",
       "  element[0].appendChild(style);\n",
       "\n",
       "  vega.render(\"#\" + id, spec, type, opt, output_area);\n",
       "}, function (err) {\n",
       "  if (err.requireType !== \"scripterror\") {\n",
       "    throw(err);\n",
       "  }\n",
       "});\n"
      ],
      "text/plain": [
       "<vega.vegalite.VegaLite at 0x7f5b271ec5f8>"
      ]
     },
     "metadata": {
      "jupyter-vega": "#2ebed811-2dd7-4929-9131-189e21778764"
     },
     "output_type": "display_data"
    },
    {
     "data": {
      "text/plain": []
     },
     "execution_count": 72,
     "metadata": {},
     "output_type": "execute_result"
    },
    {
     "data": {
      "image/png": "[encoded data removed]"
     },
     "metadata": {
      "jupyter-vega": "#2ebed811-2dd7-4929-9131-189e21778764"
     },
     "output_type": "display_data"
    },
    {
     "data": {
      "image/png": "[encoded data removed]"
     },
     "metadata": {
      "jupyter-vega": "#2ebed811-2dd7-4929-9131-189e21778764"
     },
     "output_type": "display_data"
    }
   ],
   "source": [
    "#Copulation distributions\n",
    "\n",
    "\"\"\"\n",
    "import powerlaw \n",
    "\n",
    "fit = powerlaw.Fit(cop_ind_dist[['n_copulations']],xmin=1,discrete=True,estimate_discrete=True)\n",
    "fit.plot_pdf()\n",
    "fit.power_law.plot_pdf(linestyle='--')\"\"\"\n",
    "\n",
    "\n",
    "slider = alt.binding_range(min=0, max=SIM_LENGTH, step=STAT_STEP)\n",
    "select_timestep = alt.selection_single(name=\"timestep\", fields=['timestep'],\n",
    "                                       bind=slider)\n",
    "\n",
    "cop_ind_dist = stats.rename(columns={'Unnamed: 0':'key'})[stats['sex']=='M'].drop(['partner','sex'],axis=1)\n",
    "alt.Chart(cop_ind_dist).mark_bar().encode(\n",
    "    x = 'n_copulations',\n",
    "    y = 'distinct(key)',\n",
    "    tooltip = 'distinct(key)'\n",
    ").add_selection(\n",
    "    select_timestep\n",
    ").transform_filter(\n",
    "    select_timestep\n",
    ")\n"
   ]
  },
  {
   "cell_type": "code",
   "execution_count": 73,
   "metadata": {
    "scrolled": true
   },
   "outputs": [
    {
     "data": {
      "text/html": [
       "<div>\n",
       "<style scoped>\n",
       "    .dataframe tbody tr th:only-of-type {\n",
       "        vertical-align: middle;\n",
       "    }\n",
       "\n",
       "    .dataframe tbody tr th {\n",
       "        vertical-align: top;\n",
       "    }\n",
       "\n",
       "    .dataframe thead th {\n",
       "        text-align: right;\n",
       "    }\n",
       "</style>\n",
       "<table border=\"1\" class=\"dataframe\">\n",
       "  <thead>\n",
       "    <tr style=\"text-align: right;\">\n",
       "      <th></th>\n",
       "      <th>n_copulations</th>\n",
       "    </tr>\n",
       "  </thead>\n",
       "  <tbody>\n",
       "    <tr>\n",
       "      <th>count</th>\n",
       "      <td>500.0000</td>\n",
       "    </tr>\n",
       "    <tr>\n",
       "      <th>mean</th>\n",
       "      <td>185.2240</td>\n",
       "    </tr>\n",
       "    <tr>\n",
       "      <th>std</th>\n",
       "      <td>79.5669</td>\n",
       "    </tr>\n",
       "    <tr>\n",
       "      <th>min</th>\n",
       "      <td>74.0000</td>\n",
       "    </tr>\n",
       "    <tr>\n",
       "      <th>25%</th>\n",
       "      <td>134.0000</td>\n",
       "    </tr>\n",
       "    <tr>\n",
       "      <th>50%</th>\n",
       "      <td>163.0000</td>\n",
       "    </tr>\n",
       "    <tr>\n",
       "      <th>75%</th>\n",
       "      <td>206.0000</td>\n",
       "    </tr>\n",
       "    <tr>\n",
       "      <th>max</th>\n",
       "      <td>562.0000</td>\n",
       "    </tr>\n",
       "  </tbody>\n",
       "</table>\n",
       "</div>"
      ],
      "text/plain": [
       "       n_copulations\n",
       "count       500.0000\n",
       "mean        185.2240\n",
       "std          79.5669\n",
       "min          74.0000\n",
       "25%         134.0000\n",
       "50%         163.0000\n",
       "75%         206.0000\n",
       "max         562.0000"
      ]
     },
     "execution_count": 73,
     "metadata": {},
     "output_type": "execute_result"
    }
   ],
   "source": [
    "cop_ind_dist.drop(['genome','key'],axis=1).groupby('timestep').agg(lambda x: x.dot(x)).describe()"
   ]
  },
  {
   "cell_type": "code",
   "execution_count": 64,
   "metadata": {},
   "outputs": [],
   "source": [
    "#Code needed to explore sons distribution at fixed female and male populations.\n",
    "\n",
    "\n",
    "# # k.males = np.array( [list(np.binary_repr(n,3)) for n in range(2**3)],dtype=int)\n",
    "# k.females = np.array(([0,0,0],[0,0,0]))\n",
    "# plt.plot(range(8),k.sons_statistics(),label='sons genetic distribution')\n",
    "# plt.hist([k.males[i].dot(k.powers) for i in k.select_partners()], bins=np.arange(-0.5,8.5,1),label='partners')\n",
    "# plt.legend()\n",
    "\n",
    "#For histograms from pd.Series use value_counts( )"
   ]
  },
  {
   "cell_type": "code",
   "execution_count": 37,
   "metadata": {},
   "outputs": [
    {
     "name": "stdout",
     "output_type": "stream",
     "text": [
      "means and avg:r2 individuals    191.576\n",
      "r2 genomes        514.220\n",
      "dtype: float64 r2 individuals    76.536527\n",
      "r2 genomes        46.974086\n",
      "dtype: float64\n"
     ]
    },
    {
     "data": {
      "image/png": "[encoded data removed]",
      "text/plain": [
       "<matplotlib.figure.Figure at 0x7f5b275e0ef0>"
      ]
     },
     "metadata": {},
     "output_type": "display_data"
    }
   ],
   "source": [
    "st = k.evolve_order_par_stats(4,500)\n",
    "plt.plot(st['r2 individuals'],label='individuals')\n",
    "plt.plot(st['r2 genomes'],lasbel='genome')\n",
    "plt.legend()\n",
    "print(f\"means and avg:{st.mean()} {st.std()}\")"
   ]
  },
  {
   "cell_type": "code",
   "execution_count": 7,
   "metadata": {},
   "outputs": [
    {
     "name": "stderr",
     "output_type": "stream",
     "text": [
      "\n",
      "  0%|          | 0/100 [00:00<?, ?it/s]\u001b[A"
     ]
    },
    {
     "name": "stdout",
     "output_type": "stream",
     "text": [
      "ind0 with weight 1.5\n"
     ]
    },
    {
     "name": "stderr",
     "output_type": "stream",
     "text": [
      "\n",
      "100%|██████████| 100/100 [09:49<00:00,  5.90s/it]\n",
      "  0%|          | 0/100 [00:00<?, ?it/s]"
     ]
    },
    {
     "name": "stdout",
     "output_type": "stream",
     "text": [
      "ind1 with weight 2\n"
     ]
    },
    {
     "name": "stderr",
     "output_type": "stream",
     "text": [
      "100%|██████████| 100/100 [10:02<00:00,  6.03s/it]\n",
      "  0%|          | 0/100 [00:00<?, ?it/s]"
     ]
    },
    {
     "name": "stdout",
     "output_type": "stream",
     "text": [
      "ind2 with weight 2.5\n"
     ]
    },
    {
     "name": "stderr",
     "output_type": "stream",
     "text": [
      "100%|██████████| 100/100 [10:03<00:00,  6.04s/it]\n"
     ]
    },
    {
     "data": {
      "text/plain": [
       "array([[ 787.00852   , 5070.00976   ,  235.9177176 ,  117.97970918],\n",
       "       [ 344.07788   , 1710.03268   ,   48.84679302,  329.63525746],\n",
       "       [ 221.22812   ,  720.34316   ,   24.48819444,   35.7059142 ]])"
      ]
     },
     "execution_count": 7,
     "metadata": {},
     "output_type": "execute_result"
    }
   ],
   "source": [
    "#ORDER PARAMETER DETERMINATION\n",
    "runs=100\n",
    "length=500\n",
    "\n",
    "points = np.zeros((3,4))\n",
    "for ind, weight in zip(range(3),[1.5,2,2.5]):\n",
    "    vals = np.zeros((runs,4)) #cols 0 and 1 are means, cols 2 and 3 are the stdo\n",
    "    print(f'ind{ind} with weight {weight}')\n",
    "    for i in tqdm(range(runs)):\n",
    "        sim = Simulation(genome_length=4,\n",
    "                         n_females=100,\n",
    "                         n_males=100,\n",
    "                         sub_rate=0.3,\n",
    "                         offsprings_per_female=1,\n",
    "                         fitness_weight=weight\n",
    "                        )\n",
    "        sim.set_populations()\n",
    "        st = sim.evolve_order_par_stats(4,length)\n",
    "        vals[i] = (*st.mean(), *st.std())\n",
    "    points[ind] = vals.mean(axis=0)\n",
    "points"
   ]
  },
  {
   "cell_type": "code",
   "execution_count": 9,
   "metadata": {},
   "outputs": [],
   "source": [
    "data = pd.DataFrame(columns=['weight','mean individual r2','mean genome r2','std individual r2','std genome r2'],index=range(3))\n",
    "for weight, index, line in zip([1.5,2,2.5],range(3),points):\n",
    "    data.loc[index] = (weight,*line)\n",
    "    "
   ]
  },
  {
   "cell_type": "code",
   "execution_count": 14,
   "metadata": {},
   "outputs": [],
   "source": [
    "data2 = pd.DataFrame(points,columns=['mean individual r2','mean genome r2','std individual r2','std genome r2'])"
   ]
  },
  {
   "cell_type": "code",
   "execution_count": 22,
   "metadata": {},
   "outputs": [
    {
     "data": {
      "application/javascript": [
       "var spec = {\"config\": {\"view\": {\"width\": 400, \"height\": 300}}, \"data\": {\"url\": \"altair-data-caf7ad9e2d298c678b4d75761195fe0f.json\", \"format\": {\"type\": \"json\"}}, \"mark\": \"bar\", \"encoding\": {\"x\": {\"type\": \"quantitative\", \"bin\": true, \"field\": \"mean gen r2\"}, \"y\": {\"type\": \"quantitative\", \"aggregate\": \"count\"}}, \"$schema\": \"https://vega.github.io/schema/vega-lite/v2.6.0.json\"};\n",
       "var opt = {};\n",
       "var type = \"vega-lite\";\n",
       "var id = \"c2fa5900-188b-46c8-97be-5ffa95a2a778\";\n",
       "\n",
       "var output_area = this;\n",
       "\n",
       "require([\"nbextensions/jupyter-vega/index\"], function(vega) {\n",
       "  var target = document.createElement(\"div\");\n",
       "  target.id = id;\n",
       "  target.className = \"vega-embed\";\n",
       "\n",
       "  var style = document.createElement(\"style\");\n",
       "  style.textContent = [\n",
       "    \".vega-embed .error p {\",\n",
       "    \"  color: firebrick;\",\n",
       "    \"  font-size: 14px;\",\n",
       "    \"}\",\n",
       "  ].join(\"\\\\n\");\n",
       "\n",
       "  // element is a jQuery wrapped DOM element inside the output area\n",
       "  // see http://ipython.readthedocs.io/en/stable/api/generated/\\\n",
       "  // IPython.display.html#IPython.display.Javascript.__init__\n",
       "  element[0].appendChild(target);\n",
       "  element[0].appendChild(style);\n",
       "\n",
       "  vega.render(\"#\" + id, spec, type, opt, output_area);\n",
       "}, function (err) {\n",
       "  if (err.requireType !== \"scripterror\") {\n",
       "    throw(err);\n",
       "  }\n",
       "});\n"
      ],
      "text/plain": [
       "<vega.vegalite.VegaLite at 0x7f3a9982c748>"
      ]
     },
     "metadata": {
      "jupyter-vega": "#c2fa5900-188b-46c8-97be-5ffa95a2a778"
     },
     "output_type": "display_data"
    },
    {
     "data": {
      "text/plain": []
     },
     "execution_count": 22,
     "metadata": {},
     "output_type": "execute_result"
    },
    {
     "data": {
      "image/png": "[encoded data removed]"
     },
     "metadata": {
      "jupyter-vega": "#c2fa5900-188b-46c8-97be-5ffa95a2a778"
     },
     "output_type": "display_data"
    }
   ],
   "source": [
    "alt.Chart(pd.DataFrame(vals,columns=['mean ind r2','mean gen r2','std ind','std gen'])).mark_bar().encode(\n",
    "    x = alt.X('mean gen r2',bin=True),\n",
    "    y = 'count()')"
   ]
  },
  {
   "cell_type": "code",
   "execution_count": 16,
   "metadata": {},
   "outputs": [],
   "source": [
    "data.to_csv('100runs500length100pop4g.csv')"
   ]
  },
  {
   "cell_type": "code",
   "execution_count": 23,
   "metadata": {},
   "outputs": [
    {
     "data": {
      "text/plain": [
       "array([[0., 0., 0.],\n",
       "       [1., 0., 0.],\n",
       "       [1., 0., 0.],\n",
       "       [0., 0., 0.],\n",
       "       [0., 0., 0.]])"
      ]
     },
     "execution_count": 23,
     "metadata": {},
     "output_type": "execute_result"
    }
   ],
   "source": [
    "data = np.zeros((5,3))\n",
    "data[1:3,0]= 1\n",
    "data"
   ]
  },
  {
   "cell_type": "code",
   "execution_count": 24,
   "metadata": {
    "scrolled": true
   },
   "outputs": [
    {
     "name": "stdout",
     "output_type": "stream",
     "text": [
      "0 a\n",
      "1 b\n",
      "2 c\n"
     ]
    }
   ],
   "source": [
    "a = ['a','b','c']\n",
    "for ind, k in enumerate(a):\n",
    "    print(ind,k)"
   ]
  },
  {
   "cell_type": "code",
   "execution_count": 34,
   "metadata": {},
   "outputs": [
    {
     "name": "stderr",
     "output_type": "stream",
     "text": [
      "\r",
      "  0%|          | 0/100 [00:00<?, ?it/s]"
     ]
    },
    {
     "name": "stdout",
     "output_type": "stream",
     "text": [
      "resetting populations as the system collapsed\n",
      "resetting populations as the system collapsed\n",
      "resetting populations as the system collapsed\n",
      "resetting populations as the system collapsed\n",
      "resetting populations as the system collapsed\n",
      "resetting populations as the system collapsed\n",
      "resetting populations as the system collapsed\n",
      "resetting populations as the system collapsed\n",
      "resetting populations as the system collapsed\n",
      "resetting populations as the system collapsed\n",
      "resetting populations as the system collapsed\n",
      "resetting populations as the system collapsed\n",
      "resetting populations as the system collapsed\n",
      "resetting populations as the system collapsed\n",
      "resetting populations as the system collapsed\n",
      "resetting populations as the system collapsed\n",
      "resetting populations as the system collapsed\n",
      "resetting populations as the system collapsed\n",
      "resetting populations as the system collapsed\n",
      "resetting populations as the system collapsed\n",
      "resetting populations as the system collapsed\n",
      "resetting populations as the system collapsed\n",
      "resetting populations as the system collapsed\n",
      "resetting populations as the system collapsed\n",
      "resetting populations as the system collapsed\n",
      "resetting populations as the system collapsed\n",
      "resetting populations as the system collapsed\n",
      "resetting populations as the system collapsed\n",
      "resetting populations as the system collapsed\n"
     ]
    },
    {
     "name": "stderr",
     "output_type": "stream",
     "text": [
      "\r",
      "  1%|          | 1/100 [00:06<11:13,  6.81s/it]"
     ]
    },
    {
     "name": "stdout",
     "output_type": "stream",
     "text": [
      "resetting populations as the system collapsed\n",
      "resetting populations as the system collapsed\n",
      "resetting populations as the system collapsed\n",
      "resetting populations as the system collapsed\n",
      "resetting populations as the system collapsed\n",
      "resetting populations as the system collapsed\n",
      "resetting populations as the system collapsed\n",
      "resetting populations as the system collapsed\n",
      "resetting populations as the system collapsed\n",
      "resetting populations as the system collapsed\n",
      "resetting populations as the system collapsed\n",
      "resetting populations as the system collapsed\n",
      "resetting populations as the system collapsed\n",
      "resetting populations as the system collapsed\n",
      "resetting populations as the system collapsed\n",
      "resetting populations as the system collapsed\n",
      "resetting populations as the system collapsed\n",
      "resetting populations as the system collapsed\n",
      "resetting populations as the system collapsed\n",
      "resetting populations as the system collapsed\n",
      "resetting populations as the system collapsed\n"
     ]
    },
    {
     "name": "stderr",
     "output_type": "stream",
     "text": [
      "\r",
      "  2%|▏         | 2/100 [00:12<10:17,  6.30s/it]"
     ]
    },
    {
     "name": "stdout",
     "output_type": "stream",
     "text": [
      "resetting populations as the system collapsed\n",
      "resetting populations as the system collapsed\n",
      "resetting populations as the system collapsed\n",
      "resetting populations as the system collapsed\n",
      "resetting populations as the system collapsed\n",
      "resetting populations as the system collapsed\n",
      "resetting populations as the system collapsed\n",
      "resetting populations as the system collapsed\n",
      "resetting populations as the system collapsed\n",
      "resetting populations as the system collapsed\n",
      "resetting populations as the system collapsed\n",
      "resetting populations as the system collapsed\n",
      "resetting populations as the system collapsed\n",
      "resetting populations as the system collapsed\n",
      "resetting populations as the system collapsed\n",
      "resetting populations as the system collapsed\n",
      "resetting populations as the system collapsed\n",
      "resetting populations as the system collapsed\n",
      "resetting populations as the system collapsed\n",
      "resetting populations as the system collapsed\n",
      "resetting populations as the system collapsed\n",
      "resetting populations as the system collapsed\n",
      "resetting populations as the system collapsed\n",
      "resetting populations as the system collapsed\n",
      "resetting populations as the system collapsed\n",
      "resetting populations as the system collapsed\n",
      "resetting populations as the system collapsed\n",
      "resetting populations as the system collapsed\n",
      "resetting populations as the system collapsed\n",
      "resetting populations as the system collapsed\n",
      "resetting populations as the system collapsed\n",
      "resetting populations as the system collapsed\n",
      "resetting populations as the system collapsed\n",
      "resetting populations as the system collapsed\n",
      "resetting populations as the system collapsed\n",
      "resetting populations as the system collapsed\n",
      "resetting populations as the system collapsed\n",
      "resetting populations as the system collapsed\n",
      "resetting populations as the system collapsed\n",
      "resetting populations as the system collapsed\n",
      "resetting populations as the system collapsed\n",
      "resetting populations as the system collapsed\n",
      "resetting populations as the system collapsed\n",
      "resetting populations as the system collapsed\n"
     ]
    },
    {
     "name": "stderr",
     "output_type": "stream",
     "text": [
      "\r",
      "  3%|▎         | 3/100 [00:21<11:26,  7.07s/it]"
     ]
    },
    {
     "name": "stdout",
     "output_type": "stream",
     "text": [
      "resetting populations as the system collapsed\n",
      "resetting populations as the system collapsed\n",
      "resetting populations as the system collapsed\n",
      "resetting populations as the system collapsed\n",
      "resetting populations as the system collapsed\n",
      "resetting populations as the system collapsed\n",
      "resetting populations as the system collapsed\n",
      "resetting populations as the system collapsed\n",
      "resetting populations as the system collapsed\n",
      "resetting populations as the system collapsed\n",
      "resetting populations as the system collapsed\n",
      "resetting populations as the system collapsed\n",
      "resetting populations as the system collapsed\n",
      "resetting populations as the system collapsed\n",
      "resetting populations as the system collapsed\n",
      "resetting populations as the system collapsed\n",
      "resetting populations as the system collapsed\n",
      "resetting populations as the system collapsed\n",
      "resetting populations as the system collapsed\n",
      "resetting populations as the system collapsed\n",
      "resetting populations as the system collapsed\n"
     ]
    },
    {
     "name": "stderr",
     "output_type": "stream",
     "text": [
      "\r",
      "  4%|▍         | 4/100 [00:26<10:46,  6.74s/it]"
     ]
    },
    {
     "name": "stdout",
     "output_type": "stream",
     "text": [
      "resetting populations as the system collapsed\n",
      "resetting populations as the system collapsed\n",
      "resetting populations as the system collapsed\n",
      "resetting populations as the system collapsed\n",
      "resetting populations as the system collapsed\n",
      "resetting populations as the system collapsed\n",
      "resetting populations as the system collapsed\n",
      "resetting populations as the system collapsed\n",
      "resetting populations as the system collapsed\n",
      "resetting populations as the system collapsed\n",
      "resetting populations as the system collapsed\n",
      "resetting populations as the system collapsed\n",
      "resetting populations as the system collapsed\n",
      "resetting populations as the system collapsed\n",
      "resetting populations as the system collapsed\n",
      "resetting populations as the system collapsed\n",
      "resetting populations as the system collapsed\n",
      "resetting populations as the system collapsed\n",
      "resetting populations as the system collapsed\n",
      "resetting populations as the system collapsed\n",
      "resetting populations as the system collapsed\n",
      "resetting populations as the system collapsed\n",
      "resetting populations as the system collapsed\n",
      "resetting populations as the system collapsed\n",
      "resetting populations as the system collapsed\n",
      "resetting populations as the system collapsed\n"
     ]
    },
    {
     "name": "stderr",
     "output_type": "stream",
     "text": [
      "\r",
      "  5%|▌         | 5/100 [00:33<10:30,  6.64s/it]"
     ]
    },
    {
     "name": "stdout",
     "output_type": "stream",
     "text": [
      "resetting populations as the system collapsed\n",
      "resetting populations as the system collapsed\n",
      "resetting populations as the system collapsed\n",
      "resetting populations as the system collapsed\n",
      "resetting populations as the system collapsed\n",
      "resetting populations as the system collapsed\n",
      "resetting populations as the system collapsed\n",
      "resetting populations as the system collapsed\n",
      "resetting populations as the system collapsed\n",
      "resetting populations as the system collapsed\n",
      "resetting populations as the system collapsed\n",
      "resetting populations as the system collapsed\n",
      "resetting populations as the system collapsed\n",
      "resetting populations as the system collapsed\n",
      "resetting populations as the system collapsed\n",
      "resetting populations as the system collapsed\n",
      "resetting populations as the system collapsed\n",
      "resetting populations as the system collapsed\n",
      "resetting populations as the system collapsed\n",
      "resetting populations as the system collapsed\n",
      "resetting populations as the system collapsed\n",
      "resetting populations as the system collapsed\n",
      "resetting populations as the system collapsed\n",
      "resetting populations as the system collapsed\n",
      "resetting populations as the system collapsed\n",
      "resetting populations as the system collapsed\n",
      "resetting populations as the system collapsed\n",
      "resetting populations as the system collapsed\n"
     ]
    },
    {
     "name": "stderr",
     "output_type": "stream",
     "text": [
      "\r",
      "  6%|▌         | 6/100 [00:39<10:24,  6.64s/it]"
     ]
    },
    {
     "name": "stdout",
     "output_type": "stream",
     "text": [
      "resetting populations as the system collapsed\n",
      "resetting populations as the system collapsed\n",
      "resetting populations as the system collapsed\n",
      "resetting populations as the system collapsed\n",
      "resetting populations as the system collapsed\n",
      "resetting populations as the system collapsed\n",
      "resetting populations as the system collapsed\n",
      "resetting populations as the system collapsed\n",
      "resetting populations as the system collapsed\n",
      "resetting populations as the system collapsed\n",
      "resetting populations as the system collapsed\n",
      "resetting populations as the system collapsed\n",
      "resetting populations as the system collapsed\n",
      "resetting populations as the system collapsed\n",
      "resetting populations as the system collapsed\n",
      "resetting populations as the system collapsed\n",
      "resetting populations as the system collapsed\n",
      "resetting populations as the system collapsed\n",
      "resetting populations as the system collapsed\n",
      "resetting populations as the system collapsed\n",
      "resetting populations as the system collapsed\n",
      "resetting populations as the system collapsed\n",
      "resetting populations as the system collapsed\n",
      "resetting populations as the system collapsed\n",
      "resetting populations as the system collapsed\n",
      "resetting populations as the system collapsed\n",
      "resetting populations as the system collapsed\n",
      "resetting populations as the system collapsed\n",
      "resetting populations as the system collapsed\n",
      "resetting populations as the system collapsed\n",
      "resetting populations as the system collapsed\n",
      "resetting populations as the system collapsed\n",
      "resetting populations as the system collapsed\n",
      "resetting populations as the system collapsed\n"
     ]
    },
    {
     "name": "stderr",
     "output_type": "stream",
     "text": [
      "\r",
      "  7%|▋         | 7/100 [00:47<10:25,  6.73s/it]"
     ]
    },
    {
     "name": "stdout",
     "output_type": "stream",
     "text": [
      "resetting populations as the system collapsed\n",
      "resetting populations as the system collapsed\n",
      "resetting populations as the system collapsed\n",
      "resetting populations as the system collapsed\n",
      "resetting populations as the system collapsed\n",
      "resetting populations as the system collapsed\n",
      "resetting populations as the system collapsed\n",
      "resetting populations as the system collapsed\n",
      "resetting populations as the system collapsed\n",
      "resetting populations as the system collapsed\n",
      "resetting populations as the system collapsed\n",
      "resetting populations as the system collapsed\n",
      "resetting populations as the system collapsed\n",
      "resetting populations as the system collapsed\n",
      "resetting populations as the system collapsed\n",
      "resetting populations as the system collapsed\n",
      "resetting populations as the system collapsed\n",
      "resetting populations as the system collapsed\n",
      "resetting populations as the system collapsed\n",
      "resetting populations as the system collapsed\n",
      "resetting populations as the system collapsed\n",
      "resetting populations as the system collapsed\n",
      "resetting populations as the system collapsed\n",
      "resetting populations as the system collapsed\n",
      "resetting populations as the system collapsed\n",
      "resetting populations as the system collapsed\n",
      "resetting populations as the system collapsed\n",
      "resetting populations as the system collapsed\n",
      "resetting populations as the system collapsed\n",
      "resetting populations as the system collapsed\n",
      "resetting populations as the system collapsed\n",
      "resetting populations as the system collapsed\n"
     ]
    },
    {
     "name": "stderr",
     "output_type": "stream",
     "text": [
      "\r",
      "  8%|▊         | 8/100 [00:54<10:24,  6.79s/it]"
     ]
    },
    {
     "name": "stdout",
     "output_type": "stream",
     "text": [
      "resetting populations as the system collapsed\n",
      "resetting populations as the system collapsed\n",
      "resetting populations as the system collapsed\n",
      "resetting populations as the system collapsed\n",
      "resetting populations as the system collapsed\n",
      "resetting populations as the system collapsed\n",
      "resetting populations as the system collapsed\n",
      "resetting populations as the system collapsed\n",
      "resetting populations as the system collapsed\n",
      "resetting populations as the system collapsed\n",
      "resetting populations as the system collapsed\n",
      "resetting populations as the system collapsed\n",
      "resetting populations as the system collapsed\n",
      "resetting populations as the system collapsed\n",
      "resetting populations as the system collapsed\n",
      "resetting populations as the system collapsed\n",
      "resetting populations as the system collapsed\n",
      "resetting populations as the system collapsed\n",
      "resetting populations as the system collapsed\n",
      "resetting populations as the system collapsed\n",
      "resetting populations as the system collapsed\n",
      "resetting populations as the system collapsed\n",
      "resetting populations as the system collapsed\n",
      "resetting populations as the system collapsed\n",
      "resetting populations as the system collapsed\n",
      "resetting populations as the system collapsed\n",
      "resetting populations as the system collapsed\n",
      "resetting populations as the system collapsed\n",
      "resetting populations as the system collapsed\n",
      "resetting populations as the system collapsed\n",
      "resetting populations as the system collapsed\n",
      "resetting populations as the system collapsed\n",
      "resetting populations as the system collapsed\n",
      "resetting populations as the system collapsed\n",
      "resetting populations as the system collapsed\n",
      "resetting populations as the system collapsed\n",
      "resetting populations as the system collapsed\n",
      "resetting populations as the system collapsed\n",
      "resetting populations as the system collapsed\n",
      "resetting populations as the system collapsed\n",
      "resetting populations as the system collapsed\n",
      "resetting populations as the system collapsed\n"
     ]
    },
    {
     "name": "stderr",
     "output_type": "stream",
     "text": [
      "\r",
      "  9%|▉         | 9/100 [01:02<10:32,  6.95s/it]"
     ]
    },
    {
     "name": "stdout",
     "output_type": "stream",
     "text": [
      "resetting populations as the system collapsed\n",
      "resetting populations as the system collapsed\n",
      "resetting populations as the system collapsed\n",
      "resetting populations as the system collapsed\n",
      "resetting populations as the system collapsed\n",
      "resetting populations as the system collapsed\n",
      "resetting populations as the system collapsed\n",
      "resetting populations as the system collapsed\n",
      "resetting populations as the system collapsed\n",
      "resetting populations as the system collapsed\n",
      "resetting populations as the system collapsed\n",
      "resetting populations as the system collapsed\n",
      "resetting populations as the system collapsed\n",
      "resetting populations as the system collapsed\n",
      "resetting populations as the system collapsed\n",
      "resetting populations as the system collapsed\n",
      "resetting populations as the system collapsed\n",
      "resetting populations as the system collapsed\n",
      "resetting populations as the system collapsed\n",
      "resetting populations as the system collapsed\n",
      "resetting populations as the system collapsed\n",
      "resetting populations as the system collapsed\n",
      "resetting populations as the system collapsed\n"
     ]
    },
    {
     "name": "stderr",
     "output_type": "stream",
     "text": [
      "\r",
      " 10%|█         | 10/100 [01:08<10:16,  6.85s/it]"
     ]
    },
    {
     "name": "stdout",
     "output_type": "stream",
     "text": [
      "resetting populations as the system collapsed\n",
      "resetting populations as the system collapsed\n",
      "resetting populations as the system collapsed\n",
      "resetting populations as the system collapsed\n",
      "resetting populations as the system collapsed\n",
      "resetting populations as the system collapsed\n",
      "resetting populations as the system collapsed\n",
      "resetting populations as the system collapsed\n",
      "resetting populations as the system collapsed\n",
      "resetting populations as the system collapsed\n",
      "resetting populations as the system collapsed\n",
      "resetting populations as the system collapsed\n",
      "resetting populations as the system collapsed\n",
      "resetting populations as the system collapsed\n",
      "resetting populations as the system collapsed\n",
      "resetting populations as the system collapsed\n",
      "resetting populations as the system collapsed\n",
      "resetting populations as the system collapsed\n",
      "resetting populations as the system collapsed\n",
      "resetting populations as the system collapsed\n",
      "resetting populations as the system collapsed\n",
      "resetting populations as the system collapsed\n",
      "resetting populations as the system collapsed\n",
      "resetting populations as the system collapsed\n",
      "resetting populations as the system collapsed\n",
      "resetting populations as the system collapsed\n",
      "resetting populations as the system collapsed\n",
      "resetting populations as the system collapsed\n",
      "resetting populations as the system collapsed\n",
      "resetting populations as the system collapsed\n",
      "resetting populations as the system collapsed\n",
      "resetting populations as the system collapsed\n"
     ]
    },
    {
     "name": "stderr",
     "output_type": "stream",
     "text": [
      "\r",
      " 11%|█         | 11/100 [01:15<10:14,  6.90s/it]"
     ]
    },
    {
     "name": "stdout",
     "output_type": "stream",
     "text": [
      "resetting populations as the system collapsed\n",
      "resetting populations as the system collapsed\n",
      "resetting populations as the system collapsed\n",
      "resetting populations as the system collapsed\n",
      "resetting populations as the system collapsed\n",
      "resetting populations as the system collapsed\n",
      "resetting populations as the system collapsed\n",
      "resetting populations as the system collapsed\n",
      "resetting populations as the system collapsed\n",
      "resetting populations as the system collapsed\n",
      "resetting populations as the system collapsed\n",
      "resetting populations as the system collapsed\n",
      "resetting populations as the system collapsed\n",
      "resetting populations as the system collapsed\n",
      "resetting populations as the system collapsed\n",
      "resetting populations as the system collapsed\n",
      "resetting populations as the system collapsed\n",
      "resetting populations as the system collapsed\n",
      "resetting populations as the system collapsed\n",
      "resetting populations as the system collapsed\n"
     ]
    },
    {
     "name": "stderr",
     "output_type": "stream",
     "text": [
      "\r",
      " 12%|█▏        | 12/100 [01:21<09:58,  6.81s/it]"
     ]
    },
    {
     "name": "stdout",
     "output_type": "stream",
     "text": [
      "resetting populations as the system collapsed\n",
      "resetting populations as the system collapsed\n",
      "resetting populations as the system collapsed\n",
      "resetting populations as the system collapsed\n",
      "resetting populations as the system collapsed\n",
      "resetting populations as the system collapsed\n",
      "resetting populations as the system collapsed\n",
      "resetting populations as the system collapsed\n",
      "resetting populations as the system collapsed\n",
      "resetting populations as the system collapsed\n",
      "resetting populations as the system collapsed\n",
      "resetting populations as the system collapsed\n",
      "resetting populations as the system collapsed\n",
      "resetting populations as the system collapsed\n",
      "resetting populations as the system collapsed\n",
      "resetting populations as the system collapsed\n",
      "resetting populations as the system collapsed\n",
      "resetting populations as the system collapsed\n",
      "resetting populations as the system collapsed\n",
      "resetting populations as the system collapsed\n",
      "resetting populations as the system collapsed\n",
      "resetting populations as the system collapsed\n",
      "resetting populations as the system collapsed\n",
      "resetting populations as the system collapsed\n",
      "resetting populations as the system collapsed\n",
      "resetting populations as the system collapsed\n",
      "resetting populations as the system collapsed\n",
      "resetting populations as the system collapsed\n",
      "resetting populations as the system collapsed\n",
      "resetting populations as the system collapsed\n",
      "resetting populations as the system collapsed\n",
      "resetting populations as the system collapsed\n",
      "resetting populations as the system collapsed\n",
      "resetting populations as the system collapsed\n"
     ]
    },
    {
     "name": "stderr",
     "output_type": "stream",
     "text": [
      "\r",
      " 13%|█▎        | 13/100 [01:28<09:54,  6.84s/it]"
     ]
    },
    {
     "name": "stdout",
     "output_type": "stream",
     "text": [
      "resetting populations as the system collapsed\n",
      "resetting populations as the system collapsed\n",
      "resetting populations as the system collapsed\n",
      "resetting populations as the system collapsed\n",
      "resetting populations as the system collapsed\n",
      "resetting populations as the system collapsed\n",
      "resetting populations as the system collapsed\n",
      "resetting populations as the system collapsed\n",
      "resetting populations as the system collapsed\n",
      "resetting populations as the system collapsed\n",
      "resetting populations as the system collapsed\n",
      "resetting populations as the system collapsed\n",
      "resetting populations as the system collapsed\n",
      "resetting populations as the system collapsed\n",
      "resetting populations as the system collapsed\n",
      "resetting populations as the system collapsed\n",
      "resetting populations as the system collapsed\n",
      "resetting populations as the system collapsed\n",
      "resetting populations as the system collapsed\n",
      "resetting populations as the system collapsed\n",
      "resetting populations as the system collapsed\n",
      "resetting populations as the system collapsed\n",
      "resetting populations as the system collapsed\n",
      "resetting populations as the system collapsed\n",
      "resetting populations as the system collapsed\n",
      "resetting populations as the system collapsed\n",
      "resetting populations as the system collapsed\n",
      "resetting populations as the system collapsed\n",
      "resetting populations as the system collapsed\n",
      "resetting populations as the system collapsed\n",
      "resetting populations as the system collapsed\n",
      "resetting populations as the system collapsed\n",
      "resetting populations as the system collapsed\n",
      "resetting populations as the system collapsed\n",
      "resetting populations as the system collapsed\n"
     ]
    },
    {
     "name": "stderr",
     "output_type": "stream",
     "text": [
      "\r",
      " 14%|█▍        | 14/100 [01:36<09:51,  6.88s/it]"
     ]
    },
    {
     "name": "stdout",
     "output_type": "stream",
     "text": [
      "resetting populations as the system collapsed\n",
      "resetting populations as the system collapsed\n",
      "resetting populations as the system collapsed\n",
      "resetting populations as the system collapsed\n",
      "resetting populations as the system collapsed\n",
      "resetting populations as the system collapsed\n",
      "resetting populations as the system collapsed\n",
      "resetting populations as the system collapsed\n",
      "resetting populations as the system collapsed\n",
      "resetting populations as the system collapsed\n",
      "resetting populations as the system collapsed\n",
      "resetting populations as the system collapsed\n",
      "resetting populations as the system collapsed\n",
      "resetting populations as the system collapsed\n",
      "resetting populations as the system collapsed\n",
      "resetting populations as the system collapsed\n",
      "resetting populations as the system collapsed\n",
      "resetting populations as the system collapsed\n",
      "resetting populations as the system collapsed\n",
      "resetting populations as the system collapsed\n",
      "resetting populations as the system collapsed\n",
      "resetting populations as the system collapsed\n",
      "resetting populations as the system collapsed\n",
      "resetting populations as the system collapsed\n",
      "resetting populations as the system collapsed\n",
      "resetting populations as the system collapsed\n",
      "resetting populations as the system collapsed\n",
      "resetting populations as the system collapsed\n"
     ]
    },
    {
     "name": "stderr",
     "output_type": "stream",
     "text": [
      "\r",
      " 15%|█▌        | 15/100 [01:42<09:43,  6.86s/it]"
     ]
    },
    {
     "name": "stdout",
     "output_type": "stream",
     "text": [
      "resetting populations as the system collapsed\n",
      "resetting populations as the system collapsed\n",
      "resetting populations as the system collapsed\n",
      "resetting populations as the system collapsed\n",
      "resetting populations as the system collapsed\n",
      "resetting populations as the system collapsed\n",
      "resetting populations as the system collapsed\n",
      "resetting populations as the system collapsed\n",
      "resetting populations as the system collapsed\n",
      "resetting populations as the system collapsed\n",
      "resetting populations as the system collapsed\n",
      "resetting populations as the system collapsed\n",
      "resetting populations as the system collapsed\n",
      "resetting populations as the system collapsed\n",
      "resetting populations as the system collapsed\n",
      "resetting populations as the system collapsed\n",
      "resetting populations as the system collapsed\n",
      "resetting populations as the system collapsed\n",
      "resetting populations as the system collapsed\n",
      "resetting populations as the system collapsed\n",
      "resetting populations as the system collapsed\n",
      "resetting populations as the system collapsed\n",
      "resetting populations as the system collapsed\n",
      "resetting populations as the system collapsed\n",
      "resetting populations as the system collapsed\n",
      "resetting populations as the system collapsed\n",
      "resetting populations as the system collapsed\n",
      "resetting populations as the system collapsed\n",
      "resetting populations as the system collapsed\n",
      "resetting populations as the system collapsed\n",
      "resetting populations as the system collapsed\n"
     ]
    },
    {
     "name": "stderr",
     "output_type": "stream",
     "text": [
      "\r",
      " 16%|█▌        | 16/100 [01:49<09:36,  6.86s/it]"
     ]
    },
    {
     "name": "stdout",
     "output_type": "stream",
     "text": [
      "resetting populations as the system collapsed\n",
      "resetting populations as the system collapsed\n",
      "resetting populations as the system collapsed\n",
      "resetting populations as the system collapsed\n",
      "resetting populations as the system collapsed\n",
      "resetting populations as the system collapsed\n",
      "resetting populations as the system collapsed\n",
      "resetting populations as the system collapsed\n",
      "resetting populations as the system collapsed\n",
      "resetting populations as the system collapsed\n",
      "resetting populations as the system collapsed\n",
      "resetting populations as the system collapsed\n",
      "resetting populations as the system collapsed\n",
      "resetting populations as the system collapsed\n",
      "resetting populations as the system collapsed\n",
      "resetting populations as the system collapsed\n",
      "resetting populations as the system collapsed\n",
      "resetting populations as the system collapsed\n",
      "resetting populations as the system collapsed\n",
      "resetting populations as the system collapsed\n",
      "resetting populations as the system collapsed\n",
      "resetting populations as the system collapsed\n",
      "resetting populations as the system collapsed\n",
      "resetting populations as the system collapsed\n",
      "resetting populations as the system collapsed\n",
      "resetting populations as the system collapsed\n",
      "resetting populations as the system collapsed\n",
      "resetting populations as the system collapsed\n",
      "resetting populations as the system collapsed\n"
     ]
    },
    {
     "name": "stderr",
     "output_type": "stream",
     "text": [
      "\r",
      " 17%|█▋        | 17/100 [01:56<09:27,  6.84s/it]"
     ]
    },
    {
     "name": "stdout",
     "output_type": "stream",
     "text": [
      "resetting populations as the system collapsed\n",
      "resetting populations as the system collapsed\n",
      "resetting populations as the system collapsed\n",
      "resetting populations as the system collapsed\n",
      "resetting populations as the system collapsed\n",
      "resetting populations as the system collapsed\n",
      "resetting populations as the system collapsed\n",
      "resetting populations as the system collapsed\n",
      "resetting populations as the system collapsed\n",
      "resetting populations as the system collapsed\n",
      "resetting populations as the system collapsed\n",
      "resetting populations as the system collapsed\n",
      "resetting populations as the system collapsed\n",
      "resetting populations as the system collapsed\n",
      "resetting populations as the system collapsed\n",
      "resetting populations as the system collapsed\n",
      "resetting populations as the system collapsed\n",
      "resetting populations as the system collapsed\n",
      "resetting populations as the system collapsed\n",
      "resetting populations as the system collapsed\n",
      "resetting populations as the system collapsed\n",
      "resetting populations as the system collapsed\n",
      "resetting populations as the system collapsed\n",
      "resetting populations as the system collapsed\n",
      "resetting populations as the system collapsed\n",
      "resetting populations as the system collapsed\n",
      "resetting populations as the system collapsed\n",
      "resetting populations as the system collapsed\n",
      "resetting populations as the system collapsed\n",
      "resetting populations as the system collapsed\n",
      "resetting populations as the system collapsed\n",
      "resetting populations as the system collapsed\n",
      "resetting populations as the system collapsed\n",
      "resetting populations as the system collapsed\n",
      "resetting populations as the system collapsed\n",
      "resetting populations as the system collapsed\n",
      "resetting populations as the system collapsed\n",
      "resetting populations as the system collapsed\n",
      "resetting populations as the system collapsed\n",
      "resetting populations as the system collapsed\n",
      "resetting populations as the system collapsed\n"
     ]
    },
    {
     "name": "stderr",
     "output_type": "stream",
     "text": [
      "\r",
      " 18%|█▊        | 18/100 [02:04<09:27,  6.92s/it]"
     ]
    },
    {
     "name": "stdout",
     "output_type": "stream",
     "text": [
      "resetting populations as the system collapsed\n",
      "resetting populations as the system collapsed\n",
      "resetting populations as the system collapsed\n",
      "resetting populations as the system collapsed\n",
      "resetting populations as the system collapsed\n",
      "resetting populations as the system collapsed\n",
      "resetting populations as the system collapsed\n",
      "resetting populations as the system collapsed\n",
      "resetting populations as the system collapsed\n",
      "resetting populations as the system collapsed\n",
      "resetting populations as the system collapsed\n",
      "resetting populations as the system collapsed\n",
      "resetting populations as the system collapsed\n",
      "resetting populations as the system collapsed\n",
      "resetting populations as the system collapsed\n",
      "resetting populations as the system collapsed\n",
      "resetting populations as the system collapsed\n",
      "resetting populations as the system collapsed\n",
      "resetting populations as the system collapsed\n",
      "resetting populations as the system collapsed\n",
      "resetting populations as the system collapsed\n",
      "resetting populations as the system collapsed\n",
      "resetting populations as the system collapsed\n",
      "resetting populations as the system collapsed\n",
      "resetting populations as the system collapsed\n",
      "resetting populations as the system collapsed\n",
      "resetting populations as the system collapsed\n",
      "resetting populations as the system collapsed\n",
      "resetting populations as the system collapsed\n",
      "resetting populations as the system collapsed\n",
      "resetting populations as the system collapsed\n",
      "resetting populations as the system collapsed\n",
      "resetting populations as the system collapsed\n"
     ]
    },
    {
     "name": "stderr",
     "output_type": "stream",
     "text": [
      "\r",
      " 19%|█▉        | 19/100 [02:11<09:22,  6.94s/it]"
     ]
    },
    {
     "name": "stdout",
     "output_type": "stream",
     "text": [
      "resetting populations as the system collapsed\n",
      "resetting populations as the system collapsed\n",
      "resetting populations as the system collapsed\n",
      "resetting populations as the system collapsed\n",
      "resetting populations as the system collapsed\n",
      "resetting populations as the system collapsed\n",
      "resetting populations as the system collapsed\n",
      "resetting populations as the system collapsed\n",
      "resetting populations as the system collapsed\n",
      "resetting populations as the system collapsed\n",
      "resetting populations as the system collapsed\n",
      "resetting populations as the system collapsed\n",
      "resetting populations as the system collapsed\n",
      "resetting populations as the system collapsed\n",
      "resetting populations as the system collapsed\n",
      "resetting populations as the system collapsed\n",
      "resetting populations as the system collapsed\n",
      "resetting populations as the system collapsed\n",
      "resetting populations as the system collapsed\n",
      "resetting populations as the system collapsed\n",
      "resetting populations as the system collapsed\n",
      "resetting populations as the system collapsed\n",
      "resetting populations as the system collapsed\n",
      "resetting populations as the system collapsed\n",
      "resetting populations as the system collapsed\n",
      "resetting populations as the system collapsed\n",
      "resetting populations as the system collapsed\n",
      "resetting populations as the system collapsed\n",
      "resetting populations as the system collapsed\n",
      "resetting populations as the system collapsed\n",
      "resetting populations as the system collapsed\n",
      "resetting populations as the system collapsed\n",
      "resetting populations as the system collapsed\n",
      "resetting populations as the system collapsed\n",
      "resetting populations as the system collapsed\n"
     ]
    },
    {
     "name": "stderr",
     "output_type": "stream",
     "text": [
      "\r",
      " 20%|██        | 20/100 [02:19<09:16,  6.96s/it]"
     ]
    },
    {
     "name": "stdout",
     "output_type": "stream",
     "text": [
      "resetting populations as the system collapsed\n",
      "resetting populations as the system collapsed\n",
      "resetting populations as the system collapsed\n",
      "resetting populations as the system collapsed\n",
      "resetting populations as the system collapsed\n",
      "resetting populations as the system collapsed\n",
      "resetting populations as the system collapsed\n",
      "resetting populations as the system collapsed\n",
      "resetting populations as the system collapsed\n",
      "resetting populations as the system collapsed\n",
      "resetting populations as the system collapsed\n",
      "resetting populations as the system collapsed\n",
      "resetting populations as the system collapsed\n",
      "resetting populations as the system collapsed\n",
      "resetting populations as the system collapsed\n",
      "resetting populations as the system collapsed\n",
      "resetting populations as the system collapsed\n",
      "resetting populations as the system collapsed\n",
      "resetting populations as the system collapsed\n",
      "resetting populations as the system collapsed\n",
      "resetting populations as the system collapsed\n",
      "resetting populations as the system collapsed\n",
      "resetting populations as the system collapsed\n",
      "resetting populations as the system collapsed\n",
      "resetting populations as the system collapsed\n",
      "resetting populations as the system collapsed\n",
      "resetting populations as the system collapsed\n",
      "resetting populations as the system collapsed\n",
      "resetting populations as the system collapsed\n",
      "resetting populations as the system collapsed\n",
      "resetting populations as the system collapsed\n",
      "resetting populations as the system collapsed\n"
     ]
    },
    {
     "name": "stderr",
     "output_type": "stream",
     "text": [
      "\r",
      " 21%|██        | 21/100 [02:26<09:10,  6.97s/it]"
     ]
    },
    {
     "name": "stdout",
     "output_type": "stream",
     "text": [
      "resetting populations as the system collapsed\n",
      "resetting populations as the system collapsed\n",
      "resetting populations as the system collapsed\n",
      "resetting populations as the system collapsed\n",
      "resetting populations as the system collapsed\n",
      "resetting populations as the system collapsed\n",
      "resetting populations as the system collapsed\n",
      "resetting populations as the system collapsed\n",
      "resetting populations as the system collapsed\n",
      "resetting populations as the system collapsed\n",
      "resetting populations as the system collapsed\n",
      "resetting populations as the system collapsed\n",
      "resetting populations as the system collapsed\n",
      "resetting populations as the system collapsed\n",
      "resetting populations as the system collapsed\n",
      "resetting populations as the system collapsed\n",
      "resetting populations as the system collapsed\n",
      "resetting populations as the system collapsed\n",
      "resetting populations as the system collapsed\n",
      "resetting populations as the system collapsed\n",
      "resetting populations as the system collapsed\n",
      "resetting populations as the system collapsed\n",
      "resetting populations as the system collapsed\n",
      "resetting populations as the system collapsed\n",
      "resetting populations as the system collapsed\n",
      "resetting populations as the system collapsed\n",
      "resetting populations as the system collapsed\n"
     ]
    },
    {
     "name": "stderr",
     "output_type": "stream",
     "text": [
      "\r",
      " 22%|██▏       | 22/100 [02:32<09:01,  6.94s/it]"
     ]
    },
    {
     "name": "stdout",
     "output_type": "stream",
     "text": [
      "resetting populations as the system collapsed\n",
      "resetting populations as the system collapsed\n",
      "resetting populations as the system collapsed\n",
      "resetting populations as the system collapsed\n",
      "resetting populations as the system collapsed\n",
      "resetting populations as the system collapsed\n",
      "resetting populations as the system collapsed\n",
      "resetting populations as the system collapsed\n",
      "resetting populations as the system collapsed\n",
      "resetting populations as the system collapsed\n",
      "resetting populations as the system collapsed\n",
      "resetting populations as the system collapsed\n",
      "resetting populations as the system collapsed\n",
      "resetting populations as the system collapsed\n",
      "resetting populations as the system collapsed\n",
      "resetting populations as the system collapsed\n",
      "resetting populations as the system collapsed\n",
      "resetting populations as the system collapsed\n",
      "resetting populations as the system collapsed\n",
      "resetting populations as the system collapsed\n",
      "resetting populations as the system collapsed\n",
      "resetting populations as the system collapsed\n",
      "resetting populations as the system collapsed\n",
      "resetting populations as the system collapsed\n",
      "resetting populations as the system collapsed\n",
      "resetting populations as the system collapsed\n",
      "resetting populations as the system collapsed\n",
      "resetting populations as the system collapsed\n",
      "resetting populations as the system collapsed\n",
      "resetting populations as the system collapsed\n",
      "resetting populations as the system collapsed\n",
      "resetting populations as the system collapsed\n",
      "resetting populations as the system collapsed\n",
      "resetting populations as the system collapsed\n"
     ]
    },
    {
     "name": "stderr",
     "output_type": "stream",
     "text": [
      "\r",
      " 23%|██▎       | 23/100 [02:39<08:55,  6.95s/it]"
     ]
    },
    {
     "name": "stdout",
     "output_type": "stream",
     "text": [
      "resetting populations as the system collapsed\n",
      "resetting populations as the system collapsed\n",
      "resetting populations as the system collapsed\n",
      "resetting populations as the system collapsed\n",
      "resetting populations as the system collapsed\n",
      "resetting populations as the system collapsed\n",
      "resetting populations as the system collapsed\n",
      "resetting populations as the system collapsed\n",
      "resetting populations as the system collapsed\n",
      "resetting populations as the system collapsed\n",
      "resetting populations as the system collapsed\n",
      "resetting populations as the system collapsed\n",
      "resetting populations as the system collapsed\n",
      "resetting populations as the system collapsed\n",
      "resetting populations as the system collapsed\n",
      "resetting populations as the system collapsed\n",
      "resetting populations as the system collapsed\n",
      "resetting populations as the system collapsed\n",
      "resetting populations as the system collapsed\n",
      "resetting populations as the system collapsed\n",
      "resetting populations as the system collapsed\n",
      "resetting populations as the system collapsed\n",
      "resetting populations as the system collapsed\n",
      "resetting populations as the system collapsed\n",
      "resetting populations as the system collapsed\n",
      "resetting populations as the system collapsed\n",
      "resetting populations as the system collapsed\n"
     ]
    },
    {
     "name": "stderr",
     "output_type": "stream",
     "text": [
      "\r",
      " 24%|██▍       | 24/100 [02:46<08:46,  6.93s/it]"
     ]
    },
    {
     "name": "stdout",
     "output_type": "stream",
     "text": [
      "resetting populations as the system collapsed\n",
      "resetting populations as the system collapsed\n",
      "resetting populations as the system collapsed\n",
      "resetting populations as the system collapsed\n",
      "resetting populations as the system collapsed\n",
      "resetting populations as the system collapsed\n",
      "resetting populations as the system collapsed\n",
      "resetting populations as the system collapsed\n",
      "resetting populations as the system collapsed\n",
      "resetting populations as the system collapsed\n",
      "resetting populations as the system collapsed\n",
      "resetting populations as the system collapsed\n",
      "resetting populations as the system collapsed\n",
      "resetting populations as the system collapsed\n",
      "resetting populations as the system collapsed\n",
      "resetting populations as the system collapsed\n",
      "resetting populations as the system collapsed\n",
      "resetting populations as the system collapsed\n",
      "resetting populations as the system collapsed\n",
      "resetting populations as the system collapsed\n",
      "resetting populations as the system collapsed\n",
      "resetting populations as the system collapsed\n"
     ]
    },
    {
     "name": "stderr",
     "output_type": "stream",
     "text": [
      "\r",
      " 25%|██▌       | 25/100 [02:52<08:36,  6.88s/it]"
     ]
    },
    {
     "name": "stdout",
     "output_type": "stream",
     "text": [
      "resetting populations as the system collapsed\n",
      "resetting populations as the system collapsed\n",
      "resetting populations as the system collapsed\n",
      "resetting populations as the system collapsed\n",
      "resetting populations as the system collapsed\n",
      "resetting populations as the system collapsed\n",
      "resetting populations as the system collapsed\n",
      "resetting populations as the system collapsed\n",
      "resetting populations as the system collapsed\n",
      "resetting populations as the system collapsed\n",
      "resetting populations as the system collapsed\n",
      "resetting populations as the system collapsed\n",
      "resetting populations as the system collapsed\n",
      "resetting populations as the system collapsed\n",
      "resetting populations as the system collapsed\n",
      "resetting populations as the system collapsed\n",
      "resetting populations as the system collapsed\n",
      "resetting populations as the system collapsed\n",
      "resetting populations as the system collapsed\n"
     ]
    },
    {
     "name": "stderr",
     "output_type": "stream",
     "text": [
      "\r",
      " 26%|██▌       | 26/100 [02:57<08:24,  6.82s/it]"
     ]
    },
    {
     "name": "stdout",
     "output_type": "stream",
     "text": [
      "resetting populations as the system collapsed\n",
      "resetting populations as the system collapsed\n",
      "resetting populations as the system collapsed\n",
      "resetting populations as the system collapsed\n",
      "resetting populations as the system collapsed\n",
      "resetting populations as the system collapsed\n",
      "resetting populations as the system collapsed\n",
      "resetting populations as the system collapsed\n",
      "resetting populations as the system collapsed\n",
      "resetting populations as the system collapsed\n",
      "resetting populations as the system collapsed\n",
      "resetting populations as the system collapsed\n",
      "resetting populations as the system collapsed\n",
      "resetting populations as the system collapsed\n",
      "resetting populations as the system collapsed\n",
      "resetting populations as the system collapsed\n",
      "resetting populations as the system collapsed\n",
      "resetting populations as the system collapsed\n",
      "resetting populations as the system collapsed\n",
      "resetting populations as the system collapsed\n",
      "resetting populations as the system collapsed\n",
      "resetting populations as the system collapsed\n",
      "resetting populations as the system collapsed\n",
      "resetting populations as the system collapsed\n",
      "resetting populations as the system collapsed\n",
      "resetting populations as the system collapsed\n",
      "resetting populations as the system collapsed\n",
      "resetting populations as the system collapsed\n",
      "resetting populations as the system collapsed\n",
      "resetting populations as the system collapsed\n",
      "resetting populations as the system collapsed\n",
      "resetting populations as the system collapsed\n",
      "resetting populations as the system collapsed\n",
      "resetting populations as the system collapsed\n",
      "resetting populations as the system collapsed\n",
      "resetting populations as the system collapsed\n",
      "resetting populations as the system collapsed\n",
      "resetting populations as the system collapsed\n",
      "resetting populations as the system collapsed\n",
      "resetting populations as the system collapsed\n",
      "resetting populations as the system collapsed\n",
      "resetting populations as the system collapsed\n",
      "resetting populations as the system collapsed\n",
      "resetting populations as the system collapsed\n",
      "resetting populations as the system collapsed\n",
      "resetting populations as the system collapsed\n",
      "resetting populations as the system collapsed\n",
      "resetting populations as the system collapsed\n",
      "resetting populations as the system collapsed\n",
      "resetting populations as the system collapsed\n",
      "resetting populations as the system collapsed\n",
      "resetting populations as the system collapsed\n",
      "resetting populations as the system collapsed\n",
      "resetting populations as the system collapsed\n",
      "resetting populations as the system collapsed\n",
      "resetting populations as the system collapsed\n",
      "resetting populations as the system collapsed\n",
      "resetting populations as the system collapsed\n"
     ]
    },
    {
     "name": "stderr",
     "output_type": "stream",
     "text": [
      "\r",
      " 27%|██▋       | 27/100 [03:07<08:27,  6.96s/it]"
     ]
    },
    {
     "name": "stdout",
     "output_type": "stream",
     "text": [
      "resetting populations as the system collapsed\n",
      "resetting populations as the system collapsed\n",
      "resetting populations as the system collapsed\n",
      "resetting populations as the system collapsed\n",
      "resetting populations as the system collapsed\n",
      "resetting populations as the system collapsed\n",
      "resetting populations as the system collapsed\n",
      "resetting populations as the system collapsed\n",
      "resetting populations as the system collapsed\n",
      "resetting populations as the system collapsed\n",
      "resetting populations as the system collapsed\n",
      "resetting populations as the system collapsed\n",
      "resetting populations as the system collapsed\n",
      "resetting populations as the system collapsed\n",
      "resetting populations as the system collapsed\n",
      "resetting populations as the system collapsed\n",
      "resetting populations as the system collapsed\n",
      "resetting populations as the system collapsed\n",
      "resetting populations as the system collapsed\n"
     ]
    },
    {
     "name": "stderr",
     "output_type": "stream",
     "text": [
      "\r",
      " 28%|██▊       | 28/100 [03:12<08:16,  6.89s/it]"
     ]
    },
    {
     "name": "stdout",
     "output_type": "stream",
     "text": [
      "resetting populations as the system collapsed\n",
      "resetting populations as the system collapsed\n",
      "resetting populations as the system collapsed\n",
      "resetting populations as the system collapsed\n",
      "resetting populations as the system collapsed\n",
      "resetting populations as the system collapsed\n",
      "resetting populations as the system collapsed\n",
      "resetting populations as the system collapsed\n",
      "resetting populations as the system collapsed\n",
      "resetting populations as the system collapsed\n",
      "resetting populations as the system collapsed\n",
      "resetting populations as the system collapsed\n",
      "resetting populations as the system collapsed\n",
      "resetting populations as the system collapsed\n",
      "resetting populations as the system collapsed\n",
      "resetting populations as the system collapsed\n",
      "resetting populations as the system collapsed\n",
      "resetting populations as the system collapsed\n",
      "resetting populations as the system collapsed\n",
      "resetting populations as the system collapsed\n",
      "resetting populations as the system collapsed\n",
      "resetting populations as the system collapsed\n",
      "resetting populations as the system collapsed\n",
      "resetting populations as the system collapsed\n",
      "resetting populations as the system collapsed\n",
      "resetting populations as the system collapsed\n",
      "resetting populations as the system collapsed\n",
      "resetting populations as the system collapsed\n",
      "resetting populations as the system collapsed\n",
      "resetting populations as the system collapsed\n",
      "resetting populations as the system collapsed\n",
      "resetting populations as the system collapsed\n",
      "resetting populations as the system collapsed\n"
     ]
    },
    {
     "name": "stderr",
     "output_type": "stream",
     "text": [
      "\r",
      " 29%|██▉       | 29/100 [03:20<08:10,  6.90s/it]"
     ]
    },
    {
     "name": "stdout",
     "output_type": "stream",
     "text": [
      "resetting populations as the system collapsed\n",
      "resetting populations as the system collapsed\n",
      "resetting populations as the system collapsed\n",
      "resetting populations as the system collapsed\n",
      "resetting populations as the system collapsed\n",
      "resetting populations as the system collapsed\n",
      "resetting populations as the system collapsed\n",
      "resetting populations as the system collapsed\n",
      "resetting populations as the system collapsed\n",
      "resetting populations as the system collapsed\n",
      "resetting populations as the system collapsed\n",
      "resetting populations as the system collapsed\n",
      "resetting populations as the system collapsed\n",
      "resetting populations as the system collapsed\n",
      "resetting populations as the system collapsed\n",
      "resetting populations as the system collapsed\n",
      "resetting populations as the system collapsed\n",
      "resetting populations as the system collapsed\n",
      "resetting populations as the system collapsed\n",
      "resetting populations as the system collapsed\n",
      "resetting populations as the system collapsed\n",
      "resetting populations as the system collapsed\n",
      "resetting populations as the system collapsed\n",
      "resetting populations as the system collapsed\n",
      "resetting populations as the system collapsed\n",
      "resetting populations as the system collapsed\n",
      "resetting populations as the system collapsed\n",
      "resetting populations as the system collapsed\n",
      "resetting populations as the system collapsed\n",
      "resetting populations as the system collapsed\n"
     ]
    },
    {
     "name": "stderr",
     "output_type": "stream",
     "text": [
      "\r",
      " 30%|███       | 30/100 [03:26<08:02,  6.90s/it]"
     ]
    },
    {
     "name": "stdout",
     "output_type": "stream",
     "text": [
      "resetting populations as the system collapsed\n",
      "resetting populations as the system collapsed\n",
      "resetting populations as the system collapsed\n",
      "resetting populations as the system collapsed\n",
      "resetting populations as the system collapsed\n",
      "resetting populations as the system collapsed\n",
      "resetting populations as the system collapsed\n",
      "resetting populations as the system collapsed\n",
      "resetting populations as the system collapsed\n",
      "resetting populations as the system collapsed\n",
      "resetting populations as the system collapsed\n",
      "resetting populations as the system collapsed\n",
      "resetting populations as the system collapsed\n",
      "resetting populations as the system collapsed\n",
      "resetting populations as the system collapsed\n",
      "resetting populations as the system collapsed\n",
      "resetting populations as the system collapsed\n",
      "resetting populations as the system collapsed\n",
      "resetting populations as the system collapsed\n",
      "resetting populations as the system collapsed\n",
      "resetting populations as the system collapsed\n",
      "resetting populations as the system collapsed\n",
      "resetting populations as the system collapsed\n",
      "resetting populations as the system collapsed\n",
      "resetting populations as the system collapsed\n"
     ]
    },
    {
     "name": "stderr",
     "output_type": "stream",
     "text": [
      "\r",
      " 31%|███       | 31/100 [03:33<07:54,  6.87s/it]"
     ]
    },
    {
     "name": "stdout",
     "output_type": "stream",
     "text": [
      "resetting populations as the system collapsed\n",
      "resetting populations as the system collapsed\n",
      "resetting populations as the system collapsed\n",
      "resetting populations as the system collapsed\n",
      "resetting populations as the system collapsed\n",
      "resetting populations as the system collapsed\n",
      "resetting populations as the system collapsed\n",
      "resetting populations as the system collapsed\n",
      "resetting populations as the system collapsed\n",
      "resetting populations as the system collapsed\n",
      "resetting populations as the system collapsed\n",
      "resetting populations as the system collapsed\n",
      "resetting populations as the system collapsed\n",
      "resetting populations as the system collapsed\n",
      "resetting populations as the system collapsed\n",
      "resetting populations as the system collapsed\n",
      "resetting populations as the system collapsed\n",
      "resetting populations as the system collapsed\n",
      "resetting populations as the system collapsed\n",
      "resetting populations as the system collapsed\n",
      "resetting populations as the system collapsed\n",
      "resetting populations as the system collapsed\n",
      "resetting populations as the system collapsed\n",
      "resetting populations as the system collapsed\n",
      "resetting populations as the system collapsed\n",
      "resetting populations as the system collapsed\n",
      "resetting populations as the system collapsed\n",
      "resetting populations as the system collapsed\n",
      "resetting populations as the system collapsed\n",
      "resetting populations as the system collapsed\n",
      "resetting populations as the system collapsed\n",
      "resetting populations as the system collapsed\n",
      "resetting populations as the system collapsed\n"
     ]
    },
    {
     "name": "stderr",
     "output_type": "stream",
     "text": [
      "\r",
      " 32%|███▏      | 32/100 [03:40<07:48,  6.89s/it]"
     ]
    },
    {
     "name": "stdout",
     "output_type": "stream",
     "text": [
      "resetting populations as the system collapsed\n",
      "resetting populations as the system collapsed\n",
      "resetting populations as the system collapsed\n",
      "resetting populations as the system collapsed\n",
      "resetting populations as the system collapsed\n",
      "resetting populations as the system collapsed\n",
      "resetting populations as the system collapsed\n",
      "resetting populations as the system collapsed\n",
      "resetting populations as the system collapsed\n",
      "resetting populations as the system collapsed\n",
      "resetting populations as the system collapsed\n",
      "resetting populations as the system collapsed\n",
      "resetting populations as the system collapsed\n",
      "resetting populations as the system collapsed\n",
      "resetting populations as the system collapsed\n",
      "resetting populations as the system collapsed\n",
      "resetting populations as the system collapsed\n",
      "resetting populations as the system collapsed\n",
      "resetting populations as the system collapsed\n",
      "resetting populations as the system collapsed\n",
      "resetting populations as the system collapsed\n",
      "resetting populations as the system collapsed\n",
      "resetting populations as the system collapsed\n",
      "resetting populations as the system collapsed\n",
      "resetting populations as the system collapsed\n",
      "resetting populations as the system collapsed\n",
      "resetting populations as the system collapsed\n",
      "resetting populations as the system collapsed\n",
      "resetting populations as the system collapsed\n",
      "resetting populations as the system collapsed\n",
      "resetting populations as the system collapsed\n",
      "resetting populations as the system collapsed\n",
      "resetting populations as the system collapsed\n",
      "resetting populations as the system collapsed\n",
      "resetting populations as the system collapsed\n",
      "resetting populations as the system collapsed\n"
     ]
    },
    {
     "name": "stderr",
     "output_type": "stream",
     "text": [
      "\r",
      " 33%|███▎      | 33/100 [03:47<07:42,  6.90s/it]"
     ]
    },
    {
     "name": "stdout",
     "output_type": "stream",
     "text": [
      "resetting populations as the system collapsed\n",
      "resetting populations as the system collapsed\n",
      "resetting populations as the system collapsed\n",
      "resetting populations as the system collapsed\n",
      "resetting populations as the system collapsed\n",
      "resetting populations as the system collapsed\n",
      "resetting populations as the system collapsed\n",
      "resetting populations as the system collapsed\n",
      "resetting populations as the system collapsed\n",
      "resetting populations as the system collapsed\n",
      "resetting populations as the system collapsed\n",
      "resetting populations as the system collapsed\n",
      "resetting populations as the system collapsed\n",
      "resetting populations as the system collapsed\n",
      "resetting populations as the system collapsed\n",
      "resetting populations as the system collapsed\n",
      "resetting populations as the system collapsed\n",
      "resetting populations as the system collapsed\n",
      "resetting populations as the system collapsed\n",
      "resetting populations as the system collapsed\n",
      "resetting populations as the system collapsed\n",
      "resetting populations as the system collapsed\n",
      "resetting populations as the system collapsed\n",
      "resetting populations as the system collapsed\n",
      "resetting populations as the system collapsed\n",
      "resetting populations as the system collapsed\n",
      "resetting populations as the system collapsed\n"
     ]
    },
    {
     "name": "stderr",
     "output_type": "stream",
     "text": [
      "\r",
      " 34%|███▍      | 34/100 [03:54<07:34,  6.89s/it]"
     ]
    },
    {
     "name": "stdout",
     "output_type": "stream",
     "text": [
      "resetting populations as the system collapsed\n",
      "resetting populations as the system collapsed\n",
      "resetting populations as the system collapsed\n",
      "resetting populations as the system collapsed\n",
      "resetting populations as the system collapsed\n",
      "resetting populations as the system collapsed\n",
      "resetting populations as the system collapsed\n",
      "resetting populations as the system collapsed\n",
      "resetting populations as the system collapsed\n",
      "resetting populations as the system collapsed\n",
      "resetting populations as the system collapsed\n",
      "resetting populations as the system collapsed\n",
      "resetting populations as the system collapsed\n",
      "resetting populations as the system collapsed\n",
      "resetting populations as the system collapsed\n",
      "resetting populations as the system collapsed\n",
      "resetting populations as the system collapsed\n",
      "resetting populations as the system collapsed\n",
      "resetting populations as the system collapsed\n",
      "resetting populations as the system collapsed\n",
      "resetting populations as the system collapsed\n",
      "resetting populations as the system collapsed\n",
      "resetting populations as the system collapsed\n",
      "resetting populations as the system collapsed\n",
      "resetting populations as the system collapsed\n",
      "resetting populations as the system collapsed\n"
     ]
    },
    {
     "name": "stderr",
     "output_type": "stream",
     "text": [
      "\r",
      " 35%|███▌      | 35/100 [04:00<07:26,  6.87s/it]"
     ]
    },
    {
     "name": "stdout",
     "output_type": "stream",
     "text": [
      "resetting populations as the system collapsed\n",
      "resetting populations as the system collapsed\n",
      "resetting populations as the system collapsed\n",
      "resetting populations as the system collapsed\n",
      "resetting populations as the system collapsed\n",
      "resetting populations as the system collapsed\n",
      "resetting populations as the system collapsed\n",
      "resetting populations as the system collapsed\n",
      "resetting populations as the system collapsed\n",
      "resetting populations as the system collapsed\n",
      "resetting populations as the system collapsed\n",
      "resetting populations as the system collapsed\n",
      "resetting populations as the system collapsed\n",
      "resetting populations as the system collapsed\n",
      "resetting populations as the system collapsed\n",
      "resetting populations as the system collapsed\n",
      "resetting populations as the system collapsed\n",
      "resetting populations as the system collapsed\n",
      "resetting populations as the system collapsed\n",
      "resetting populations as the system collapsed\n",
      "resetting populations as the system collapsed\n",
      "resetting populations as the system collapsed\n",
      "resetting populations as the system collapsed\n",
      "resetting populations as the system collapsed\n",
      "resetting populations as the system collapsed\n",
      "resetting populations as the system collapsed\n",
      "resetting populations as the system collapsed\n",
      "resetting populations as the system collapsed\n",
      "resetting populations as the system collapsed\n"
     ]
    },
    {
     "name": "stderr",
     "output_type": "stream",
     "text": [
      "\r",
      " 36%|███▌      | 36/100 [04:07<07:19,  6.86s/it]"
     ]
    },
    {
     "name": "stdout",
     "output_type": "stream",
     "text": [
      "resetting populations as the system collapsed\n",
      "resetting populations as the system collapsed\n",
      "resetting populations as the system collapsed\n",
      "resetting populations as the system collapsed\n",
      "resetting populations as the system collapsed\n",
      "resetting populations as the system collapsed\n",
      "resetting populations as the system collapsed\n",
      "resetting populations as the system collapsed\n",
      "resetting populations as the system collapsed\n",
      "resetting populations as the system collapsed\n",
      "resetting populations as the system collapsed\n",
      "resetting populations as the system collapsed\n",
      "resetting populations as the system collapsed\n",
      "resetting populations as the system collapsed\n",
      "resetting populations as the system collapsed\n",
      "resetting populations as the system collapsed\n",
      "resetting populations as the system collapsed\n",
      "resetting populations as the system collapsed\n",
      "resetting populations as the system collapsed\n",
      "resetting populations as the system collapsed\n",
      "resetting populations as the system collapsed\n",
      "resetting populations as the system collapsed\n"
     ]
    },
    {
     "name": "stderr",
     "output_type": "stream",
     "text": [
      "\r",
      " 37%|███▋      | 37/100 [04:12<07:10,  6.83s/it]"
     ]
    },
    {
     "name": "stdout",
     "output_type": "stream",
     "text": [
      "resetting populations as the system collapsed\n",
      "resetting populations as the system collapsed\n",
      "resetting populations as the system collapsed\n",
      "resetting populations as the system collapsed\n",
      "resetting populations as the system collapsed\n",
      "resetting populations as the system collapsed\n",
      "resetting populations as the system collapsed\n",
      "resetting populations as the system collapsed\n",
      "resetting populations as the system collapsed\n",
      "resetting populations as the system collapsed\n",
      "resetting populations as the system collapsed\n",
      "resetting populations as the system collapsed\n",
      "resetting populations as the system collapsed\n",
      "resetting populations as the system collapsed\n",
      "resetting populations as the system collapsed\n",
      "resetting populations as the system collapsed\n",
      "resetting populations as the system collapsed\n",
      "resetting populations as the system collapsed\n",
      "resetting populations as the system collapsed\n",
      "resetting populations as the system collapsed\n",
      "resetting populations as the system collapsed\n",
      "resetting populations as the system collapsed\n",
      "resetting populations as the system collapsed\n"
     ]
    },
    {
     "name": "stderr",
     "output_type": "stream",
     "text": [
      "\r",
      " 38%|███▊      | 38/100 [04:18<07:02,  6.81s/it]"
     ]
    },
    {
     "name": "stdout",
     "output_type": "stream",
     "text": [
      "resetting populations as the system collapsed\n",
      "resetting populations as the system collapsed\n",
      "resetting populations as the system collapsed\n",
      "resetting populations as the system collapsed\n",
      "resetting populations as the system collapsed\n",
      "resetting populations as the system collapsed\n",
      "resetting populations as the system collapsed\n",
      "resetting populations as the system collapsed\n",
      "resetting populations as the system collapsed\n",
      "resetting populations as the system collapsed\n",
      "resetting populations as the system collapsed\n",
      "resetting populations as the system collapsed\n",
      "resetting populations as the system collapsed\n",
      "resetting populations as the system collapsed\n",
      "resetting populations as the system collapsed\n",
      "resetting populations as the system collapsed\n",
      "resetting populations as the system collapsed\n",
      "resetting populations as the system collapsed\n",
      "resetting populations as the system collapsed\n",
      "resetting populations as the system collapsed\n",
      "resetting populations as the system collapsed\n",
      "resetting populations as the system collapsed\n",
      "resetting populations as the system collapsed\n",
      "resetting populations as the system collapsed\n"
     ]
    },
    {
     "name": "stderr",
     "output_type": "stream",
     "text": [
      "\r",
      " 39%|███▉      | 39/100 [04:24<06:53,  6.78s/it]"
     ]
    },
    {
     "name": "stdout",
     "output_type": "stream",
     "text": [
      "resetting populations as the system collapsed\n",
      "resetting populations as the system collapsed\n",
      "resetting populations as the system collapsed\n",
      "resetting populations as the system collapsed\n",
      "resetting populations as the system collapsed\n",
      "resetting populations as the system collapsed\n",
      "resetting populations as the system collapsed\n",
      "resetting populations as the system collapsed\n",
      "resetting populations as the system collapsed\n",
      "resetting populations as the system collapsed\n",
      "resetting populations as the system collapsed\n",
      "resetting populations as the system collapsed\n",
      "resetting populations as the system collapsed\n",
      "resetting populations as the system collapsed\n",
      "resetting populations as the system collapsed\n",
      "resetting populations as the system collapsed\n",
      "resetting populations as the system collapsed\n",
      "resetting populations as the system collapsed\n",
      "resetting populations as the system collapsed\n",
      "resetting populations as the system collapsed\n",
      "resetting populations as the system collapsed\n",
      "resetting populations as the system collapsed\n"
     ]
    },
    {
     "name": "stderr",
     "output_type": "stream",
     "text": [
      "\r",
      " 40%|████      | 40/100 [04:30<06:45,  6.76s/it]"
     ]
    },
    {
     "name": "stdout",
     "output_type": "stream",
     "text": [
      "resetting populations as the system collapsed\n",
      "resetting populations as the system collapsed\n",
      "resetting populations as the system collapsed\n",
      "resetting populations as the system collapsed\n",
      "resetting populations as the system collapsed\n",
      "resetting populations as the system collapsed\n",
      "resetting populations as the system collapsed\n",
      "resetting populations as the system collapsed\n",
      "resetting populations as the system collapsed\n",
      "resetting populations as the system collapsed\n",
      "resetting populations as the system collapsed\n",
      "resetting populations as the system collapsed\n",
      "resetting populations as the system collapsed\n",
      "resetting populations as the system collapsed\n",
      "resetting populations as the system collapsed\n",
      "resetting populations as the system collapsed\n",
      "resetting populations as the system collapsed\n",
      "resetting populations as the system collapsed\n",
      "resetting populations as the system collapsed\n",
      "resetting populations as the system collapsed\n",
      "resetting populations as the system collapsed\n",
      "resetting populations as the system collapsed\n",
      "resetting populations as the system collapsed\n",
      "resetting populations as the system collapsed\n",
      "resetting populations as the system collapsed\n",
      "resetting populations as the system collapsed\n",
      "resetting populations as the system collapsed\n",
      "resetting populations as the system collapsed\n",
      "resetting populations as the system collapsed\n",
      "resetting populations as the system collapsed\n",
      "resetting populations as the system collapsed\n",
      "resetting populations as the system collapsed\n"
     ]
    },
    {
     "name": "stderr",
     "output_type": "stream",
     "text": [
      "\r",
      " 41%|████      | 41/100 [04:37<06:39,  6.76s/it]"
     ]
    },
    {
     "name": "stdout",
     "output_type": "stream",
     "text": [
      "resetting populations as the system collapsed\n",
      "resetting populations as the system collapsed\n",
      "resetting populations as the system collapsed\n",
      "resetting populations as the system collapsed\n",
      "resetting populations as the system collapsed\n",
      "resetting populations as the system collapsed\n",
      "resetting populations as the system collapsed\n",
      "resetting populations as the system collapsed\n",
      "resetting populations as the system collapsed\n",
      "resetting populations as the system collapsed\n",
      "resetting populations as the system collapsed\n",
      "resetting populations as the system collapsed\n",
      "resetting populations as the system collapsed\n",
      "resetting populations as the system collapsed\n",
      "resetting populations as the system collapsed\n",
      "resetting populations as the system collapsed\n",
      "resetting populations as the system collapsed\n",
      "resetting populations as the system collapsed\n",
      "resetting populations as the system collapsed\n",
      "resetting populations as the system collapsed\n",
      "resetting populations as the system collapsed\n",
      "resetting populations as the system collapsed\n",
      "resetting populations as the system collapsed\n",
      "resetting populations as the system collapsed\n",
      "resetting populations as the system collapsed\n",
      "resetting populations as the system collapsed\n",
      "resetting populations as the system collapsed\n",
      "resetting populations as the system collapsed\n",
      "resetting populations as the system collapsed\n",
      "resetting populations as the system collapsed\n",
      "resetting populations as the system collapsed\n",
      "resetting populations as the system collapsed\n",
      "resetting populations as the system collapsed\n",
      "resetting populations as the system collapsed\n",
      "resetting populations as the system collapsed\n",
      "resetting populations as the system collapsed\n",
      "resetting populations as the system collapsed\n",
      "resetting populations as the system collapsed\n",
      "resetting populations as the system collapsed\n",
      "resetting populations as the system collapsed\n",
      "resetting populations as the system collapsed\n",
      "resetting populations as the system collapsed\n",
      "resetting populations as the system collapsed\n",
      "resetting populations as the system collapsed\n",
      "resetting populations as the system collapsed\n",
      "resetting populations as the system collapsed\n"
     ]
    },
    {
     "name": "stderr",
     "output_type": "stream",
     "text": [
      "\r",
      " 42%|████▏     | 42/100 [04:46<06:35,  6.82s/it]"
     ]
    },
    {
     "name": "stdout",
     "output_type": "stream",
     "text": [
      "resetting populations as the system collapsed\n",
      "resetting populations as the system collapsed\n",
      "resetting populations as the system collapsed\n",
      "resetting populations as the system collapsed\n",
      "resetting populations as the system collapsed\n",
      "resetting populations as the system collapsed\n",
      "resetting populations as the system collapsed\n",
      "resetting populations as the system collapsed\n",
      "resetting populations as the system collapsed\n",
      "resetting populations as the system collapsed\n",
      "resetting populations as the system collapsed\n",
      "resetting populations as the system collapsed\n",
      "resetting populations as the system collapsed\n",
      "resetting populations as the system collapsed\n",
      "resetting populations as the system collapsed\n",
      "resetting populations as the system collapsed\n",
      "resetting populations as the system collapsed\n",
      "resetting populations as the system collapsed\n",
      "resetting populations as the system collapsed\n",
      "resetting populations as the system collapsed\n",
      "resetting populations as the system collapsed\n",
      "resetting populations as the system collapsed\n",
      "resetting populations as the system collapsed\n",
      "resetting populations as the system collapsed\n",
      "resetting populations as the system collapsed\n",
      "resetting populations as the system collapsed\n",
      "resetting populations as the system collapsed\n",
      "resetting populations as the system collapsed\n",
      "resetting populations as the system collapsed\n",
      "resetting populations as the system collapsed\n",
      "resetting populations as the system collapsed\n",
      "resetting populations as the system collapsed\n",
      "resetting populations as the system collapsed\n",
      "resetting populations as the system collapsed\n",
      "resetting populations as the system collapsed\n",
      "resetting populations as the system collapsed\n"
     ]
    },
    {
     "name": "stderr",
     "output_type": "stream",
     "text": [
      "\r",
      " 43%|████▎     | 43/100 [04:53<06:29,  6.83s/it]"
     ]
    },
    {
     "name": "stdout",
     "output_type": "stream",
     "text": [
      "resetting populations as the system collapsed\n",
      "resetting populations as the system collapsed\n",
      "resetting populations as the system collapsed\n",
      "resetting populations as the system collapsed\n",
      "resetting populations as the system collapsed\n",
      "resetting populations as the system collapsed\n",
      "resetting populations as the system collapsed\n",
      "resetting populations as the system collapsed\n",
      "resetting populations as the system collapsed\n",
      "resetting populations as the system collapsed\n",
      "resetting populations as the system collapsed\n",
      "resetting populations as the system collapsed\n",
      "resetting populations as the system collapsed\n",
      "resetting populations as the system collapsed\n",
      "resetting populations as the system collapsed\n",
      "resetting populations as the system collapsed\n",
      "resetting populations as the system collapsed\n",
      "resetting populations as the system collapsed\n",
      "resetting populations as the system collapsed\n",
      "resetting populations as the system collapsed\n",
      "resetting populations as the system collapsed\n",
      "resetting populations as the system collapsed\n",
      "resetting populations as the system collapsed\n",
      "resetting populations as the system collapsed\n",
      "resetting populations as the system collapsed\n",
      "resetting populations as the system collapsed\n",
      "resetting populations as the system collapsed\n",
      "resetting populations as the system collapsed\n",
      "resetting populations as the system collapsed\n",
      "resetting populations as the system collapsed\n",
      "resetting populations as the system collapsed\n",
      "resetting populations as the system collapsed\n",
      "resetting populations as the system collapsed\n",
      "resetting populations as the system collapsed\n",
      "resetting populations as the system collapsed\n"
     ]
    },
    {
     "name": "stderr",
     "output_type": "stream",
     "text": [
      "\r",
      " 44%|████▍     | 44/100 [05:01<06:23,  6.85s/it]"
     ]
    },
    {
     "name": "stdout",
     "output_type": "stream",
     "text": [
      "resetting populations as the system collapsed\n",
      "resetting populations as the system collapsed\n",
      "resetting populations as the system collapsed\n",
      "resetting populations as the system collapsed\n",
      "resetting populations as the system collapsed\n",
      "resetting populations as the system collapsed\n",
      "resetting populations as the system collapsed\n",
      "resetting populations as the system collapsed\n",
      "resetting populations as the system collapsed\n",
      "resetting populations as the system collapsed\n",
      "resetting populations as the system collapsed\n",
      "resetting populations as the system collapsed\n",
      "resetting populations as the system collapsed\n",
      "resetting populations as the system collapsed\n",
      "resetting populations as the system collapsed\n",
      "resetting populations as the system collapsed\n",
      "resetting populations as the system collapsed\n",
      "resetting populations as the system collapsed\n",
      "resetting populations as the system collapsed\n",
      "resetting populations as the system collapsed\n",
      "resetting populations as the system collapsed\n",
      "resetting populations as the system collapsed\n",
      "resetting populations as the system collapsed\n",
      "resetting populations as the system collapsed\n",
      "resetting populations as the system collapsed\n",
      "resetting populations as the system collapsed\n",
      "resetting populations as the system collapsed\n",
      "resetting populations as the system collapsed\n",
      "resetting populations as the system collapsed\n",
      "resetting populations as the system collapsed\n",
      "resetting populations as the system collapsed\n",
      "resetting populations as the system collapsed\n",
      "resetting populations as the system collapsed\n",
      "resetting populations as the system collapsed\n",
      "resetting populations as the system collapsed\n",
      "resetting populations as the system collapsed\n",
      "resetting populations as the system collapsed\n",
      "resetting populations as the system collapsed\n",
      "resetting populations as the system collapsed\n",
      "resetting populations as the system collapsed\n",
      "resetting populations as the system collapsed\n",
      "resetting populations as the system collapsed\n",
      "resetting populations as the system collapsed\n"
     ]
    },
    {
     "name": "stderr",
     "output_type": "stream",
     "text": [
      "\r",
      " 45%|████▌     | 45/100 [05:09<06:18,  6.89s/it]"
     ]
    },
    {
     "name": "stdout",
     "output_type": "stream",
     "text": [
      "resetting populations as the system collapsed\n",
      "resetting populations as the system collapsed\n",
      "resetting populations as the system collapsed\n",
      "resetting populations as the system collapsed\n",
      "resetting populations as the system collapsed\n",
      "resetting populations as the system collapsed\n",
      "resetting populations as the system collapsed\n",
      "resetting populations as the system collapsed\n",
      "resetting populations as the system collapsed\n",
      "resetting populations as the system collapsed\n",
      "resetting populations as the system collapsed\n",
      "resetting populations as the system collapsed\n",
      "resetting populations as the system collapsed\n",
      "resetting populations as the system collapsed\n",
      "resetting populations as the system collapsed\n",
      "resetting populations as the system collapsed\n",
      "resetting populations as the system collapsed\n",
      "resetting populations as the system collapsed\n",
      "resetting populations as the system collapsed\n",
      "resetting populations as the system collapsed\n",
      "resetting populations as the system collapsed\n",
      "resetting populations as the system collapsed\n",
      "resetting populations as the system collapsed\n",
      "resetting populations as the system collapsed\n",
      "resetting populations as the system collapsed\n",
      "resetting populations as the system collapsed\n",
      "resetting populations as the system collapsed\n",
      "resetting populations as the system collapsed\n",
      "resetting populations as the system collapsed\n",
      "resetting populations as the system collapsed\n",
      "resetting populations as the system collapsed\n",
      "resetting populations as the system collapsed\n",
      "resetting populations as the system collapsed\n"
     ]
    },
    {
     "name": "stderr",
     "output_type": "stream",
     "text": [
      "\r",
      " 46%|████▌     | 46/100 [05:17<06:12,  6.89s/it]"
     ]
    },
    {
     "name": "stdout",
     "output_type": "stream",
     "text": [
      "resetting populations as the system collapsed\n",
      "resetting populations as the system collapsed\n",
      "resetting populations as the system collapsed\n",
      "resetting populations as the system collapsed\n",
      "resetting populations as the system collapsed\n",
      "resetting populations as the system collapsed\n",
      "resetting populations as the system collapsed\n",
      "resetting populations as the system collapsed\n",
      "resetting populations as the system collapsed\n",
      "resetting populations as the system collapsed\n",
      "resetting populations as the system collapsed\n",
      "resetting populations as the system collapsed\n",
      "resetting populations as the system collapsed\n",
      "resetting populations as the system collapsed\n",
      "resetting populations as the system collapsed\n",
      "resetting populations as the system collapsed\n",
      "resetting populations as the system collapsed\n",
      "resetting populations as the system collapsed\n",
      "resetting populations as the system collapsed\n",
      "resetting populations as the system collapsed\n",
      "resetting populations as the system collapsed\n",
      "resetting populations as the system collapsed\n",
      "resetting populations as the system collapsed\n",
      "resetting populations as the system collapsed\n",
      "resetting populations as the system collapsed\n",
      "resetting populations as the system collapsed\n",
      "resetting populations as the system collapsed\n",
      "resetting populations as the system collapsed\n",
      "resetting populations as the system collapsed\n",
      "resetting populations as the system collapsed\n",
      "resetting populations as the system collapsed\n",
      "resetting populations as the system collapsed\n",
      "resetting populations as the system collapsed\n",
      "resetting populations as the system collapsed\n",
      "resetting populations as the system collapsed\n"
     ]
    },
    {
     "name": "stderr",
     "output_type": "stream",
     "text": [
      "\r",
      " 47%|████▋     | 47/100 [05:24<06:06,  6.91s/it]"
     ]
    },
    {
     "name": "stdout",
     "output_type": "stream",
     "text": [
      "resetting populations as the system collapsed\n",
      "resetting populations as the system collapsed\n",
      "resetting populations as the system collapsed\n",
      "resetting populations as the system collapsed\n",
      "resetting populations as the system collapsed\n",
      "resetting populations as the system collapsed\n",
      "resetting populations as the system collapsed\n",
      "resetting populations as the system collapsed\n",
      "resetting populations as the system collapsed\n",
      "resetting populations as the system collapsed\n",
      "resetting populations as the system collapsed\n",
      "resetting populations as the system collapsed\n",
      "resetting populations as the system collapsed\n",
      "resetting populations as the system collapsed\n",
      "resetting populations as the system collapsed\n",
      "resetting populations as the system collapsed\n",
      "resetting populations as the system collapsed\n",
      "resetting populations as the system collapsed\n",
      "resetting populations as the system collapsed\n",
      "resetting populations as the system collapsed\n",
      "resetting populations as the system collapsed\n",
      "resetting populations as the system collapsed\n",
      "resetting populations as the system collapsed\n",
      "resetting populations as the system collapsed\n",
      "resetting populations as the system collapsed\n",
      "resetting populations as the system collapsed\n",
      "resetting populations as the system collapsed\n",
      "resetting populations as the system collapsed\n",
      "resetting populations as the system collapsed\n",
      "resetting populations as the system collapsed\n",
      "resetting populations as the system collapsed\n",
      "resetting populations as the system collapsed\n"
     ]
    },
    {
     "name": "stderr",
     "output_type": "stream",
     "text": [
      "\r",
      " 48%|████▊     | 48/100 [05:31<05:59,  6.91s/it]"
     ]
    },
    {
     "name": "stdout",
     "output_type": "stream",
     "text": [
      "resetting populations as the system collapsed\n",
      "resetting populations as the system collapsed\n",
      "resetting populations as the system collapsed\n",
      "resetting populations as the system collapsed\n",
      "resetting populations as the system collapsed\n",
      "resetting populations as the system collapsed\n",
      "resetting populations as the system collapsed\n",
      "resetting populations as the system collapsed\n",
      "resetting populations as the system collapsed\n",
      "resetting populations as the system collapsed\n",
      "resetting populations as the system collapsed\n",
      "resetting populations as the system collapsed\n",
      "resetting populations as the system collapsed\n",
      "resetting populations as the system collapsed\n",
      "resetting populations as the system collapsed\n",
      "resetting populations as the system collapsed\n",
      "resetting populations as the system collapsed\n",
      "resetting populations as the system collapsed\n",
      "resetting populations as the system collapsed\n",
      "resetting populations as the system collapsed\n",
      "resetting populations as the system collapsed\n",
      "resetting populations as the system collapsed\n",
      "resetting populations as the system collapsed\n",
      "resetting populations as the system collapsed\n",
      "resetting populations as the system collapsed\n"
     ]
    },
    {
     "name": "stderr",
     "output_type": "stream",
     "text": [
      "\r",
      " 49%|████▉     | 49/100 [05:37<05:51,  6.89s/it]"
     ]
    },
    {
     "name": "stdout",
     "output_type": "stream",
     "text": [
      "resetting populations as the system collapsed\n",
      "resetting populations as the system collapsed\n",
      "resetting populations as the system collapsed\n",
      "resetting populations as the system collapsed\n",
      "resetting populations as the system collapsed\n",
      "resetting populations as the system collapsed\n",
      "resetting populations as the system collapsed\n",
      "resetting populations as the system collapsed\n",
      "resetting populations as the system collapsed\n",
      "resetting populations as the system collapsed\n",
      "resetting populations as the system collapsed\n",
      "resetting populations as the system collapsed\n",
      "resetting populations as the system collapsed\n",
      "resetting populations as the system collapsed\n",
      "resetting populations as the system collapsed\n",
      "resetting populations as the system collapsed\n",
      "resetting populations as the system collapsed\n",
      "resetting populations as the system collapsed\n",
      "resetting populations as the system collapsed\n",
      "resetting populations as the system collapsed\n",
      "resetting populations as the system collapsed\n",
      "resetting populations as the system collapsed\n",
      "resetting populations as the system collapsed\n",
      "resetting populations as the system collapsed\n",
      "resetting populations as the system collapsed\n",
      "resetting populations as the system collapsed\n",
      "resetting populations as the system collapsed\n",
      "resetting populations as the system collapsed\n",
      "resetting populations as the system collapsed\n",
      "resetting populations as the system collapsed\n",
      "resetting populations as the system collapsed\n",
      "resetting populations as the system collapsed\n",
      "resetting populations as the system collapsed\n"
     ]
    },
    {
     "name": "stderr",
     "output_type": "stream",
     "text": [
      "\r",
      " 50%|█████     | 50/100 [05:45<05:45,  6.90s/it]"
     ]
    },
    {
     "name": "stdout",
     "output_type": "stream",
     "text": [
      "resetting populations as the system collapsed\n",
      "resetting populations as the system collapsed\n",
      "resetting populations as the system collapsed\n",
      "resetting populations as the system collapsed\n",
      "resetting populations as the system collapsed\n",
      "resetting populations as the system collapsed\n",
      "resetting populations as the system collapsed\n",
      "resetting populations as the system collapsed\n",
      "resetting populations as the system collapsed\n",
      "resetting populations as the system collapsed\n",
      "resetting populations as the system collapsed\n",
      "resetting populations as the system collapsed\n",
      "resetting populations as the system collapsed\n",
      "resetting populations as the system collapsed\n",
      "resetting populations as the system collapsed\n",
      "resetting populations as the system collapsed\n",
      "resetting populations as the system collapsed\n",
      "resetting populations as the system collapsed\n",
      "resetting populations as the system collapsed\n",
      "resetting populations as the system collapsed\n",
      "resetting populations as the system collapsed\n",
      "resetting populations as the system collapsed\n",
      "resetting populations as the system collapsed\n",
      "resetting populations as the system collapsed\n",
      "resetting populations as the system collapsed\n",
      "resetting populations as the system collapsed\n",
      "resetting populations as the system collapsed\n",
      "resetting populations as the system collapsed\n",
      "resetting populations as the system collapsed\n"
     ]
    },
    {
     "name": "stderr",
     "output_type": "stream",
     "text": [
      "\r",
      " 51%|█████     | 51/100 [05:51<05:37,  6.90s/it]"
     ]
    },
    {
     "name": "stdout",
     "output_type": "stream",
     "text": [
      "resetting populations as the system collapsed\n",
      "resetting populations as the system collapsed\n",
      "resetting populations as the system collapsed\n",
      "resetting populations as the system collapsed\n",
      "resetting populations as the system collapsed\n",
      "resetting populations as the system collapsed\n",
      "resetting populations as the system collapsed\n",
      "resetting populations as the system collapsed\n",
      "resetting populations as the system collapsed\n",
      "resetting populations as the system collapsed\n",
      "resetting populations as the system collapsed\n",
      "resetting populations as the system collapsed\n",
      "resetting populations as the system collapsed\n",
      "resetting populations as the system collapsed\n",
      "resetting populations as the system collapsed\n",
      "resetting populations as the system collapsed\n",
      "resetting populations as the system collapsed\n",
      "resetting populations as the system collapsed\n",
      "resetting populations as the system collapsed\n",
      "resetting populations as the system collapsed\n"
     ]
    },
    {
     "name": "stderr",
     "output_type": "stream",
     "text": [
      "\r",
      " 52%|█████▏    | 52/100 [05:56<05:29,  6.86s/it]"
     ]
    },
    {
     "name": "stdout",
     "output_type": "stream",
     "text": [
      "resetting populations as the system collapsed\n",
      "resetting populations as the system collapsed\n",
      "resetting populations as the system collapsed\n",
      "resetting populations as the system collapsed\n",
      "resetting populations as the system collapsed\n",
      "resetting populations as the system collapsed\n",
      "resetting populations as the system collapsed\n",
      "resetting populations as the system collapsed\n",
      "resetting populations as the system collapsed\n",
      "resetting populations as the system collapsed\n",
      "resetting populations as the system collapsed\n",
      "resetting populations as the system collapsed\n",
      "resetting populations as the system collapsed\n",
      "resetting populations as the system collapsed\n",
      "resetting populations as the system collapsed\n",
      "resetting populations as the system collapsed\n",
      "resetting populations as the system collapsed\n",
      "resetting populations as the system collapsed\n",
      "resetting populations as the system collapsed\n",
      "resetting populations as the system collapsed\n",
      "resetting populations as the system collapsed\n",
      "resetting populations as the system collapsed\n",
      "resetting populations as the system collapsed\n",
      "resetting populations as the system collapsed\n",
      "resetting populations as the system collapsed\n",
      "resetting populations as the system collapsed\n",
      "resetting populations as the system collapsed\n",
      "resetting populations as the system collapsed\n",
      "resetting populations as the system collapsed\n",
      "resetting populations as the system collapsed\n",
      "resetting populations as the system collapsed\n"
     ]
    },
    {
     "name": "stderr",
     "output_type": "stream",
     "text": [
      "\r",
      " 53%|█████▎    | 53/100 [06:03<05:22,  6.87s/it]"
     ]
    },
    {
     "name": "stdout",
     "output_type": "stream",
     "text": [
      "resetting populations as the system collapsed\n",
      "resetting populations as the system collapsed\n",
      "resetting populations as the system collapsed\n",
      "resetting populations as the system collapsed\n",
      "resetting populations as the system collapsed\n",
      "resetting populations as the system collapsed\n",
      "resetting populations as the system collapsed\n",
      "resetting populations as the system collapsed\n",
      "resetting populations as the system collapsed\n",
      "resetting populations as the system collapsed\n",
      "resetting populations as the system collapsed\n",
      "resetting populations as the system collapsed\n",
      "resetting populations as the system collapsed\n",
      "resetting populations as the system collapsed\n",
      "resetting populations as the system collapsed\n",
      "resetting populations as the system collapsed\n",
      "resetting populations as the system collapsed\n",
      "resetting populations as the system collapsed\n",
      "resetting populations as the system collapsed\n",
      "resetting populations as the system collapsed\n",
      "resetting populations as the system collapsed\n",
      "resetting populations as the system collapsed\n",
      "resetting populations as the system collapsed\n",
      "resetting populations as the system collapsed\n",
      "resetting populations as the system collapsed\n",
      "resetting populations as the system collapsed\n"
     ]
    },
    {
     "name": "stderr",
     "output_type": "stream",
     "text": [
      "\r",
      " 54%|█████▍    | 54/100 [06:10<05:15,  6.86s/it]"
     ]
    },
    {
     "name": "stdout",
     "output_type": "stream",
     "text": [
      "resetting populations as the system collapsed\n",
      "resetting populations as the system collapsed\n",
      "resetting populations as the system collapsed\n",
      "resetting populations as the system collapsed\n",
      "resetting populations as the system collapsed\n",
      "resetting populations as the system collapsed\n",
      "resetting populations as the system collapsed\n",
      "resetting populations as the system collapsed\n",
      "resetting populations as the system collapsed\n",
      "resetting populations as the system collapsed\n",
      "resetting populations as the system collapsed\n",
      "resetting populations as the system collapsed\n",
      "resetting populations as the system collapsed\n",
      "resetting populations as the system collapsed\n",
      "resetting populations as the system collapsed\n",
      "resetting populations as the system collapsed\n",
      "resetting populations as the system collapsed\n",
      "resetting populations as the system collapsed\n",
      "resetting populations as the system collapsed\n",
      "resetting populations as the system collapsed\n",
      "resetting populations as the system collapsed\n",
      "resetting populations as the system collapsed\n",
      "resetting populations as the system collapsed\n",
      "resetting populations as the system collapsed\n",
      "resetting populations as the system collapsed\n",
      "resetting populations as the system collapsed\n",
      "resetting populations as the system collapsed\n",
      "resetting populations as the system collapsed\n",
      "resetting populations as the system collapsed\n",
      "resetting populations as the system collapsed\n",
      "resetting populations as the system collapsed\n",
      "resetting populations as the system collapsed\n"
     ]
    },
    {
     "name": "stderr",
     "output_type": "stream",
     "text": [
      "\r",
      " 55%|█████▌    | 55/100 [06:17<05:08,  6.86s/it]"
     ]
    },
    {
     "name": "stdout",
     "output_type": "stream",
     "text": [
      "resetting populations as the system collapsed\n",
      "resetting populations as the system collapsed\n",
      "resetting populations as the system collapsed\n",
      "resetting populations as the system collapsed\n",
      "resetting populations as the system collapsed\n",
      "resetting populations as the system collapsed\n",
      "resetting populations as the system collapsed\n",
      "resetting populations as the system collapsed\n",
      "resetting populations as the system collapsed\n",
      "resetting populations as the system collapsed\n",
      "resetting populations as the system collapsed\n",
      "resetting populations as the system collapsed\n",
      "resetting populations as the system collapsed\n",
      "resetting populations as the system collapsed\n",
      "resetting populations as the system collapsed\n",
      "resetting populations as the system collapsed\n",
      "resetting populations as the system collapsed\n",
      "resetting populations as the system collapsed\n",
      "resetting populations as the system collapsed\n",
      "resetting populations as the system collapsed\n",
      "resetting populations as the system collapsed\n",
      "resetting populations as the system collapsed\n",
      "resetting populations as the system collapsed\n",
      "resetting populations as the system collapsed\n",
      "resetting populations as the system collapsed\n",
      "resetting populations as the system collapsed\n",
      "resetting populations as the system collapsed\n",
      "resetting populations as the system collapsed\n",
      "resetting populations as the system collapsed\n",
      "resetting populations as the system collapsed\n",
      "resetting populations as the system collapsed\n",
      "resetting populations as the system collapsed\n",
      "resetting populations as the system collapsed\n",
      "resetting populations as the system collapsed\n",
      "resetting populations as the system collapsed\n",
      "resetting populations as the system collapsed\n",
      "resetting populations as the system collapsed\n",
      "resetting populations as the system collapsed\n"
     ]
    },
    {
     "name": "stderr",
     "output_type": "stream",
     "text": [
      "\r",
      " 56%|█████▌    | 56/100 [06:25<05:02,  6.88s/it]"
     ]
    },
    {
     "name": "stdout",
     "output_type": "stream",
     "text": [
      "resetting populations as the system collapsed\n",
      "resetting populations as the system collapsed\n",
      "resetting populations as the system collapsed\n",
      "resetting populations as the system collapsed\n",
      "resetting populations as the system collapsed\n",
      "resetting populations as the system collapsed\n",
      "resetting populations as the system collapsed\n",
      "resetting populations as the system collapsed\n",
      "resetting populations as the system collapsed\n",
      "resetting populations as the system collapsed\n",
      "resetting populations as the system collapsed\n",
      "resetting populations as the system collapsed\n",
      "resetting populations as the system collapsed\n",
      "resetting populations as the system collapsed\n",
      "resetting populations as the system collapsed\n",
      "resetting populations as the system collapsed\n",
      "resetting populations as the system collapsed\n",
      "resetting populations as the system collapsed\n",
      "resetting populations as the system collapsed\n",
      "resetting populations as the system collapsed\n",
      "resetting populations as the system collapsed\n",
      "resetting populations as the system collapsed\n",
      "resetting populations as the system collapsed\n",
      "resetting populations as the system collapsed\n",
      "resetting populations as the system collapsed\n",
      "resetting populations as the system collapsed\n",
      "resetting populations as the system collapsed\n",
      "resetting populations as the system collapsed\n",
      "resetting populations as the system collapsed\n"
     ]
    },
    {
     "name": "stderr",
     "output_type": "stream",
     "text": [
      "\r",
      " 57%|█████▋    | 57/100 [06:31<04:55,  6.87s/it]"
     ]
    },
    {
     "name": "stdout",
     "output_type": "stream",
     "text": [
      "resetting populations as the system collapsed\n",
      "resetting populations as the system collapsed\n",
      "resetting populations as the system collapsed\n",
      "resetting populations as the system collapsed\n",
      "resetting populations as the system collapsed\n",
      "resetting populations as the system collapsed\n",
      "resetting populations as the system collapsed\n",
      "resetting populations as the system collapsed\n",
      "resetting populations as the system collapsed\n",
      "resetting populations as the system collapsed\n",
      "resetting populations as the system collapsed\n",
      "resetting populations as the system collapsed\n",
      "resetting populations as the system collapsed\n",
      "resetting populations as the system collapsed\n",
      "resetting populations as the system collapsed\n",
      "resetting populations as the system collapsed\n",
      "resetting populations as the system collapsed\n",
      "resetting populations as the system collapsed\n",
      "resetting populations as the system collapsed\n",
      "resetting populations as the system collapsed\n",
      "resetting populations as the system collapsed\n",
      "resetting populations as the system collapsed\n",
      "resetting populations as the system collapsed\n",
      "resetting populations as the system collapsed\n",
      "resetting populations as the system collapsed\n",
      "resetting populations as the system collapsed\n",
      "resetting populations as the system collapsed\n",
      "resetting populations as the system collapsed\n",
      "resetting populations as the system collapsed\n",
      "resetting populations as the system collapsed\n",
      "resetting populations as the system collapsed\n",
      "resetting populations as the system collapsed\n",
      "resetting populations as the system collapsed\n",
      "resetting populations as the system collapsed\n",
      "resetting populations as the system collapsed\n",
      "resetting populations as the system collapsed\n",
      "resetting populations as the system collapsed\n",
      "resetting populations as the system collapsed\n"
     ]
    },
    {
     "name": "stderr",
     "output_type": "stream",
     "text": [
      "\r",
      " 58%|█████▊    | 58/100 [06:39<04:49,  6.89s/it]"
     ]
    },
    {
     "name": "stdout",
     "output_type": "stream",
     "text": [
      "resetting populations as the system collapsed\n",
      "resetting populations as the system collapsed\n",
      "resetting populations as the system collapsed\n",
      "resetting populations as the system collapsed\n",
      "resetting populations as the system collapsed\n",
      "resetting populations as the system collapsed\n",
      "resetting populations as the system collapsed\n",
      "resetting populations as the system collapsed\n",
      "resetting populations as the system collapsed\n",
      "resetting populations as the system collapsed\n",
      "resetting populations as the system collapsed\n",
      "resetting populations as the system collapsed\n",
      "resetting populations as the system collapsed\n",
      "resetting populations as the system collapsed\n",
      "resetting populations as the system collapsed\n",
      "resetting populations as the system collapsed\n",
      "resetting populations as the system collapsed\n",
      "resetting populations as the system collapsed\n",
      "resetting populations as the system collapsed\n",
      "resetting populations as the system collapsed\n",
      "resetting populations as the system collapsed\n",
      "resetting populations as the system collapsed\n",
      "resetting populations as the system collapsed\n",
      "resetting populations as the system collapsed\n",
      "resetting populations as the system collapsed\n",
      "resetting populations as the system collapsed\n",
      "resetting populations as the system collapsed\n",
      "resetting populations as the system collapsed\n",
      "resetting populations as the system collapsed\n",
      "resetting populations as the system collapsed\n",
      "resetting populations as the system collapsed\n",
      "resetting populations as the system collapsed\n"
     ]
    },
    {
     "name": "stderr",
     "output_type": "stream",
     "text": [
      "\r",
      " 59%|█████▉    | 59/100 [06:46<04:42,  6.89s/it]"
     ]
    },
    {
     "name": "stdout",
     "output_type": "stream",
     "text": [
      "resetting populations as the system collapsed\n",
      "resetting populations as the system collapsed\n",
      "resetting populations as the system collapsed\n",
      "resetting populations as the system collapsed\n",
      "resetting populations as the system collapsed\n",
      "resetting populations as the system collapsed\n",
      "resetting populations as the system collapsed\n",
      "resetting populations as the system collapsed\n",
      "resetting populations as the system collapsed\n",
      "resetting populations as the system collapsed\n",
      "resetting populations as the system collapsed\n",
      "resetting populations as the system collapsed\n",
      "resetting populations as the system collapsed\n",
      "resetting populations as the system collapsed\n",
      "resetting populations as the system collapsed\n",
      "resetting populations as the system collapsed\n",
      "resetting populations as the system collapsed\n",
      "resetting populations as the system collapsed\n",
      "resetting populations as the system collapsed\n",
      "resetting populations as the system collapsed\n",
      "resetting populations as the system collapsed\n",
      "resetting populations as the system collapsed\n",
      "resetting populations as the system collapsed\n",
      "resetting populations as the system collapsed\n",
      "resetting populations as the system collapsed\n",
      "resetting populations as the system collapsed\n",
      "resetting populations as the system collapsed\n",
      "resetting populations as the system collapsed\n",
      "resetting populations as the system collapsed\n",
      "resetting populations as the system collapsed\n",
      "resetting populations as the system collapsed\n",
      "resetting populations as the system collapsed\n"
     ]
    },
    {
     "name": "stderr",
     "output_type": "stream",
     "text": [
      "\r",
      " 60%|██████    | 60/100 [06:53<04:35,  6.89s/it]"
     ]
    },
    {
     "name": "stdout",
     "output_type": "stream",
     "text": [
      "resetting populations as the system collapsed\n",
      "resetting populations as the system collapsed\n",
      "resetting populations as the system collapsed\n",
      "resetting populations as the system collapsed\n",
      "resetting populations as the system collapsed\n",
      "resetting populations as the system collapsed\n",
      "resetting populations as the system collapsed\n",
      "resetting populations as the system collapsed\n",
      "resetting populations as the system collapsed\n",
      "resetting populations as the system collapsed\n",
      "resetting populations as the system collapsed\n",
      "resetting populations as the system collapsed\n",
      "resetting populations as the system collapsed\n",
      "resetting populations as the system collapsed\n",
      "resetting populations as the system collapsed\n",
      "resetting populations as the system collapsed\n",
      "resetting populations as the system collapsed\n",
      "resetting populations as the system collapsed\n",
      "resetting populations as the system collapsed\n",
      "resetting populations as the system collapsed\n",
      "resetting populations as the system collapsed\n",
      "resetting populations as the system collapsed\n",
      "resetting populations as the system collapsed\n",
      "resetting populations as the system collapsed\n",
      "resetting populations as the system collapsed\n"
     ]
    },
    {
     "name": "stderr",
     "output_type": "stream",
     "text": [
      "\r",
      " 61%|██████    | 61/100 [06:59<04:28,  6.88s/it]"
     ]
    },
    {
     "name": "stdout",
     "output_type": "stream",
     "text": [
      "resetting populations as the system collapsed\n",
      "resetting populations as the system collapsed\n",
      "resetting populations as the system collapsed\n",
      "resetting populations as the system collapsed\n",
      "resetting populations as the system collapsed\n",
      "resetting populations as the system collapsed\n",
      "resetting populations as the system collapsed\n",
      "resetting populations as the system collapsed\n",
      "resetting populations as the system collapsed\n",
      "resetting populations as the system collapsed\n",
      "resetting populations as the system collapsed\n",
      "resetting populations as the system collapsed\n",
      "resetting populations as the system collapsed\n",
      "resetting populations as the system collapsed\n",
      "resetting populations as the system collapsed\n",
      "resetting populations as the system collapsed\n",
      "resetting populations as the system collapsed\n",
      "resetting populations as the system collapsed\n",
      "resetting populations as the system collapsed\n",
      "resetting populations as the system collapsed\n",
      "resetting populations as the system collapsed\n",
      "resetting populations as the system collapsed\n",
      "resetting populations as the system collapsed\n",
      "resetting populations as the system collapsed\n",
      "resetting populations as the system collapsed\n",
      "resetting populations as the system collapsed\n",
      "resetting populations as the system collapsed\n",
      "resetting populations as the system collapsed\n",
      "resetting populations as the system collapsed\n",
      "resetting populations as the system collapsed\n",
      "resetting populations as the system collapsed\n",
      "resetting populations as the system collapsed\n",
      "resetting populations as the system collapsed\n",
      "resetting populations as the system collapsed\n",
      "resetting populations as the system collapsed\n",
      "resetting populations as the system collapsed\n",
      "resetting populations as the system collapsed\n",
      "resetting populations as the system collapsed\n",
      "resetting populations as the system collapsed\n",
      "resetting populations as the system collapsed\n"
     ]
    },
    {
     "name": "stderr",
     "output_type": "stream",
     "text": [
      "\r",
      " 62%|██████▏   | 62/100 [07:07<04:22,  6.90s/it]"
     ]
    },
    {
     "name": "stdout",
     "output_type": "stream",
     "text": [
      "resetting populations as the system collapsed\n",
      "resetting populations as the system collapsed\n",
      "resetting populations as the system collapsed\n",
      "resetting populations as the system collapsed\n",
      "resetting populations as the system collapsed\n",
      "resetting populations as the system collapsed\n",
      "resetting populations as the system collapsed\n",
      "resetting populations as the system collapsed\n",
      "resetting populations as the system collapsed\n",
      "resetting populations as the system collapsed\n",
      "resetting populations as the system collapsed\n",
      "resetting populations as the system collapsed\n",
      "resetting populations as the system collapsed\n",
      "resetting populations as the system collapsed\n",
      "resetting populations as the system collapsed\n",
      "resetting populations as the system collapsed\n",
      "resetting populations as the system collapsed\n",
      "resetting populations as the system collapsed\n",
      "resetting populations as the system collapsed\n",
      "resetting populations as the system collapsed\n",
      "resetting populations as the system collapsed\n",
      "resetting populations as the system collapsed\n",
      "resetting populations as the system collapsed\n",
      "resetting populations as the system collapsed\n",
      "resetting populations as the system collapsed\n",
      "resetting populations as the system collapsed\n",
      "resetting populations as the system collapsed\n",
      "resetting populations as the system collapsed\n",
      "resetting populations as the system collapsed\n",
      "resetting populations as the system collapsed\n",
      "resetting populations as the system collapsed\n",
      "resetting populations as the system collapsed\n",
      "resetting populations as the system collapsed\n"
     ]
    },
    {
     "name": "stderr",
     "output_type": "stream",
     "text": [
      "\r",
      " 63%|██████▎   | 63/100 [07:14<04:15,  6.90s/it]"
     ]
    },
    {
     "name": "stdout",
     "output_type": "stream",
     "text": [
      "resetting populations as the system collapsed\n",
      "resetting populations as the system collapsed\n",
      "resetting populations as the system collapsed\n",
      "resetting populations as the system collapsed\n",
      "resetting populations as the system collapsed\n",
      "resetting populations as the system collapsed\n",
      "resetting populations as the system collapsed\n",
      "resetting populations as the system collapsed\n",
      "resetting populations as the system collapsed\n",
      "resetting populations as the system collapsed\n",
      "resetting populations as the system collapsed\n",
      "resetting populations as the system collapsed\n",
      "resetting populations as the system collapsed\n",
      "resetting populations as the system collapsed\n",
      "resetting populations as the system collapsed\n",
      "resetting populations as the system collapsed\n",
      "resetting populations as the system collapsed\n",
      "resetting populations as the system collapsed\n",
      "resetting populations as the system collapsed\n",
      "resetting populations as the system collapsed\n",
      "resetting populations as the system collapsed\n",
      "resetting populations as the system collapsed\n",
      "resetting populations as the system collapsed\n",
      "resetting populations as the system collapsed\n",
      "resetting populations as the system collapsed\n"
     ]
    },
    {
     "name": "stderr",
     "output_type": "stream",
     "text": [
      "\r",
      " 64%|██████▍   | 64/100 [07:20<04:08,  6.89s/it]"
     ]
    },
    {
     "name": "stdout",
     "output_type": "stream",
     "text": [
      "resetting populations as the system collapsed\n",
      "resetting populations as the system collapsed\n",
      "resetting populations as the system collapsed\n",
      "resetting populations as the system collapsed\n",
      "resetting populations as the system collapsed\n",
      "resetting populations as the system collapsed\n",
      "resetting populations as the system collapsed\n",
      "resetting populations as the system collapsed\n",
      "resetting populations as the system collapsed\n",
      "resetting populations as the system collapsed\n",
      "resetting populations as the system collapsed\n",
      "resetting populations as the system collapsed\n",
      "resetting populations as the system collapsed\n",
      "resetting populations as the system collapsed\n",
      "resetting populations as the system collapsed\n",
      "resetting populations as the system collapsed\n",
      "resetting populations as the system collapsed\n",
      "resetting populations as the system collapsed\n",
      "resetting populations as the system collapsed\n",
      "resetting populations as the system collapsed\n",
      "resetting populations as the system collapsed\n",
      "resetting populations as the system collapsed\n",
      "resetting populations as the system collapsed\n",
      "resetting populations as the system collapsed\n",
      "resetting populations as the system collapsed\n",
      "resetting populations as the system collapsed\n",
      "resetting populations as the system collapsed\n"
     ]
    },
    {
     "name": "stderr",
     "output_type": "stream",
     "text": [
      "\r",
      " 65%|██████▌   | 65/100 [07:27<04:00,  6.88s/it]"
     ]
    },
    {
     "name": "stdout",
     "output_type": "stream",
     "text": [
      "resetting populations as the system collapsed\n",
      "resetting populations as the system collapsed\n",
      "resetting populations as the system collapsed\n",
      "resetting populations as the system collapsed\n",
      "resetting populations as the system collapsed\n",
      "resetting populations as the system collapsed\n",
      "resetting populations as the system collapsed\n",
      "resetting populations as the system collapsed\n",
      "resetting populations as the system collapsed\n",
      "resetting populations as the system collapsed\n",
      "resetting populations as the system collapsed\n",
      "resetting populations as the system collapsed\n",
      "resetting populations as the system collapsed\n",
      "resetting populations as the system collapsed\n",
      "resetting populations as the system collapsed\n",
      "resetting populations as the system collapsed\n",
      "resetting populations as the system collapsed\n",
      "resetting populations as the system collapsed\n",
      "resetting populations as the system collapsed\n",
      "resetting populations as the system collapsed\n",
      "resetting populations as the system collapsed\n",
      "resetting populations as the system collapsed\n",
      "resetting populations as the system collapsed\n",
      "resetting populations as the system collapsed\n",
      "resetting populations as the system collapsed\n",
      "resetting populations as the system collapsed\n",
      "resetting populations as the system collapsed\n",
      "resetting populations as the system collapsed\n",
      "resetting populations as the system collapsed\n",
      "resetting populations as the system collapsed\n",
      "resetting populations as the system collapsed\n",
      "resetting populations as the system collapsed\n",
      "resetting populations as the system collapsed\n",
      "resetting populations as the system collapsed\n",
      "resetting populations as the system collapsed\n"
     ]
    },
    {
     "name": "stderr",
     "output_type": "stream",
     "text": [
      "\r",
      " 66%|██████▌   | 66/100 [07:34<03:54,  6.89s/it]"
     ]
    },
    {
     "name": "stdout",
     "output_type": "stream",
     "text": [
      "resetting populations as the system collapsed\n",
      "resetting populations as the system collapsed\n",
      "resetting populations as the system collapsed\n",
      "resetting populations as the system collapsed\n",
      "resetting populations as the system collapsed\n",
      "resetting populations as the system collapsed\n",
      "resetting populations as the system collapsed\n",
      "resetting populations as the system collapsed\n",
      "resetting populations as the system collapsed\n",
      "resetting populations as the system collapsed\n",
      "resetting populations as the system collapsed\n",
      "resetting populations as the system collapsed\n",
      "resetting populations as the system collapsed\n",
      "resetting populations as the system collapsed\n",
      "resetting populations as the system collapsed\n",
      "resetting populations as the system collapsed\n",
      "resetting populations as the system collapsed\n",
      "resetting populations as the system collapsed\n",
      "resetting populations as the system collapsed\n",
      "resetting populations as the system collapsed\n",
      "resetting populations as the system collapsed\n",
      "resetting populations as the system collapsed\n",
      "resetting populations as the system collapsed\n",
      "resetting populations as the system collapsed\n",
      "resetting populations as the system collapsed\n",
      "resetting populations as the system collapsed\n",
      "resetting populations as the system collapsed\n",
      "resetting populations as the system collapsed\n",
      "resetting populations as the system collapsed\n",
      "resetting populations as the system collapsed\n",
      "resetting populations as the system collapsed\n",
      "resetting populations as the system collapsed\n",
      "resetting populations as the system collapsed\n",
      "resetting populations as the system collapsed\n"
     ]
    },
    {
     "name": "stderr",
     "output_type": "stream",
     "text": [
      "\r",
      " 67%|██████▋   | 67/100 [07:42<03:47,  6.90s/it]"
     ]
    },
    {
     "name": "stdout",
     "output_type": "stream",
     "text": [
      "resetting populations as the system collapsed\n",
      "resetting populations as the system collapsed\n",
      "resetting populations as the system collapsed\n",
      "resetting populations as the system collapsed\n",
      "resetting populations as the system collapsed\n",
      "resetting populations as the system collapsed\n",
      "resetting populations as the system collapsed\n",
      "resetting populations as the system collapsed\n",
      "resetting populations as the system collapsed\n",
      "resetting populations as the system collapsed\n",
      "resetting populations as the system collapsed\n",
      "resetting populations as the system collapsed\n",
      "resetting populations as the system collapsed\n",
      "resetting populations as the system collapsed\n",
      "resetting populations as the system collapsed\n",
      "resetting populations as the system collapsed\n",
      "resetting populations as the system collapsed\n",
      "resetting populations as the system collapsed\n",
      "resetting populations as the system collapsed\n",
      "resetting populations as the system collapsed\n",
      "resetting populations as the system collapsed\n",
      "resetting populations as the system collapsed\n",
      "resetting populations as the system collapsed\n",
      "resetting populations as the system collapsed\n",
      "resetting populations as the system collapsed\n",
      "resetting populations as the system collapsed\n",
      "resetting populations as the system collapsed\n",
      "resetting populations as the system collapsed\n",
      "resetting populations as the system collapsed\n",
      "resetting populations as the system collapsed\n",
      "resetting populations as the system collapsed\n",
      "resetting populations as the system collapsed\n",
      "resetting populations as the system collapsed\n"
     ]
    },
    {
     "name": "stderr",
     "output_type": "stream",
     "text": [
      "\r",
      " 68%|██████▊   | 68/100 [07:49<03:40,  6.90s/it]"
     ]
    },
    {
     "name": "stdout",
     "output_type": "stream",
     "text": [
      "resetting populations as the system collapsed\n",
      "resetting populations as the system collapsed\n",
      "resetting populations as the system collapsed\n",
      "resetting populations as the system collapsed\n",
      "resetting populations as the system collapsed\n",
      "resetting populations as the system collapsed\n",
      "resetting populations as the system collapsed\n",
      "resetting populations as the system collapsed\n",
      "resetting populations as the system collapsed\n",
      "resetting populations as the system collapsed\n",
      "resetting populations as the system collapsed\n",
      "resetting populations as the system collapsed\n",
      "resetting populations as the system collapsed\n",
      "resetting populations as the system collapsed\n",
      "resetting populations as the system collapsed\n",
      "resetting populations as the system collapsed\n",
      "resetting populations as the system collapsed\n",
      "resetting populations as the system collapsed\n",
      "resetting populations as the system collapsed\n",
      "resetting populations as the system collapsed\n",
      "resetting populations as the system collapsed\n",
      "resetting populations as the system collapsed\n",
      "resetting populations as the system collapsed\n"
     ]
    },
    {
     "name": "stderr",
     "output_type": "stream",
     "text": [
      "\r",
      " 69%|██████▉   | 69/100 [07:54<03:33,  6.88s/it]"
     ]
    },
    {
     "name": "stdout",
     "output_type": "stream",
     "text": [
      "resetting populations as the system collapsed\n",
      "resetting populations as the system collapsed\n",
      "resetting populations as the system collapsed\n",
      "resetting populations as the system collapsed\n",
      "resetting populations as the system collapsed\n",
      "resetting populations as the system collapsed\n",
      "resetting populations as the system collapsed\n",
      "resetting populations as the system collapsed\n",
      "resetting populations as the system collapsed\n",
      "resetting populations as the system collapsed\n",
      "resetting populations as the system collapsed\n",
      "resetting populations as the system collapsed\n",
      "resetting populations as the system collapsed\n",
      "resetting populations as the system collapsed\n",
      "resetting populations as the system collapsed\n",
      "resetting populations as the system collapsed\n",
      "resetting populations as the system collapsed\n",
      "resetting populations as the system collapsed\n",
      "resetting populations as the system collapsed\n",
      "resetting populations as the system collapsed\n",
      "resetting populations as the system collapsed\n",
      "resetting populations as the system collapsed\n",
      "resetting populations as the system collapsed\n",
      "resetting populations as the system collapsed\n",
      "resetting populations as the system collapsed\n",
      "resetting populations as the system collapsed\n",
      "resetting populations as the system collapsed\n",
      "resetting populations as the system collapsed\n",
      "resetting populations as the system collapsed\n",
      "resetting populations as the system collapsed\n",
      "resetting populations as the system collapsed\n",
      "resetting populations as the system collapsed\n",
      "resetting populations as the system collapsed\n",
      "resetting populations as the system collapsed\n",
      "resetting populations as the system collapsed\n",
      "resetting populations as the system collapsed\n",
      "resetting populations as the system collapsed\n",
      "resetting populations as the system collapsed\n",
      "resetting populations as the system collapsed\n",
      "resetting populations as the system collapsed\n",
      "resetting populations as the system collapsed\n",
      "resetting populations as the system collapsed\n"
     ]
    },
    {
     "name": "stderr",
     "output_type": "stream",
     "text": [
      "\r",
      " 70%|███████   | 70/100 [08:03<03:27,  6.91s/it]"
     ]
    },
    {
     "name": "stdout",
     "output_type": "stream",
     "text": [
      "resetting populations as the system collapsed\n",
      "resetting populations as the system collapsed\n",
      "resetting populations as the system collapsed\n",
      "resetting populations as the system collapsed\n",
      "resetting populations as the system collapsed\n",
      "resetting populations as the system collapsed\n",
      "resetting populations as the system collapsed\n",
      "resetting populations as the system collapsed\n",
      "resetting populations as the system collapsed\n",
      "resetting populations as the system collapsed\n",
      "resetting populations as the system collapsed\n",
      "resetting populations as the system collapsed\n",
      "resetting populations as the system collapsed\n",
      "resetting populations as the system collapsed\n",
      "resetting populations as the system collapsed\n",
      "resetting populations as the system collapsed\n",
      "resetting populations as the system collapsed\n",
      "resetting populations as the system collapsed\n",
      "resetting populations as the system collapsed\n",
      "resetting populations as the system collapsed\n",
      "resetting populations as the system collapsed\n",
      "resetting populations as the system collapsed\n",
      "resetting populations as the system collapsed\n",
      "resetting populations as the system collapsed\n",
      "resetting populations as the system collapsed\n",
      "resetting populations as the system collapsed\n",
      "resetting populations as the system collapsed\n",
      "resetting populations as the system collapsed\n",
      "resetting populations as the system collapsed\n",
      "resetting populations as the system collapsed\n",
      "resetting populations as the system collapsed\n",
      "resetting populations as the system collapsed\n",
      "resetting populations as the system collapsed\n",
      "resetting populations as the system collapsed\n"
     ]
    },
    {
     "name": "stderr",
     "output_type": "stream",
     "text": [
      "\r",
      " 71%|███████   | 71/100 [08:10<03:20,  6.91s/it]"
     ]
    },
    {
     "name": "stdout",
     "output_type": "stream",
     "text": [
      "resetting populations as the system collapsed\n",
      "resetting populations as the system collapsed\n",
      "resetting populations as the system collapsed\n",
      "resetting populations as the system collapsed\n",
      "resetting populations as the system collapsed\n",
      "resetting populations as the system collapsed\n",
      "resetting populations as the system collapsed\n",
      "resetting populations as the system collapsed\n",
      "resetting populations as the system collapsed\n",
      "resetting populations as the system collapsed\n",
      "resetting populations as the system collapsed\n",
      "resetting populations as the system collapsed\n",
      "resetting populations as the system collapsed\n",
      "resetting populations as the system collapsed\n",
      "resetting populations as the system collapsed\n",
      "resetting populations as the system collapsed\n",
      "resetting populations as the system collapsed\n",
      "resetting populations as the system collapsed\n",
      "resetting populations as the system collapsed\n",
      "resetting populations as the system collapsed\n",
      "resetting populations as the system collapsed\n",
      "resetting populations as the system collapsed\n",
      "resetting populations as the system collapsed\n",
      "resetting populations as the system collapsed\n",
      "resetting populations as the system collapsed\n",
      "resetting populations as the system collapsed\n",
      "resetting populations as the system collapsed\n",
      "resetting populations as the system collapsed\n",
      "resetting populations as the system collapsed\n",
      "resetting populations as the system collapsed\n",
      "resetting populations as the system collapsed\n"
     ]
    },
    {
     "name": "stderr",
     "output_type": "stream",
     "text": [
      "\r",
      " 72%|███████▏  | 72/100 [08:17<03:13,  6.91s/it]"
     ]
    },
    {
     "name": "stdout",
     "output_type": "stream",
     "text": [
      "resetting populations as the system collapsed\n",
      "resetting populations as the system collapsed\n",
      "resetting populations as the system collapsed\n",
      "resetting populations as the system collapsed\n",
      "resetting populations as the system collapsed\n",
      "resetting populations as the system collapsed\n",
      "resetting populations as the system collapsed\n",
      "resetting populations as the system collapsed\n",
      "resetting populations as the system collapsed\n",
      "resetting populations as the system collapsed\n",
      "resetting populations as the system collapsed\n",
      "resetting populations as the system collapsed\n",
      "resetting populations as the system collapsed\n",
      "resetting populations as the system collapsed\n",
      "resetting populations as the system collapsed\n",
      "resetting populations as the system collapsed\n",
      "resetting populations as the system collapsed\n",
      "resetting populations as the system collapsed\n",
      "resetting populations as the system collapsed\n",
      "resetting populations as the system collapsed\n",
      "resetting populations as the system collapsed\n",
      "resetting populations as the system collapsed\n",
      "resetting populations as the system collapsed\n",
      "resetting populations as the system collapsed\n",
      "resetting populations as the system collapsed\n",
      "resetting populations as the system collapsed\n",
      "resetting populations as the system collapsed\n",
      "resetting populations as the system collapsed\n",
      "resetting populations as the system collapsed\n",
      "resetting populations as the system collapsed\n",
      "resetting populations as the system collapsed\n"
     ]
    },
    {
     "name": "stderr",
     "output_type": "stream",
     "text": [
      "\r",
      " 73%|███████▎  | 73/100 [08:24<03:06,  6.91s/it]"
     ]
    },
    {
     "name": "stdout",
     "output_type": "stream",
     "text": [
      "resetting populations as the system collapsed\n",
      "resetting populations as the system collapsed\n",
      "resetting populations as the system collapsed\n",
      "resetting populations as the system collapsed\n",
      "resetting populations as the system collapsed\n",
      "resetting populations as the system collapsed\n",
      "resetting populations as the system collapsed\n",
      "resetting populations as the system collapsed\n",
      "resetting populations as the system collapsed\n",
      "resetting populations as the system collapsed\n",
      "resetting populations as the system collapsed\n",
      "resetting populations as the system collapsed\n",
      "resetting populations as the system collapsed\n",
      "resetting populations as the system collapsed\n",
      "resetting populations as the system collapsed\n",
      "resetting populations as the system collapsed\n"
     ]
    },
    {
     "name": "stderr",
     "output_type": "stream",
     "text": [
      "\r",
      " 74%|███████▍  | 74/100 [08:29<02:58,  6.88s/it]"
     ]
    },
    {
     "name": "stdout",
     "output_type": "stream",
     "text": [
      "resetting populations as the system collapsed\n",
      "resetting populations as the system collapsed\n",
      "resetting populations as the system collapsed\n",
      "resetting populations as the system collapsed\n",
      "resetting populations as the system collapsed\n",
      "resetting populations as the system collapsed\n",
      "resetting populations as the system collapsed\n",
      "resetting populations as the system collapsed\n",
      "resetting populations as the system collapsed\n",
      "resetting populations as the system collapsed\n",
      "resetting populations as the system collapsed\n",
      "resetting populations as the system collapsed\n",
      "resetting populations as the system collapsed\n",
      "resetting populations as the system collapsed\n",
      "resetting populations as the system collapsed\n",
      "resetting populations as the system collapsed\n",
      "resetting populations as the system collapsed\n",
      "resetting populations as the system collapsed\n",
      "resetting populations as the system collapsed\n",
      "resetting populations as the system collapsed\n",
      "resetting populations as the system collapsed\n",
      "resetting populations as the system collapsed\n",
      "resetting populations as the system collapsed\n",
      "resetting populations as the system collapsed\n",
      "resetting populations as the system collapsed\n",
      "resetting populations as the system collapsed\n",
      "resetting populations as the system collapsed\n",
      "resetting populations as the system collapsed\n",
      "resetting populations as the system collapsed\n",
      "resetting populations as the system collapsed\n"
     ]
    },
    {
     "name": "stderr",
     "output_type": "stream",
     "text": [
      "\r",
      " 75%|███████▌  | 75/100 [08:36<02:52,  6.88s/it]"
     ]
    },
    {
     "name": "stdout",
     "output_type": "stream",
     "text": [
      "resetting populations as the system collapsed\n",
      "resetting populations as the system collapsed\n",
      "resetting populations as the system collapsed\n",
      "resetting populations as the system collapsed\n",
      "resetting populations as the system collapsed\n",
      "resetting populations as the system collapsed\n",
      "resetting populations as the system collapsed\n",
      "resetting populations as the system collapsed\n",
      "resetting populations as the system collapsed\n",
      "resetting populations as the system collapsed\n",
      "resetting populations as the system collapsed\n",
      "resetting populations as the system collapsed\n",
      "resetting populations as the system collapsed\n",
      "resetting populations as the system collapsed\n",
      "resetting populations as the system collapsed\n",
      "resetting populations as the system collapsed\n",
      "resetting populations as the system collapsed\n",
      "resetting populations as the system collapsed\n",
      "resetting populations as the system collapsed\n",
      "resetting populations as the system collapsed\n",
      "resetting populations as the system collapsed\n",
      "resetting populations as the system collapsed\n",
      "resetting populations as the system collapsed\n",
      "resetting populations as the system collapsed\n",
      "resetting populations as the system collapsed\n",
      "resetting populations as the system collapsed\n",
      "resetting populations as the system collapsed\n",
      "resetting populations as the system collapsed\n"
     ]
    },
    {
     "name": "stderr",
     "output_type": "stream",
     "text": [
      "\r",
      " 76%|███████▌  | 76/100 [08:42<02:44,  6.87s/it]"
     ]
    },
    {
     "name": "stdout",
     "output_type": "stream",
     "text": [
      "resetting populations as the system collapsed\n",
      "resetting populations as the system collapsed\n",
      "resetting populations as the system collapsed\n",
      "resetting populations as the system collapsed\n",
      "resetting populations as the system collapsed\n",
      "resetting populations as the system collapsed\n",
      "resetting populations as the system collapsed\n",
      "resetting populations as the system collapsed\n",
      "resetting populations as the system collapsed\n",
      "resetting populations as the system collapsed\n",
      "resetting populations as the system collapsed\n",
      "resetting populations as the system collapsed\n",
      "resetting populations as the system collapsed\n",
      "resetting populations as the system collapsed\n",
      "resetting populations as the system collapsed\n",
      "resetting populations as the system collapsed\n",
      "resetting populations as the system collapsed\n",
      "resetting populations as the system collapsed\n",
      "resetting populations as the system collapsed\n",
      "resetting populations as the system collapsed\n",
      "resetting populations as the system collapsed\n",
      "resetting populations as the system collapsed\n",
      "resetting populations as the system collapsed\n",
      "resetting populations as the system collapsed\n",
      "resetting populations as the system collapsed\n",
      "resetting populations as the system collapsed\n",
      "resetting populations as the system collapsed\n",
      "resetting populations as the system collapsed\n",
      "resetting populations as the system collapsed\n"
     ]
    },
    {
     "name": "stderr",
     "output_type": "stream",
     "text": [
      "\r",
      " 77%|███████▋  | 77/100 [08:49<02:38,  6.87s/it]"
     ]
    },
    {
     "name": "stdout",
     "output_type": "stream",
     "text": [
      "resetting populations as the system collapsed\n",
      "resetting populations as the system collapsed\n",
      "resetting populations as the system collapsed\n",
      "resetting populations as the system collapsed\n",
      "resetting populations as the system collapsed\n",
      "resetting populations as the system collapsed\n",
      "resetting populations as the system collapsed\n",
      "resetting populations as the system collapsed\n",
      "resetting populations as the system collapsed\n",
      "resetting populations as the system collapsed\n",
      "resetting populations as the system collapsed\n",
      "resetting populations as the system collapsed\n",
      "resetting populations as the system collapsed\n",
      "resetting populations as the system collapsed\n",
      "resetting populations as the system collapsed\n",
      "resetting populations as the system collapsed\n",
      "resetting populations as the system collapsed\n",
      "resetting populations as the system collapsed\n",
      "resetting populations as the system collapsed\n",
      "resetting populations as the system collapsed\n",
      "resetting populations as the system collapsed\n",
      "resetting populations as the system collapsed\n",
      "resetting populations as the system collapsed\n",
      "resetting populations as the system collapsed\n",
      "resetting populations as the system collapsed\n",
      "resetting populations as the system collapsed\n",
      "resetting populations as the system collapsed\n",
      "resetting populations as the system collapsed\n"
     ]
    },
    {
     "name": "stderr",
     "output_type": "stream",
     "text": [
      "\r",
      " 78%|███████▊  | 78/100 [08:55<02:31,  6.87s/it]"
     ]
    },
    {
     "name": "stdout",
     "output_type": "stream",
     "text": [
      "resetting populations as the system collapsed\n",
      "resetting populations as the system collapsed\n",
      "resetting populations as the system collapsed\n",
      "resetting populations as the system collapsed\n",
      "resetting populations as the system collapsed\n",
      "resetting populations as the system collapsed\n",
      "resetting populations as the system collapsed\n",
      "resetting populations as the system collapsed\n",
      "resetting populations as the system collapsed\n",
      "resetting populations as the system collapsed\n",
      "resetting populations as the system collapsed\n",
      "resetting populations as the system collapsed\n",
      "resetting populations as the system collapsed\n",
      "resetting populations as the system collapsed\n",
      "resetting populations as the system collapsed\n",
      "resetting populations as the system collapsed\n",
      "resetting populations as the system collapsed\n",
      "resetting populations as the system collapsed\n",
      "resetting populations as the system collapsed\n",
      "resetting populations as the system collapsed\n",
      "resetting populations as the system collapsed\n",
      "resetting populations as the system collapsed\n",
      "resetting populations as the system collapsed\n",
      "resetting populations as the system collapsed\n",
      "resetting populations as the system collapsed\n",
      "resetting populations as the system collapsed\n",
      "resetting populations as the system collapsed\n",
      "resetting populations as the system collapsed\n",
      "resetting populations as the system collapsed\n"
     ]
    },
    {
     "name": "stderr",
     "output_type": "stream",
     "text": [
      "\r",
      " 79%|███████▉  | 79/100 [09:02<02:24,  6.87s/it]"
     ]
    },
    {
     "name": "stdout",
     "output_type": "stream",
     "text": [
      "resetting populations as the system collapsed\n",
      "resetting populations as the system collapsed\n",
      "resetting populations as the system collapsed\n",
      "resetting populations as the system collapsed\n",
      "resetting populations as the system collapsed\n",
      "resetting populations as the system collapsed\n",
      "resetting populations as the system collapsed\n",
      "resetting populations as the system collapsed\n",
      "resetting populations as the system collapsed\n",
      "resetting populations as the system collapsed\n",
      "resetting populations as the system collapsed\n",
      "resetting populations as the system collapsed\n",
      "resetting populations as the system collapsed\n",
      "resetting populations as the system collapsed\n",
      "resetting populations as the system collapsed\n",
      "resetting populations as the system collapsed\n",
      "resetting populations as the system collapsed\n",
      "resetting populations as the system collapsed\n",
      "resetting populations as the system collapsed\n",
      "resetting populations as the system collapsed\n",
      "resetting populations as the system collapsed\n",
      "resetting populations as the system collapsed\n",
      "resetting populations as the system collapsed\n",
      "resetting populations as the system collapsed\n",
      "resetting populations as the system collapsed\n",
      "resetting populations as the system collapsed\n",
      "resetting populations as the system collapsed\n",
      "resetting populations as the system collapsed\n",
      "resetting populations as the system collapsed\n",
      "resetting populations as the system collapsed\n",
      "resetting populations as the system collapsed\n",
      "resetting populations as the system collapsed\n",
      "resetting populations as the system collapsed\n",
      "resetting populations as the system collapsed\n",
      "resetting populations as the system collapsed\n",
      "resetting populations as the system collapsed\n",
      "resetting populations as the system collapsed\n",
      "resetting populations as the system collapsed\n",
      "resetting populations as the system collapsed\n",
      "resetting populations as the system collapsed\n",
      "resetting populations as the system collapsed\n",
      "resetting populations as the system collapsed\n",
      "resetting populations as the system collapsed\n",
      "resetting populations as the system collapsed\n",
      "resetting populations as the system collapsed\n",
      "resetting populations as the system collapsed\n",
      "resetting populations as the system collapsed\n",
      "resetting populations as the system collapsed\n",
      "resetting populations as the system collapsed\n"
     ]
    },
    {
     "name": "stderr",
     "output_type": "stream",
     "text": [
      "\r",
      " 80%|████████  | 80/100 [09:11<02:17,  6.90s/it]"
     ]
    },
    {
     "name": "stdout",
     "output_type": "stream",
     "text": [
      "resetting populations as the system collapsed\n",
      "resetting populations as the system collapsed\n",
      "resetting populations as the system collapsed\n",
      "resetting populations as the system collapsed\n",
      "resetting populations as the system collapsed\n",
      "resetting populations as the system collapsed\n",
      "resetting populations as the system collapsed\n",
      "resetting populations as the system collapsed\n",
      "resetting populations as the system collapsed\n",
      "resetting populations as the system collapsed\n",
      "resetting populations as the system collapsed\n",
      "resetting populations as the system collapsed\n",
      "resetting populations as the system collapsed\n",
      "resetting populations as the system collapsed\n",
      "resetting populations as the system collapsed\n",
      "resetting populations as the system collapsed\n",
      "resetting populations as the system collapsed\n",
      "resetting populations as the system collapsed\n",
      "resetting populations as the system collapsed\n",
      "resetting populations as the system collapsed\n",
      "resetting populations as the system collapsed\n",
      "resetting populations as the system collapsed\n",
      "resetting populations as the system collapsed\n",
      "resetting populations as the system collapsed\n",
      "resetting populations as the system collapsed\n",
      "resetting populations as the system collapsed\n",
      "resetting populations as the system collapsed\n",
      "resetting populations as the system collapsed\n",
      "resetting populations as the system collapsed\n",
      "resetting populations as the system collapsed\n",
      "resetting populations as the system collapsed\n",
      "resetting populations as the system collapsed\n",
      "resetting populations as the system collapsed\n"
     ]
    },
    {
     "name": "stderr",
     "output_type": "stream",
     "text": [
      "\r",
      " 81%|████████  | 81/100 [09:19<02:11,  6.91s/it]"
     ]
    },
    {
     "name": "stdout",
     "output_type": "stream",
     "text": [
      "resetting populations as the system collapsed\n",
      "resetting populations as the system collapsed\n",
      "resetting populations as the system collapsed\n",
      "resetting populations as the system collapsed\n",
      "resetting populations as the system collapsed\n",
      "resetting populations as the system collapsed\n",
      "resetting populations as the system collapsed\n",
      "resetting populations as the system collapsed\n",
      "resetting populations as the system collapsed\n",
      "resetting populations as the system collapsed\n",
      "resetting populations as the system collapsed\n",
      "resetting populations as the system collapsed\n",
      "resetting populations as the system collapsed\n",
      "resetting populations as the system collapsed\n",
      "resetting populations as the system collapsed\n",
      "resetting populations as the system collapsed\n",
      "resetting populations as the system collapsed\n",
      "resetting populations as the system collapsed\n",
      "resetting populations as the system collapsed\n",
      "resetting populations as the system collapsed\n",
      "resetting populations as the system collapsed\n",
      "resetting populations as the system collapsed\n",
      "resetting populations as the system collapsed\n",
      "resetting populations as the system collapsed\n",
      "resetting populations as the system collapsed\n",
      "resetting populations as the system collapsed\n",
      "resetting populations as the system collapsed\n",
      "resetting populations as the system collapsed\n"
     ]
    },
    {
     "name": "stderr",
     "output_type": "stream",
     "text": [
      "\r",
      " 82%|████████▏ | 82/100 [09:26<02:04,  6.91s/it]"
     ]
    },
    {
     "name": "stdout",
     "output_type": "stream",
     "text": [
      "resetting populations as the system collapsed\n",
      "resetting populations as the system collapsed\n",
      "resetting populations as the system collapsed\n",
      "resetting populations as the system collapsed\n",
      "resetting populations as the system collapsed\n",
      "resetting populations as the system collapsed\n",
      "resetting populations as the system collapsed\n",
      "resetting populations as the system collapsed\n",
      "resetting populations as the system collapsed\n",
      "resetting populations as the system collapsed\n",
      "resetting populations as the system collapsed\n",
      "resetting populations as the system collapsed\n",
      "resetting populations as the system collapsed\n",
      "resetting populations as the system collapsed\n",
      "resetting populations as the system collapsed\n",
      "resetting populations as the system collapsed\n",
      "resetting populations as the system collapsed\n",
      "resetting populations as the system collapsed\n",
      "resetting populations as the system collapsed\n",
      "resetting populations as the system collapsed\n",
      "resetting populations as the system collapsed\n",
      "resetting populations as the system collapsed\n",
      "resetting populations as the system collapsed\n",
      "resetting populations as the system collapsed\n",
      "resetting populations as the system collapsed\n",
      "resetting populations as the system collapsed\n",
      "resetting populations as the system collapsed\n",
      "resetting populations as the system collapsed\n",
      "resetting populations as the system collapsed\n",
      "resetting populations as the system collapsed\n",
      "resetting populations as the system collapsed\n",
      "resetting populations as the system collapsed\n",
      "resetting populations as the system collapsed\n"
     ]
    },
    {
     "name": "stderr",
     "output_type": "stream",
     "text": [
      "\r",
      " 83%|████████▎ | 83/100 [09:33<01:57,  6.91s/it]"
     ]
    },
    {
     "name": "stdout",
     "output_type": "stream",
     "text": [
      "resetting populations as the system collapsed\n",
      "resetting populations as the system collapsed\n",
      "resetting populations as the system collapsed\n",
      "resetting populations as the system collapsed\n",
      "resetting populations as the system collapsed\n",
      "resetting populations as the system collapsed\n",
      "resetting populations as the system collapsed\n",
      "resetting populations as the system collapsed\n",
      "resetting populations as the system collapsed\n",
      "resetting populations as the system collapsed\n",
      "resetting populations as the system collapsed\n",
      "resetting populations as the system collapsed\n",
      "resetting populations as the system collapsed\n",
      "resetting populations as the system collapsed\n",
      "resetting populations as the system collapsed\n",
      "resetting populations as the system collapsed\n",
      "resetting populations as the system collapsed\n",
      "resetting populations as the system collapsed\n",
      "resetting populations as the system collapsed\n",
      "resetting populations as the system collapsed\n",
      "resetting populations as the system collapsed\n",
      "resetting populations as the system collapsed\n",
      "resetting populations as the system collapsed\n",
      "resetting populations as the system collapsed\n",
      "resetting populations as the system collapsed\n",
      "resetting populations as the system collapsed\n",
      "resetting populations as the system collapsed\n",
      "resetting populations as the system collapsed\n",
      "resetting populations as the system collapsed\n",
      "resetting populations as the system collapsed\n",
      "resetting populations as the system collapsed\n",
      "resetting populations as the system collapsed\n",
      "resetting populations as the system collapsed\n",
      "resetting populations as the system collapsed\n",
      "resetting populations as the system collapsed\n",
      "resetting populations as the system collapsed\n",
      "resetting populations as the system collapsed\n",
      "resetting populations as the system collapsed\n",
      "resetting populations as the system collapsed\n",
      "resetting populations as the system collapsed\n",
      "resetting populations as the system collapsed\n",
      "resetting populations as the system collapsed\n",
      "resetting populations as the system collapsed\n",
      "resetting populations as the system collapsed\n",
      "resetting populations as the system collapsed\n",
      "resetting populations as the system collapsed\n",
      "resetting populations as the system collapsed\n",
      "resetting populations as the system collapsed\n",
      "resetting populations as the system collapsed\n",
      "resetting populations as the system collapsed\n"
     ]
    },
    {
     "name": "stderr",
     "output_type": "stream",
     "text": [
      "\r",
      " 84%|████████▍ | 84/100 [09:43<01:51,  6.95s/it]"
     ]
    },
    {
     "name": "stdout",
     "output_type": "stream",
     "text": [
      "resetting populations as the system collapsed\n",
      "resetting populations as the system collapsed\n",
      "resetting populations as the system collapsed\n",
      "resetting populations as the system collapsed\n",
      "resetting populations as the system collapsed\n",
      "resetting populations as the system collapsed\n",
      "resetting populations as the system collapsed\n",
      "resetting populations as the system collapsed\n",
      "resetting populations as the system collapsed\n",
      "resetting populations as the system collapsed\n",
      "resetting populations as the system collapsed\n",
      "resetting populations as the system collapsed\n",
      "resetting populations as the system collapsed\n",
      "resetting populations as the system collapsed\n",
      "resetting populations as the system collapsed\n",
      "resetting populations as the system collapsed\n",
      "resetting populations as the system collapsed\n",
      "resetting populations as the system collapsed\n",
      "resetting populations as the system collapsed\n",
      "resetting populations as the system collapsed\n",
      "resetting populations as the system collapsed\n",
      "resetting populations as the system collapsed\n",
      "resetting populations as the system collapsed\n",
      "resetting populations as the system collapsed\n",
      "resetting populations as the system collapsed\n",
      "resetting populations as the system collapsed\n",
      "resetting populations as the system collapsed\n",
      "resetting populations as the system collapsed\n"
     ]
    },
    {
     "name": "stderr",
     "output_type": "stream",
     "text": [
      "\r",
      " 85%|████████▌ | 85/100 [09:50<01:44,  6.95s/it]"
     ]
    },
    {
     "name": "stdout",
     "output_type": "stream",
     "text": [
      "resetting populations as the system collapsed\n",
      "resetting populations as the system collapsed\n",
      "resetting populations as the system collapsed\n",
      "resetting populations as the system collapsed\n",
      "resetting populations as the system collapsed\n",
      "resetting populations as the system collapsed\n",
      "resetting populations as the system collapsed\n",
      "resetting populations as the system collapsed\n",
      "resetting populations as the system collapsed\n",
      "resetting populations as the system collapsed\n",
      "resetting populations as the system collapsed\n",
      "resetting populations as the system collapsed\n",
      "resetting populations as the system collapsed\n",
      "resetting populations as the system collapsed\n",
      "resetting populations as the system collapsed\n",
      "resetting populations as the system collapsed\n",
      "resetting populations as the system collapsed\n",
      "resetting populations as the system collapsed\n",
      "resetting populations as the system collapsed\n",
      "resetting populations as the system collapsed\n",
      "resetting populations as the system collapsed\n",
      "resetting populations as the system collapsed\n",
      "resetting populations as the system collapsed\n",
      "resetting populations as the system collapsed\n",
      "resetting populations as the system collapsed\n",
      "resetting populations as the system collapsed\n",
      "resetting populations as the system collapsed\n",
      "resetting populations as the system collapsed\n",
      "resetting populations as the system collapsed\n",
      "resetting populations as the system collapsed\n",
      "resetting populations as the system collapsed\n",
      "resetting populations as the system collapsed\n",
      "resetting populations as the system collapsed\n",
      "resetting populations as the system collapsed\n"
     ]
    },
    {
     "name": "stderr",
     "output_type": "stream",
     "text": [
      "\r",
      " 86%|████████▌ | 86/100 [09:58<01:37,  6.96s/it]"
     ]
    },
    {
     "name": "stdout",
     "output_type": "stream",
     "text": [
      "resetting populations as the system collapsed\n",
      "resetting populations as the system collapsed\n",
      "resetting populations as the system collapsed\n",
      "resetting populations as the system collapsed\n",
      "resetting populations as the system collapsed\n",
      "resetting populations as the system collapsed\n",
      "resetting populations as the system collapsed\n",
      "resetting populations as the system collapsed\n",
      "resetting populations as the system collapsed\n",
      "resetting populations as the system collapsed\n",
      "resetting populations as the system collapsed\n",
      "resetting populations as the system collapsed\n",
      "resetting populations as the system collapsed\n",
      "resetting populations as the system collapsed\n",
      "resetting populations as the system collapsed\n",
      "resetting populations as the system collapsed\n",
      "resetting populations as the system collapsed\n",
      "resetting populations as the system collapsed\n",
      "resetting populations as the system collapsed\n",
      "resetting populations as the system collapsed\n",
      "resetting populations as the system collapsed\n",
      "resetting populations as the system collapsed\n",
      "resetting populations as the system collapsed\n",
      "resetting populations as the system collapsed\n",
      "resetting populations as the system collapsed\n",
      "resetting populations as the system collapsed\n"
     ]
    },
    {
     "name": "stderr",
     "output_type": "stream",
     "text": [
      "\r",
      " 87%|████████▋ | 87/100 [10:04<01:30,  6.95s/it]"
     ]
    },
    {
     "name": "stdout",
     "output_type": "stream",
     "text": [
      "resetting populations as the system collapsed\n",
      "resetting populations as the system collapsed\n",
      "resetting populations as the system collapsed\n",
      "resetting populations as the system collapsed\n",
      "resetting populations as the system collapsed\n",
      "resetting populations as the system collapsed\n",
      "resetting populations as the system collapsed\n",
      "resetting populations as the system collapsed\n",
      "resetting populations as the system collapsed\n",
      "resetting populations as the system collapsed\n",
      "resetting populations as the system collapsed\n",
      "resetting populations as the system collapsed\n",
      "resetting populations as the system collapsed\n",
      "resetting populations as the system collapsed\n",
      "resetting populations as the system collapsed\n",
      "resetting populations as the system collapsed\n",
      "resetting populations as the system collapsed\n",
      "resetting populations as the system collapsed\n",
      "resetting populations as the system collapsed\n",
      "resetting populations as the system collapsed\n",
      "resetting populations as the system collapsed\n",
      "resetting populations as the system collapsed\n",
      "resetting populations as the system collapsed\n",
      "resetting populations as the system collapsed\n",
      "resetting populations as the system collapsed\n",
      "resetting populations as the system collapsed\n",
      "resetting populations as the system collapsed\n",
      "resetting populations as the system collapsed\n",
      "resetting populations as the system collapsed\n",
      "resetting populations as the system collapsed\n",
      "resetting populations as the system collapsed\n",
      "resetting populations as the system collapsed\n",
      "resetting populations as the system collapsed\n",
      "resetting populations as the system collapsed\n",
      "resetting populations as the system collapsed\n"
     ]
    },
    {
     "name": "stderr",
     "output_type": "stream",
     "text": [
      "\r",
      " 88%|████████▊ | 88/100 [10:12<01:23,  6.96s/it]"
     ]
    },
    {
     "name": "stdout",
     "output_type": "stream",
     "text": [
      "resetting populations as the system collapsed\n",
      "resetting populations as the system collapsed\n",
      "resetting populations as the system collapsed\n",
      "resetting populations as the system collapsed\n",
      "resetting populations as the system collapsed\n",
      "resetting populations as the system collapsed\n",
      "resetting populations as the system collapsed\n",
      "resetting populations as the system collapsed\n",
      "resetting populations as the system collapsed\n",
      "resetting populations as the system collapsed\n",
      "resetting populations as the system collapsed\n",
      "resetting populations as the system collapsed\n",
      "resetting populations as the system collapsed\n",
      "resetting populations as the system collapsed\n",
      "resetting populations as the system collapsed\n",
      "resetting populations as the system collapsed\n",
      "resetting populations as the system collapsed\n",
      "resetting populations as the system collapsed\n",
      "resetting populations as the system collapsed\n",
      "resetting populations as the system collapsed\n"
     ]
    },
    {
     "name": "stderr",
     "output_type": "stream",
     "text": [
      "\r",
      " 89%|████████▉ | 89/100 [10:18<01:16,  6.95s/it]"
     ]
    },
    {
     "name": "stdout",
     "output_type": "stream",
     "text": [
      "resetting populations as the system collapsed\n",
      "resetting populations as the system collapsed\n",
      "resetting populations as the system collapsed\n",
      "resetting populations as the system collapsed\n",
      "resetting populations as the system collapsed\n",
      "resetting populations as the system collapsed\n",
      "resetting populations as the system collapsed\n",
      "resetting populations as the system collapsed\n",
      "resetting populations as the system collapsed\n",
      "resetting populations as the system collapsed\n",
      "resetting populations as the system collapsed\n",
      "resetting populations as the system collapsed\n",
      "resetting populations as the system collapsed\n",
      "resetting populations as the system collapsed\n",
      "resetting populations as the system collapsed\n",
      "resetting populations as the system collapsed\n",
      "resetting populations as the system collapsed\n",
      "resetting populations as the system collapsed\n",
      "resetting populations as the system collapsed\n",
      "resetting populations as the system collapsed\n",
      "resetting populations as the system collapsed\n",
      "resetting populations as the system collapsed\n",
      "resetting populations as the system collapsed\n",
      "resetting populations as the system collapsed\n",
      "resetting populations as the system collapsed\n",
      "resetting populations as the system collapsed\n",
      "resetting populations as the system collapsed\n",
      "resetting populations as the system collapsed\n",
      "resetting populations as the system collapsed\n",
      "resetting populations as the system collapsed\n"
     ]
    },
    {
     "name": "stderr",
     "output_type": "stream",
     "text": [
      "\r",
      " 90%|█████████ | 90/100 [10:25<01:09,  6.95s/it]"
     ]
    },
    {
     "name": "stdout",
     "output_type": "stream",
     "text": [
      "resetting populations as the system collapsed\n",
      "resetting populations as the system collapsed\n",
      "resetting populations as the system collapsed\n",
      "resetting populations as the system collapsed\n",
      "resetting populations as the system collapsed\n",
      "resetting populations as the system collapsed\n",
      "resetting populations as the system collapsed\n",
      "resetting populations as the system collapsed\n",
      "resetting populations as the system collapsed\n",
      "resetting populations as the system collapsed\n",
      "resetting populations as the system collapsed\n",
      "resetting populations as the system collapsed\n",
      "resetting populations as the system collapsed\n",
      "resetting populations as the system collapsed\n",
      "resetting populations as the system collapsed\n",
      "resetting populations as the system collapsed\n",
      "resetting populations as the system collapsed\n",
      "resetting populations as the system collapsed\n",
      "resetting populations as the system collapsed\n",
      "resetting populations as the system collapsed\n",
      "resetting populations as the system collapsed\n",
      "resetting populations as the system collapsed\n",
      "resetting populations as the system collapsed\n",
      "resetting populations as the system collapsed\n",
      "resetting populations as the system collapsed\n",
      "resetting populations as the system collapsed\n",
      "resetting populations as the system collapsed\n",
      "resetting populations as the system collapsed\n",
      "resetting populations as the system collapsed\n"
     ]
    },
    {
     "name": "stderr",
     "output_type": "stream",
     "text": [
      "\r",
      " 91%|█████████ | 91/100 [10:32<01:02,  6.95s/it]"
     ]
    },
    {
     "name": "stdout",
     "output_type": "stream",
     "text": [
      "resetting populations as the system collapsed\n",
      "resetting populations as the system collapsed\n",
      "resetting populations as the system collapsed\n",
      "resetting populations as the system collapsed\n",
      "resetting populations as the system collapsed\n",
      "resetting populations as the system collapsed\n",
      "resetting populations as the system collapsed\n",
      "resetting populations as the system collapsed\n",
      "resetting populations as the system collapsed\n",
      "resetting populations as the system collapsed\n",
      "resetting populations as the system collapsed\n",
      "resetting populations as the system collapsed\n",
      "resetting populations as the system collapsed\n",
      "resetting populations as the system collapsed\n",
      "resetting populations as the system collapsed\n",
      "resetting populations as the system collapsed\n",
      "resetting populations as the system collapsed\n",
      "resetting populations as the system collapsed\n",
      "resetting populations as the system collapsed\n",
      "resetting populations as the system collapsed\n",
      "resetting populations as the system collapsed\n",
      "resetting populations as the system collapsed\n",
      "resetting populations as the system collapsed\n",
      "resetting populations as the system collapsed\n",
      "resetting populations as the system collapsed\n",
      "resetting populations as the system collapsed\n",
      "resetting populations as the system collapsed\n"
     ]
    },
    {
     "name": "stderr",
     "output_type": "stream",
     "text": [
      "\r",
      " 92%|█████████▏| 92/100 [10:39<00:55,  6.95s/it]"
     ]
    },
    {
     "name": "stdout",
     "output_type": "stream",
     "text": [
      "resetting populations as the system collapsed\n",
      "resetting populations as the system collapsed\n",
      "resetting populations as the system collapsed\n",
      "resetting populations as the system collapsed\n",
      "resetting populations as the system collapsed\n",
      "resetting populations as the system collapsed\n",
      "resetting populations as the system collapsed\n",
      "resetting populations as the system collapsed\n",
      "resetting populations as the system collapsed\n",
      "resetting populations as the system collapsed\n",
      "resetting populations as the system collapsed\n",
      "resetting populations as the system collapsed\n",
      "resetting populations as the system collapsed\n",
      "resetting populations as the system collapsed\n",
      "resetting populations as the system collapsed\n",
      "resetting populations as the system collapsed\n",
      "resetting populations as the system collapsed\n",
      "resetting populations as the system collapsed\n",
      "resetting populations as the system collapsed\n",
      "resetting populations as the system collapsed\n",
      "resetting populations as the system collapsed\n",
      "resetting populations as the system collapsed\n",
      "resetting populations as the system collapsed\n",
      "resetting populations as the system collapsed\n",
      "resetting populations as the system collapsed\n",
      "resetting populations as the system collapsed\n",
      "resetting populations as the system collapsed\n",
      "resetting populations as the system collapsed\n",
      "resetting populations as the system collapsed\n",
      "resetting populations as the system collapsed\n"
     ]
    },
    {
     "name": "stderr",
     "output_type": "stream",
     "text": [
      "\r",
      " 93%|█████████▎| 93/100 [10:45<00:48,  6.95s/it]"
     ]
    },
    {
     "name": "stdout",
     "output_type": "stream",
     "text": [
      "resetting populations as the system collapsed\n",
      "resetting populations as the system collapsed\n",
      "resetting populations as the system collapsed\n",
      "resetting populations as the system collapsed\n",
      "resetting populations as the system collapsed\n",
      "resetting populations as the system collapsed\n",
      "resetting populations as the system collapsed\n",
      "resetting populations as the system collapsed\n",
      "resetting populations as the system collapsed\n",
      "resetting populations as the system collapsed\n",
      "resetting populations as the system collapsed\n",
      "resetting populations as the system collapsed\n",
      "resetting populations as the system collapsed\n",
      "resetting populations as the system collapsed\n",
      "resetting populations as the system collapsed\n",
      "resetting populations as the system collapsed\n",
      "resetting populations as the system collapsed\n",
      "resetting populations as the system collapsed\n",
      "resetting populations as the system collapsed\n",
      "resetting populations as the system collapsed\n",
      "resetting populations as the system collapsed\n",
      "resetting populations as the system collapsed\n",
      "resetting populations as the system collapsed\n",
      "resetting populations as the system collapsed\n",
      "resetting populations as the system collapsed\n",
      "resetting populations as the system collapsed\n",
      "resetting populations as the system collapsed\n",
      "resetting populations as the system collapsed\n",
      "resetting populations as the system collapsed\n",
      "resetting populations as the system collapsed\n",
      "resetting populations as the system collapsed\n",
      "resetting populations as the system collapsed\n",
      "resetting populations as the system collapsed\n"
     ]
    },
    {
     "name": "stderr",
     "output_type": "stream",
     "text": [
      "\r",
      " 94%|█████████▍| 94/100 [10:53<00:41,  6.95s/it]"
     ]
    },
    {
     "name": "stdout",
     "output_type": "stream",
     "text": [
      "resetting populations as the system collapsed\n",
      "resetting populations as the system collapsed\n",
      "resetting populations as the system collapsed\n",
      "resetting populations as the system collapsed\n",
      "resetting populations as the system collapsed\n",
      "resetting populations as the system collapsed\n",
      "resetting populations as the system collapsed\n",
      "resetting populations as the system collapsed\n",
      "resetting populations as the system collapsed\n",
      "resetting populations as the system collapsed\n",
      "resetting populations as the system collapsed\n",
      "resetting populations as the system collapsed\n",
      "resetting populations as the system collapsed\n",
      "resetting populations as the system collapsed\n",
      "resetting populations as the system collapsed\n",
      "resetting populations as the system collapsed\n",
      "resetting populations as the system collapsed\n",
      "resetting populations as the system collapsed\n",
      "resetting populations as the system collapsed\n",
      "resetting populations as the system collapsed\n",
      "resetting populations as the system collapsed\n",
      "resetting populations as the system collapsed\n",
      "resetting populations as the system collapsed\n",
      "resetting populations as the system collapsed\n",
      "resetting populations as the system collapsed\n",
      "resetting populations as the system collapsed\n",
      "resetting populations as the system collapsed\n",
      "resetting populations as the system collapsed\n"
     ]
    },
    {
     "name": "stderr",
     "output_type": "stream",
     "text": [
      "\r",
      " 95%|█████████▌| 95/100 [10:59<00:34,  6.95s/it]"
     ]
    },
    {
     "name": "stdout",
     "output_type": "stream",
     "text": [
      "resetting populations as the system collapsed\n",
      "resetting populations as the system collapsed\n",
      "resetting populations as the system collapsed\n",
      "resetting populations as the system collapsed\n",
      "resetting populations as the system collapsed\n",
      "resetting populations as the system collapsed\n",
      "resetting populations as the system collapsed\n",
      "resetting populations as the system collapsed\n",
      "resetting populations as the system collapsed\n",
      "resetting populations as the system collapsed\n",
      "resetting populations as the system collapsed\n",
      "resetting populations as the system collapsed\n",
      "resetting populations as the system collapsed\n",
      "resetting populations as the system collapsed\n",
      "resetting populations as the system collapsed\n",
      "resetting populations as the system collapsed\n",
      "resetting populations as the system collapsed\n",
      "resetting populations as the system collapsed\n",
      "resetting populations as the system collapsed\n",
      "resetting populations as the system collapsed\n",
      "resetting populations as the system collapsed\n",
      "resetting populations as the system collapsed\n",
      "resetting populations as the system collapsed\n",
      "resetting populations as the system collapsed\n",
      "resetting populations as the system collapsed\n",
      "resetting populations as the system collapsed\n",
      "resetting populations as the system collapsed\n",
      "resetting populations as the system collapsed\n",
      "resetting populations as the system collapsed\n",
      "resetting populations as the system collapsed\n",
      "resetting populations as the system collapsed\n",
      "resetting populations as the system collapsed\n",
      "resetting populations as the system collapsed\n"
     ]
    },
    {
     "name": "stderr",
     "output_type": "stream",
     "text": [
      "\r",
      " 96%|█████████▌| 96/100 [11:07<00:27,  6.95s/it]"
     ]
    },
    {
     "name": "stdout",
     "output_type": "stream",
     "text": [
      "resetting populations as the system collapsed\n",
      "resetting populations as the system collapsed\n",
      "resetting populations as the system collapsed\n",
      "resetting populations as the system collapsed\n",
      "resetting populations as the system collapsed\n",
      "resetting populations as the system collapsed\n",
      "resetting populations as the system collapsed\n",
      "resetting populations as the system collapsed\n",
      "resetting populations as the system collapsed\n",
      "resetting populations as the system collapsed\n",
      "resetting populations as the system collapsed\n",
      "resetting populations as the system collapsed\n",
      "resetting populations as the system collapsed\n",
      "resetting populations as the system collapsed\n",
      "resetting populations as the system collapsed\n",
      "resetting populations as the system collapsed\n",
      "resetting populations as the system collapsed\n",
      "resetting populations as the system collapsed\n",
      "resetting populations as the system collapsed\n",
      "resetting populations as the system collapsed\n",
      "resetting populations as the system collapsed\n",
      "resetting populations as the system collapsed\n"
     ]
    },
    {
     "name": "stderr",
     "output_type": "stream",
     "text": [
      "\r",
      " 97%|█████████▋| 97/100 [11:13<00:20,  6.94s/it]"
     ]
    },
    {
     "name": "stdout",
     "output_type": "stream",
     "text": [
      "resetting populations as the system collapsed\n",
      "resetting populations as the system collapsed\n",
      "resetting populations as the system collapsed\n",
      "resetting populations as the system collapsed\n",
      "resetting populations as the system collapsed\n",
      "resetting populations as the system collapsed\n",
      "resetting populations as the system collapsed\n",
      "resetting populations as the system collapsed\n",
      "resetting populations as the system collapsed\n",
      "resetting populations as the system collapsed\n",
      "resetting populations as the system collapsed\n",
      "resetting populations as the system collapsed\n",
      "resetting populations as the system collapsed\n",
      "resetting populations as the system collapsed\n",
      "resetting populations as the system collapsed\n",
      "resetting populations as the system collapsed\n",
      "resetting populations as the system collapsed\n",
      "resetting populations as the system collapsed\n",
      "resetting populations as the system collapsed\n",
      "resetting populations as the system collapsed\n",
      "resetting populations as the system collapsed\n",
      "resetting populations as the system collapsed\n",
      "resetting populations as the system collapsed\n",
      "resetting populations as the system collapsed\n",
      "resetting populations as the system collapsed\n",
      "resetting populations as the system collapsed\n",
      "resetting populations as the system collapsed\n",
      "resetting populations as the system collapsed\n",
      "resetting populations as the system collapsed\n",
      "resetting populations as the system collapsed\n",
      "resetting populations as the system collapsed\n",
      "resetting populations as the system collapsed\n",
      "resetting populations as the system collapsed\n",
      "resetting populations as the system collapsed\n"
     ]
    },
    {
     "name": "stderr",
     "output_type": "stream",
     "text": [
      "\r",
      " 98%|█████████▊| 98/100 [11:20<00:13,  6.95s/it]"
     ]
    },
    {
     "name": "stdout",
     "output_type": "stream",
     "text": [
      "resetting populations as the system collapsed\n",
      "resetting populations as the system collapsed\n",
      "resetting populations as the system collapsed\n",
      "resetting populations as the system collapsed\n",
      "resetting populations as the system collapsed\n",
      "resetting populations as the system collapsed\n",
      "resetting populations as the system collapsed\n",
      "resetting populations as the system collapsed\n",
      "resetting populations as the system collapsed\n",
      "resetting populations as the system collapsed\n",
      "resetting populations as the system collapsed\n",
      "resetting populations as the system collapsed\n",
      "resetting populations as the system collapsed\n",
      "resetting populations as the system collapsed\n",
      "resetting populations as the system collapsed\n",
      "resetting populations as the system collapsed\n",
      "resetting populations as the system collapsed\n",
      "resetting populations as the system collapsed\n",
      "resetting populations as the system collapsed\n",
      "resetting populations as the system collapsed\n",
      "resetting populations as the system collapsed\n",
      "resetting populations as the system collapsed\n",
      "resetting populations as the system collapsed\n",
      "resetting populations as the system collapsed\n",
      "resetting populations as the system collapsed\n",
      "resetting populations as the system collapsed\n",
      "resetting populations as the system collapsed\n",
      "resetting populations as the system collapsed\n",
      "resetting populations as the system collapsed\n",
      "resetting populations as the system collapsed\n",
      "resetting populations as the system collapsed\n",
      "resetting populations as the system collapsed\n",
      "resetting populations as the system collapsed\n",
      "resetting populations as the system collapsed\n",
      "resetting populations as the system collapsed\n"
     ]
    },
    {
     "name": "stderr",
     "output_type": "stream",
     "text": [
      "\r",
      " 99%|█████████▉| 99/100 [11:28<00:06,  6.95s/it]"
     ]
    },
    {
     "name": "stdout",
     "output_type": "stream",
     "text": [
      "resetting populations as the system collapsed\n",
      "resetting populations as the system collapsed\n",
      "resetting populations as the system collapsed\n",
      "resetting populations as the system collapsed\n",
      "resetting populations as the system collapsed\n",
      "resetting populations as the system collapsed\n",
      "resetting populations as the system collapsed\n",
      "resetting populations as the system collapsed\n",
      "resetting populations as the system collapsed\n",
      "resetting populations as the system collapsed\n",
      "resetting populations as the system collapsed\n",
      "resetting populations as the system collapsed\n",
      "resetting populations as the system collapsed\n",
      "resetting populations as the system collapsed\n",
      "resetting populations as the system collapsed\n",
      "resetting populations as the system collapsed\n",
      "resetting populations as the system collapsed\n",
      "resetting populations as the system collapsed\n",
      "resetting populations as the system collapsed\n",
      "resetting populations as the system collapsed\n",
      "resetting populations as the system collapsed\n",
      "resetting populations as the system collapsed\n",
      "resetting populations as the system collapsed\n",
      "resetting populations as the system collapsed\n",
      "resetting populations as the system collapsed\n",
      "resetting populations as the system collapsed\n",
      "resetting populations as the system collapsed\n"
     ]
    },
    {
     "name": "stderr",
     "output_type": "stream",
     "text": [
      "100%|██████████| 100/100 [11:34<00:00,  6.95s/it]\n",
      "  0%|          | 0/100 [00:00<?, ?it/s]"
     ]
    },
    {
     "name": "stdout",
     "output_type": "stream",
     "text": [
      "resetting populations as the system collapsed\n"
     ]
    },
    {
     "name": "stderr",
     "output_type": "stream",
     "text": [
      "\r",
      "  1%|          | 1/100 [00:02<04:39,  2.82s/it]"
     ]
    },
    {
     "name": "stdout",
     "output_type": "stream",
     "text": [
      "resetting populations as the system collapsed\n",
      "resetting populations as the system collapsed\n"
     ]
    },
    {
     "name": "stderr",
     "output_type": "stream",
     "text": [
      "\r",
      "  2%|▏         | 2/100 [00:05<04:42,  2.88s/it]"
     ]
    },
    {
     "name": "stdout",
     "output_type": "stream",
     "text": [
      "resetting populations as the system collapsed\n"
     ]
    },
    {
     "name": "stderr",
     "output_type": "stream",
     "text": [
      "\r",
      "  3%|▎         | 3/100 [00:08<04:36,  2.85s/it]"
     ]
    },
    {
     "name": "stdout",
     "output_type": "stream",
     "text": [
      "resetting populations as the system collapsed\n",
      "resetting populations as the system collapsed\n",
      "resetting populations as the system collapsed\n",
      "resetting populations as the system collapsed\n"
     ]
    },
    {
     "name": "stderr",
     "output_type": "stream",
     "text": [
      "\r",
      "  4%|▍         | 4/100 [00:11<04:42,  2.94s/it]"
     ]
    },
    {
     "name": "stdout",
     "output_type": "stream",
     "text": [
      "resetting populations as the system collapsed\n",
      "resetting populations as the system collapsed\n",
      "resetting populations as the system collapsed\n"
     ]
    },
    {
     "name": "stderr",
     "output_type": "stream",
     "text": [
      "\r",
      "  5%|▌         | 5/100 [00:14<04:40,  2.96s/it]"
     ]
    },
    {
     "name": "stdout",
     "output_type": "stream",
     "text": [
      "resetting populations as the system collapsed\n",
      "resetting populations as the system collapsed\n",
      "resetting populations as the system collapsed\n"
     ]
    },
    {
     "name": "stderr",
     "output_type": "stream",
     "text": [
      "\r",
      "  6%|▌         | 6/100 [00:17<04:40,  2.98s/it]"
     ]
    },
    {
     "name": "stdout",
     "output_type": "stream",
     "text": [
      "resetting populations as the system collapsed\n",
      "resetting populations as the system collapsed\n",
      "resetting populations as the system collapsed\n"
     ]
    },
    {
     "name": "stderr",
     "output_type": "stream",
     "text": [
      "\r",
      "  7%|▋         | 7/100 [00:21<04:39,  3.00s/it]"
     ]
    },
    {
     "name": "stdout",
     "output_type": "stream",
     "text": [
      "resetting populations as the system collapsed\n",
      "resetting populations as the system collapsed\n"
     ]
    },
    {
     "name": "stderr",
     "output_type": "stream",
     "text": [
      "\r",
      "  8%|▊         | 8/100 [00:23<04:34,  2.99s/it]"
     ]
    },
    {
     "name": "stdout",
     "output_type": "stream",
     "text": [
      "resetting populations as the system collapsed\n",
      "resetting populations as the system collapsed\n",
      "resetting populations as the system collapsed\n",
      "resetting populations as the system collapsed\n"
     ]
    },
    {
     "name": "stderr",
     "output_type": "stream",
     "text": [
      "\r",
      "  9%|▉         | 9/100 [00:27<04:34,  3.01s/it]"
     ]
    },
    {
     "name": "stdout",
     "output_type": "stream",
     "text": [
      "resetting populations as the system collapsed\n",
      "resetting populations as the system collapsed\n"
     ]
    },
    {
     "name": "stderr",
     "output_type": "stream",
     "text": [
      "\r",
      " 10%|█         | 10/100 [00:30<04:31,  3.01s/it]"
     ]
    },
    {
     "name": "stdout",
     "output_type": "stream",
     "text": [
      "resetting populations as the system collapsed\n",
      "resetting populations as the system collapsed\n",
      "resetting populations as the system collapsed\n",
      "resetting populations as the system collapsed\n",
      "resetting populations as the system collapsed\n"
     ]
    },
    {
     "name": "stderr",
     "output_type": "stream",
     "text": [
      "\r",
      " 11%|█         | 11/100 [00:33<04:30,  3.04s/it]"
     ]
    },
    {
     "name": "stdout",
     "output_type": "stream",
     "text": [
      "resetting populations as the system collapsed\n"
     ]
    },
    {
     "name": "stderr",
     "output_type": "stream",
     "text": [
      "\r",
      " 12%|█▏        | 12/100 [00:36<04:26,  3.03s/it]"
     ]
    },
    {
     "name": "stdout",
     "output_type": "stream",
     "text": [
      "resetting populations as the system collapsed\n",
      "resetting populations as the system collapsed\n",
      "resetting populations as the system collapsed\n",
      "resetting populations as the system collapsed\n",
      "resetting populations as the system collapsed\n"
     ]
    },
    {
     "name": "stderr",
     "output_type": "stream",
     "text": [
      "\r",
      " 13%|█▎        | 13/100 [00:39<04:25,  3.06s/it]"
     ]
    },
    {
     "name": "stdout",
     "output_type": "stream",
     "text": [
      "resetting populations as the system collapsed\n",
      "resetting populations as the system collapsed\n",
      "resetting populations as the system collapsed\n",
      "resetting populations as the system collapsed\n"
     ]
    },
    {
     "name": "stderr",
     "output_type": "stream",
     "text": [
      "\r",
      " 14%|█▍        | 14/100 [00:43<04:24,  3.07s/it]"
     ]
    },
    {
     "name": "stdout",
     "output_type": "stream",
     "text": [
      "resetting populations as the system collapsed\n"
     ]
    },
    {
     "name": "stderr",
     "output_type": "stream",
     "text": [
      "\r",
      " 15%|█▌        | 15/100 [00:45<04:20,  3.06s/it]"
     ]
    },
    {
     "name": "stdout",
     "output_type": "stream",
     "text": [
      "resetting populations as the system collapsed\n",
      "resetting populations as the system collapsed\n",
      "resetting populations as the system collapsed\n",
      "resetting populations as the system collapsed\n"
     ]
    },
    {
     "name": "stderr",
     "output_type": "stream",
     "text": [
      "\r",
      " 16%|█▌        | 16/100 [00:49<04:18,  3.08s/it]"
     ]
    },
    {
     "name": "stdout",
     "output_type": "stream",
     "text": [
      "resetting populations as the system collapsed\n",
      "resetting populations as the system collapsed\n",
      "resetting populations as the system collapsed\n",
      "resetting populations as the system collapsed\n"
     ]
    },
    {
     "name": "stderr",
     "output_type": "stream",
     "text": [
      "\r",
      " 17%|█▋        | 17/100 [00:52<04:16,  3.09s/it]"
     ]
    },
    {
     "name": "stdout",
     "output_type": "stream",
     "text": [
      "resetting populations as the system collapsed\n"
     ]
    },
    {
     "name": "stderr",
     "output_type": "stream",
     "text": [
      "\r",
      " 18%|█▊        | 18/100 [00:55<04:12,  3.08s/it]"
     ]
    },
    {
     "name": "stdout",
     "output_type": "stream",
     "text": [
      "resetting populations as the system collapsed\n",
      "resetting populations as the system collapsed\n",
      "resetting populations as the system collapsed\n"
     ]
    },
    {
     "name": "stderr",
     "output_type": "stream",
     "text": [
      "\r",
      " 19%|█▉        | 19/100 [00:58<04:10,  3.10s/it]"
     ]
    },
    {
     "name": "stdout",
     "output_type": "stream",
     "text": [
      "resetting populations as the system collapsed\n",
      "resetting populations as the system collapsed\n",
      "resetting populations as the system collapsed\n",
      "resetting populations as the system collapsed\n"
     ]
    },
    {
     "name": "stderr",
     "output_type": "stream",
     "text": [
      "\r",
      " 20%|██        | 20/100 [01:02<04:08,  3.10s/it]"
     ]
    },
    {
     "name": "stdout",
     "output_type": "stream",
     "text": [
      "resetting populations as the system collapsed\n",
      "resetting populations as the system collapsed\n"
     ]
    },
    {
     "name": "stderr",
     "output_type": "stream",
     "text": [
      "\r",
      " 21%|██        | 21/100 [01:05<04:04,  3.10s/it]"
     ]
    },
    {
     "name": "stdout",
     "output_type": "stream",
     "text": [
      "resetting populations as the system collapsed\n",
      "resetting populations as the system collapsed\n"
     ]
    },
    {
     "name": "stderr",
     "output_type": "stream",
     "text": [
      "\r",
      " 22%|██▏       | 22/100 [01:08<04:01,  3.09s/it]"
     ]
    },
    {
     "name": "stdout",
     "output_type": "stream",
     "text": [
      "resetting populations as the system collapsed\n",
      "resetting populations as the system collapsed\n",
      "resetting populations as the system collapsed\n",
      "resetting populations as the system collapsed\n",
      "resetting populations as the system collapsed\n",
      "resetting populations as the system collapsed\n"
     ]
    },
    {
     "name": "stderr",
     "output_type": "stream",
     "text": [
      "\r",
      " 23%|██▎       | 23/100 [01:11<04:00,  3.12s/it]"
     ]
    },
    {
     "name": "stdout",
     "output_type": "stream",
     "text": [
      "resetting populations as the system collapsed\n",
      "resetting populations as the system collapsed\n"
     ]
    },
    {
     "name": "stderr",
     "output_type": "stream",
     "text": [
      "\r",
      " 24%|██▍       | 24/100 [01:14<03:56,  3.11s/it]"
     ]
    },
    {
     "name": "stdout",
     "output_type": "stream",
     "text": [
      "resetting populations as the system collapsed\n",
      "resetting populations as the system collapsed\n",
      "resetting populations as the system collapsed\n"
     ]
    },
    {
     "name": "stderr",
     "output_type": "stream",
     "text": [
      "\r",
      " 25%|██▌       | 25/100 [01:17<03:53,  3.11s/it]"
     ]
    },
    {
     "name": "stdout",
     "output_type": "stream",
     "text": [
      "resetting populations as the system collapsed\n",
      "resetting populations as the system collapsed\n",
      "resetting populations as the system collapsed\n",
      "resetting populations as the system collapsed\n"
     ]
    },
    {
     "name": "stderr",
     "output_type": "stream",
     "text": [
      "\r",
      " 26%|██▌       | 26/100 [01:21<03:50,  3.12s/it]"
     ]
    },
    {
     "name": "stdout",
     "output_type": "stream",
     "text": [
      "resetting populations as the system collapsed\n",
      "resetting populations as the system collapsed\n"
     ]
    },
    {
     "name": "stderr",
     "output_type": "stream",
     "text": [
      "\r",
      " 27%|██▋       | 27/100 [01:24<03:47,  3.11s/it]"
     ]
    },
    {
     "name": "stdout",
     "output_type": "stream",
     "text": [
      "resetting populations as the system collapsed\n",
      "resetting populations as the system collapsed\n",
      "resetting populations as the system collapsed\n",
      "resetting populations as the system collapsed\n"
     ]
    },
    {
     "name": "stderr",
     "output_type": "stream",
     "text": [
      "\r",
      " 28%|██▊       | 28/100 [01:27<03:44,  3.12s/it]"
     ]
    },
    {
     "name": "stdout",
     "output_type": "stream",
     "text": [
      "resetting populations as the system collapsed\n",
      "resetting populations as the system collapsed\n",
      "resetting populations as the system collapsed\n"
     ]
    },
    {
     "name": "stderr",
     "output_type": "stream",
     "text": [
      "\r",
      " 29%|██▉       | 29/100 [01:30<03:41,  3.12s/it]"
     ]
    },
    {
     "name": "stdout",
     "output_type": "stream",
     "text": [
      "resetting populations as the system collapsed\n"
     ]
    },
    {
     "name": "stderr",
     "output_type": "stream",
     "text": [
      "\r",
      " 30%|███       | 30/100 [01:33<03:37,  3.10s/it]"
     ]
    },
    {
     "name": "stdout",
     "output_type": "stream",
     "text": [
      "resetting populations as the system collapsed\n",
      "resetting populations as the system collapsed\n"
     ]
    },
    {
     "name": "stderr",
     "output_type": "stream",
     "text": [
      "\r",
      " 31%|███       | 31/100 [01:36<03:33,  3.10s/it]"
     ]
    },
    {
     "name": "stdout",
     "output_type": "stream",
     "text": [
      "resetting populations as the system collapsed\n",
      "resetting populations as the system collapsed\n",
      "resetting populations as the system collapsed\n",
      "resetting populations as the system collapsed\n"
     ]
    },
    {
     "name": "stderr",
     "output_type": "stream",
     "text": [
      "\r",
      " 32%|███▏      | 32/100 [01:39<03:30,  3.10s/it]"
     ]
    },
    {
     "name": "stdout",
     "output_type": "stream",
     "text": [
      "resetting populations as the system collapsed\n"
     ]
    },
    {
     "name": "stderr",
     "output_type": "stream",
     "text": [
      "\r",
      " 33%|███▎      | 33/100 [01:41<03:27,  3.09s/it]"
     ]
    },
    {
     "name": "stdout",
     "output_type": "stream",
     "text": [
      "resetting populations as the system collapsed\n",
      "resetting populations as the system collapsed\n",
      "resetting populations as the system collapsed\n"
     ]
    },
    {
     "name": "stderr",
     "output_type": "stream",
     "text": [
      "\r",
      " 34%|███▍      | 34/100 [01:45<03:23,  3.09s/it]"
     ]
    },
    {
     "name": "stdout",
     "output_type": "stream",
     "text": [
      "resetting populations as the system collapsed\n",
      "resetting populations as the system collapsed\n"
     ]
    },
    {
     "name": "stderr",
     "output_type": "stream",
     "text": [
      "\r",
      " 35%|███▌      | 35/100 [01:47<03:20,  3.09s/it]"
     ]
    },
    {
     "name": "stdout",
     "output_type": "stream",
     "text": [
      "resetting populations as the system collapsed\n",
      "resetting populations as the system collapsed\n",
      "resetting populations as the system collapsed\n"
     ]
    },
    {
     "name": "stderr",
     "output_type": "stream",
     "text": [
      "\r",
      " 36%|███▌      | 36/100 [01:51<03:17,  3.08s/it]"
     ]
    },
    {
     "name": "stdout",
     "output_type": "stream",
     "text": [
      "resetting populations as the system collapsed\n",
      "resetting populations as the system collapsed\n",
      "resetting populations as the system collapsed\n"
     ]
    },
    {
     "name": "stderr",
     "output_type": "stream",
     "text": [
      "\r",
      " 37%|███▋      | 37/100 [01:54<03:14,  3.08s/it]"
     ]
    },
    {
     "name": "stdout",
     "output_type": "stream",
     "text": [
      "resetting populations as the system collapsed\n",
      "resetting populations as the system collapsed\n",
      "resetting populations as the system collapsed\n",
      "resetting populations as the system collapsed\n"
     ]
    },
    {
     "name": "stderr",
     "output_type": "stream",
     "text": [
      "\r",
      " 38%|███▊      | 38/100 [01:57<03:11,  3.08s/it]"
     ]
    },
    {
     "name": "stdout",
     "output_type": "stream",
     "text": [
      "resetting populations as the system collapsed\n",
      "resetting populations as the system collapsed\n",
      "resetting populations as the system collapsed\n",
      "resetting populations as the system collapsed\n",
      "resetting populations as the system collapsed\n",
      "resetting populations as the system collapsed\n"
     ]
    },
    {
     "name": "stderr",
     "output_type": "stream",
     "text": [
      "\r",
      " 39%|███▉      | 39/100 [02:00<03:08,  3.10s/it]"
     ]
    },
    {
     "name": "stdout",
     "output_type": "stream",
     "text": [
      "resetting populations as the system collapsed\n"
     ]
    },
    {
     "name": "stderr",
     "output_type": "stream",
     "text": [
      "\r",
      " 40%|████      | 40/100 [02:03<03:05,  3.09s/it]"
     ]
    },
    {
     "name": "stdout",
     "output_type": "stream",
     "text": [
      "resetting populations as the system collapsed\n",
      "resetting populations as the system collapsed\n",
      "resetting populations as the system collapsed\n",
      "resetting populations as the system collapsed\n"
     ]
    },
    {
     "name": "stderr",
     "output_type": "stream",
     "text": [
      "\r",
      " 41%|████      | 41/100 [02:06<03:02,  3.09s/it]"
     ]
    },
    {
     "name": "stdout",
     "output_type": "stream",
     "text": [
      "resetting populations as the system collapsed\n",
      "resetting populations as the system collapsed\n",
      "resetting populations as the system collapsed\n",
      "resetting populations as the system collapsed\n",
      "resetting populations as the system collapsed\n",
      "resetting populations as the system collapsed\n"
     ]
    },
    {
     "name": "stderr",
     "output_type": "stream",
     "text": [
      "\r",
      " 42%|████▏     | 42/100 [02:10<02:59,  3.10s/it]"
     ]
    },
    {
     "name": "stdout",
     "output_type": "stream",
     "text": [
      "resetting populations as the system collapsed\n"
     ]
    },
    {
     "name": "stderr",
     "output_type": "stream",
     "text": [
      "\r",
      " 43%|████▎     | 43/100 [02:12<02:56,  3.09s/it]"
     ]
    },
    {
     "name": "stdout",
     "output_type": "stream",
     "text": [
      "resetting populations as the system collapsed\n",
      "resetting populations as the system collapsed\n",
      "resetting populations as the system collapsed\n"
     ]
    },
    {
     "name": "stderr",
     "output_type": "stream",
     "text": [
      "\r",
      " 44%|████▍     | 44/100 [02:15<02:53,  3.09s/it]"
     ]
    },
    {
     "name": "stdout",
     "output_type": "stream",
     "text": [
      "resetting populations as the system collapsed\n",
      "resetting populations as the system collapsed\n",
      "resetting populations as the system collapsed\n"
     ]
    },
    {
     "name": "stderr",
     "output_type": "stream",
     "text": [
      "\r",
      " 45%|████▌     | 45/100 [02:19<02:49,  3.09s/it]"
     ]
    },
    {
     "name": "stdout",
     "output_type": "stream",
     "text": [
      "resetting populations as the system collapsed\n",
      "resetting populations as the system collapsed\n",
      "resetting populations as the system collapsed\n"
     ]
    },
    {
     "name": "stderr",
     "output_type": "stream",
     "text": [
      "\r",
      " 46%|████▌     | 46/100 [02:22<02:46,  3.09s/it]"
     ]
    },
    {
     "name": "stdout",
     "output_type": "stream",
     "text": [
      "resetting populations as the system collapsed\n",
      "resetting populations as the system collapsed\n",
      "resetting populations as the system collapsed\n",
      "resetting populations as the system collapsed\n"
     ]
    },
    {
     "name": "stderr",
     "output_type": "stream",
     "text": [
      "\r",
      " 47%|████▋     | 47/100 [02:25<02:43,  3.09s/it]"
     ]
    },
    {
     "name": "stdout",
     "output_type": "stream",
     "text": [
      "resetting populations as the system collapsed\n",
      "resetting populations as the system collapsed\n",
      "resetting populations as the system collapsed\n"
     ]
    },
    {
     "name": "stderr",
     "output_type": "stream",
     "text": [
      "\r",
      " 48%|████▊     | 48/100 [02:28<02:40,  3.09s/it]"
     ]
    },
    {
     "name": "stdout",
     "output_type": "stream",
     "text": [
      "resetting populations as the system collapsed\n",
      "resetting populations as the system collapsed\n"
     ]
    },
    {
     "name": "stderr",
     "output_type": "stream",
     "text": [
      "\r",
      " 49%|████▉     | 49/100 [02:31<02:37,  3.09s/it]"
     ]
    },
    {
     "name": "stdout",
     "output_type": "stream",
     "text": [
      "resetting populations as the system collapsed\n",
      "resetting populations as the system collapsed\n"
     ]
    },
    {
     "name": "stderr",
     "output_type": "stream",
     "text": [
      "\r",
      " 50%|█████     | 50/100 [02:34<02:34,  3.08s/it]"
     ]
    },
    {
     "name": "stdout",
     "output_type": "stream",
     "text": [
      "resetting populations as the system collapsed\n",
      "resetting populations as the system collapsed\n",
      "resetting populations as the system collapsed\n"
     ]
    },
    {
     "name": "stderr",
     "output_type": "stream",
     "text": [
      "\r",
      " 51%|█████     | 51/100 [02:37<02:31,  3.08s/it]"
     ]
    },
    {
     "name": "stdout",
     "output_type": "stream",
     "text": [
      "resetting populations as the system collapsed\n"
     ]
    },
    {
     "name": "stderr",
     "output_type": "stream",
     "text": [
      "\r",
      " 52%|█████▏    | 52/100 [02:40<02:27,  3.08s/it]"
     ]
    },
    {
     "name": "stdout",
     "output_type": "stream",
     "text": [
      "resetting populations as the system collapsed\n",
      "resetting populations as the system collapsed\n",
      "resetting populations as the system collapsed\n",
      "resetting populations as the system collapsed\n",
      "resetting populations as the system collapsed\n"
     ]
    },
    {
     "name": "stderr",
     "output_type": "stream",
     "text": [
      "\r",
      " 53%|█████▎    | 53/100 [02:43<02:24,  3.08s/it]"
     ]
    },
    {
     "name": "stdout",
     "output_type": "stream",
     "text": [
      "resetting populations as the system collapsed\n",
      "resetting populations as the system collapsed\n",
      "resetting populations as the system collapsed\n"
     ]
    },
    {
     "name": "stderr",
     "output_type": "stream",
     "text": [
      "\r",
      " 54%|█████▍    | 54/100 [02:46<02:21,  3.08s/it]"
     ]
    },
    {
     "name": "stdout",
     "output_type": "stream",
     "text": [
      "resetting populations as the system collapsed\n",
      "resetting populations as the system collapsed\n",
      "resetting populations as the system collapsed\n"
     ]
    },
    {
     "name": "stderr",
     "output_type": "stream",
     "text": [
      "\r",
      " 55%|█████▌    | 55/100 [02:49<02:18,  3.08s/it]"
     ]
    },
    {
     "name": "stdout",
     "output_type": "stream",
     "text": [
      "resetting populations as the system collapsed\n",
      "resetting populations as the system collapsed\n",
      "resetting populations as the system collapsed\n"
     ]
    },
    {
     "name": "stderr",
     "output_type": "stream",
     "text": [
      " 57%|█████▋    | 57/100 [02:55<02:12,  3.07s/it]"
     ]
    },
    {
     "name": "stdout",
     "output_type": "stream",
     "text": [
      "resetting populations as the system collapsed\n",
      "resetting populations as the system collapsed\n",
      "resetting populations as the system collapsed\n"
     ]
    },
    {
     "name": "stderr",
     "output_type": "stream",
     "text": [
      "\r",
      " 58%|█████▊    | 58/100 [02:58<02:09,  3.08s/it]"
     ]
    },
    {
     "name": "stdout",
     "output_type": "stream",
     "text": [
      "resetting populations as the system collapsed\n",
      "resetting populations as the system collapsed\n",
      "resetting populations as the system collapsed\n",
      "resetting populations as the system collapsed\n",
      "resetting populations as the system collapsed\n"
     ]
    },
    {
     "name": "stderr",
     "output_type": "stream",
     "text": [
      "\r",
      " 59%|█████▉    | 59/100 [03:01<02:06,  3.08s/it]"
     ]
    },
    {
     "name": "stdout",
     "output_type": "stream",
     "text": [
      "resetting populations as the system collapsed\n",
      "resetting populations as the system collapsed\n",
      "resetting populations as the system collapsed\n",
      "resetting populations as the system collapsed\n"
     ]
    },
    {
     "name": "stderr",
     "output_type": "stream",
     "text": [
      "\r",
      " 60%|██████    | 60/100 [03:04<02:03,  3.08s/it]"
     ]
    },
    {
     "name": "stdout",
     "output_type": "stream",
     "text": [
      "resetting populations as the system collapsed\n",
      "resetting populations as the system collapsed\n",
      "resetting populations as the system collapsed\n"
     ]
    },
    {
     "name": "stderr",
     "output_type": "stream",
     "text": [
      "\r",
      " 61%|██████    | 61/100 [03:07<02:00,  3.08s/it]"
     ]
    },
    {
     "name": "stdout",
     "output_type": "stream",
     "text": [
      "resetting populations as the system collapsed\n",
      "resetting populations as the system collapsed\n"
     ]
    },
    {
     "name": "stderr",
     "output_type": "stream",
     "text": [
      "\r",
      " 62%|██████▏   | 62/100 [03:10<01:56,  3.08s/it]"
     ]
    },
    {
     "name": "stdout",
     "output_type": "stream",
     "text": [
      "resetting populations as the system collapsed\n",
      "resetting populations as the system collapsed\n",
      "resetting populations as the system collapsed\n",
      "resetting populations as the system collapsed\n",
      "resetting populations as the system collapsed\n"
     ]
    },
    {
     "name": "stderr",
     "output_type": "stream",
     "text": [
      "\r",
      " 63%|██████▎   | 63/100 [03:14<01:53,  3.08s/it]"
     ]
    },
    {
     "name": "stdout",
     "output_type": "stream",
     "text": [
      "resetting populations as the system collapsed\n",
      "resetting populations as the system collapsed\n",
      "resetting populations as the system collapsed\n",
      "resetting populations as the system collapsed\n"
     ]
    },
    {
     "name": "stderr",
     "output_type": "stream",
     "text": [
      "\r",
      " 64%|██████▍   | 64/100 [03:17<01:50,  3.08s/it]"
     ]
    },
    {
     "name": "stdout",
     "output_type": "stream",
     "text": [
      "resetting populations as the system collapsed\n",
      "resetting populations as the system collapsed\n"
     ]
    },
    {
     "name": "stderr",
     "output_type": "stream",
     "text": [
      "\r",
      " 65%|██████▌   | 65/100 [03:20<01:47,  3.08s/it]"
     ]
    },
    {
     "name": "stdout",
     "output_type": "stream",
     "text": [
      "resetting populations as the system collapsed\n",
      "resetting populations as the system collapsed\n"
     ]
    },
    {
     "name": "stderr",
     "output_type": "stream",
     "text": [
      "\r",
      " 66%|██████▌   | 66/100 [03:23<01:44,  3.08s/it]"
     ]
    },
    {
     "name": "stdout",
     "output_type": "stream",
     "text": [
      "resetting populations as the system collapsed\n",
      "resetting populations as the system collapsed\n",
      "resetting populations as the system collapsed\n",
      "resetting populations as the system collapsed\n"
     ]
    },
    {
     "name": "stderr",
     "output_type": "stream",
     "text": [
      "\r",
      " 67%|██████▋   | 67/100 [03:26<01:41,  3.08s/it]"
     ]
    },
    {
     "name": "stdout",
     "output_type": "stream",
     "text": [
      "resetting populations as the system collapsed\n"
     ]
    },
    {
     "name": "stderr",
     "output_type": "stream",
     "text": [
      "\r",
      " 68%|██████▊   | 68/100 [03:29<01:38,  3.07s/it]"
     ]
    },
    {
     "name": "stdout",
     "output_type": "stream",
     "text": [
      "resetting populations as the system collapsed\n",
      "resetting populations as the system collapsed\n",
      "resetting populations as the system collapsed\n"
     ]
    },
    {
     "name": "stderr",
     "output_type": "stream",
     "text": [
      "\r",
      " 69%|██████▉   | 69/100 [03:32<01:35,  3.08s/it]"
     ]
    },
    {
     "name": "stdout",
     "output_type": "stream",
     "text": [
      "resetting populations as the system collapsed\n"
     ]
    },
    {
     "name": "stderr",
     "output_type": "stream",
     "text": [
      "\r",
      " 70%|███████   | 70/100 [03:34<01:32,  3.07s/it]"
     ]
    },
    {
     "name": "stdout",
     "output_type": "stream",
     "text": [
      "resetting populations as the system collapsed\n"
     ]
    },
    {
     "name": "stderr",
     "output_type": "stream",
     "text": [
      "\r",
      " 71%|███████   | 71/100 [03:37<01:28,  3.07s/it]"
     ]
    },
    {
     "name": "stdout",
     "output_type": "stream",
     "text": [
      "resetting populations as the system collapsed\n",
      "resetting populations as the system collapsed\n",
      "resetting populations as the system collapsed\n"
     ]
    },
    {
     "name": "stderr",
     "output_type": "stream",
     "text": [
      "\r",
      " 72%|███████▏  | 72/100 [03:40<01:25,  3.07s/it]"
     ]
    },
    {
     "name": "stdout",
     "output_type": "stream",
     "text": [
      "resetting populations as the system collapsed\n"
     ]
    },
    {
     "name": "stderr",
     "output_type": "stream",
     "text": [
      "\r",
      " 73%|███████▎  | 73/100 [03:43<01:22,  3.06s/it]"
     ]
    },
    {
     "name": "stdout",
     "output_type": "stream",
     "text": [
      "resetting populations as the system collapsed\n"
     ]
    },
    {
     "name": "stderr",
     "output_type": "stream",
     "text": [
      "\r",
      " 74%|███████▍  | 74/100 [03:46<01:19,  3.06s/it]"
     ]
    },
    {
     "name": "stdout",
     "output_type": "stream",
     "text": [
      "resetting populations as the system collapsed\n",
      "resetting populations as the system collapsed\n"
     ]
    },
    {
     "name": "stderr",
     "output_type": "stream",
     "text": [
      "\r",
      " 75%|███████▌  | 75/100 [03:49<01:16,  3.06s/it]"
     ]
    },
    {
     "name": "stdout",
     "output_type": "stream",
     "text": [
      "resetting populations as the system collapsed\n",
      "resetting populations as the system collapsed\n"
     ]
    },
    {
     "name": "stderr",
     "output_type": "stream",
     "text": [
      "\r",
      " 76%|███████▌  | 76/100 [03:52<01:13,  3.05s/it]"
     ]
    },
    {
     "name": "stdout",
     "output_type": "stream",
     "text": [
      "resetting populations as the system collapsed\n",
      "resetting populations as the system collapsed\n",
      "resetting populations as the system collapsed\n"
     ]
    },
    {
     "name": "stderr",
     "output_type": "stream",
     "text": [
      "\r",
      " 77%|███████▋  | 77/100 [03:55<01:10,  3.06s/it]"
     ]
    },
    {
     "name": "stdout",
     "output_type": "stream",
     "text": [
      "resetting populations as the system collapsed\n",
      "resetting populations as the system collapsed\n",
      "resetting populations as the system collapsed\n",
      "resetting populations as the system collapsed\n",
      "resetting populations as the system collapsed\n",
      "resetting populations as the system collapsed\n"
     ]
    },
    {
     "name": "stderr",
     "output_type": "stream",
     "text": [
      "\r",
      " 78%|███████▊  | 78/100 [03:58<01:07,  3.06s/it]"
     ]
    },
    {
     "name": "stdout",
     "output_type": "stream",
     "text": [
      "resetting populations as the system collapsed\n",
      "resetting populations as the system collapsed\n"
     ]
    },
    {
     "name": "stderr",
     "output_type": "stream",
     "text": [
      "\r",
      " 79%|███████▉  | 79/100 [04:01<01:04,  3.06s/it]"
     ]
    },
    {
     "name": "stdout",
     "output_type": "stream",
     "text": [
      "resetting populations as the system collapsed\n",
      "resetting populations as the system collapsed\n"
     ]
    },
    {
     "name": "stderr",
     "output_type": "stream",
     "text": [
      "\r",
      " 80%|████████  | 80/100 [04:04<01:01,  3.06s/it]"
     ]
    },
    {
     "name": "stdout",
     "output_type": "stream",
     "text": [
      "resetting populations as the system collapsed\n",
      "resetting populations as the system collapsed\n"
     ]
    },
    {
     "name": "stderr",
     "output_type": "stream",
     "text": [
      "\r",
      " 81%|████████  | 81/100 [04:07<00:58,  3.06s/it]"
     ]
    },
    {
     "name": "stdout",
     "output_type": "stream",
     "text": [
      "resetting populations as the system collapsed\n",
      "resetting populations as the system collapsed\n",
      "resetting populations as the system collapsed\n"
     ]
    },
    {
     "name": "stderr",
     "output_type": "stream",
     "text": [
      "\r",
      " 82%|████████▏ | 82/100 [04:10<00:55,  3.06s/it]"
     ]
    },
    {
     "name": "stdout",
     "output_type": "stream",
     "text": [
      "resetting populations as the system collapsed\n"
     ]
    },
    {
     "name": "stderr",
     "output_type": "stream",
     "text": [
      "\r",
      " 83%|████████▎ | 83/100 [04:13<00:51,  3.05s/it]"
     ]
    },
    {
     "name": "stdout",
     "output_type": "stream",
     "text": [
      "resetting populations as the system collapsed\n"
     ]
    },
    {
     "name": "stderr",
     "output_type": "stream",
     "text": [
      "\r",
      " 84%|████████▍ | 84/100 [04:16<00:48,  3.05s/it]"
     ]
    },
    {
     "name": "stdout",
     "output_type": "stream",
     "text": [
      "resetting populations as the system collapsed\n",
      "resetting populations as the system collapsed\n",
      "resetting populations as the system collapsed\n",
      "resetting populations as the system collapsed\n"
     ]
    },
    {
     "name": "stderr",
     "output_type": "stream",
     "text": [
      "\r",
      " 85%|████████▌ | 85/100 [04:19<00:45,  3.05s/it]"
     ]
    },
    {
     "name": "stdout",
     "output_type": "stream",
     "text": [
      "resetting populations as the system collapsed\n",
      "resetting populations as the system collapsed\n",
      "resetting populations as the system collapsed\n"
     ]
    },
    {
     "name": "stderr",
     "output_type": "stream",
     "text": [
      "\r",
      " 86%|████████▌ | 86/100 [04:22<00:42,  3.05s/it]"
     ]
    },
    {
     "name": "stdout",
     "output_type": "stream",
     "text": [
      "resetting populations as the system collapsed\n",
      "resetting populations as the system collapsed\n"
     ]
    },
    {
     "name": "stderr",
     "output_type": "stream",
     "text": [
      "\r",
      " 87%|████████▋ | 87/100 [04:25<00:39,  3.05s/it]"
     ]
    },
    {
     "name": "stdout",
     "output_type": "stream",
     "text": [
      "resetting populations as the system collapsed\n",
      "resetting populations as the system collapsed\n",
      "resetting populations as the system collapsed\n"
     ]
    },
    {
     "name": "stderr",
     "output_type": "stream",
     "text": [
      "\r",
      " 88%|████████▊ | 88/100 [04:28<00:36,  3.05s/it]"
     ]
    },
    {
     "name": "stdout",
     "output_type": "stream",
     "text": [
      "resetting populations as the system collapsed\n",
      "resetting populations as the system collapsed\n"
     ]
    },
    {
     "name": "stderr",
     "output_type": "stream",
     "text": [
      "\r",
      " 89%|████████▉ | 89/100 [04:31<00:33,  3.05s/it]"
     ]
    },
    {
     "name": "stdout",
     "output_type": "stream",
     "text": [
      "resetting populations as the system collapsed\n",
      "resetting populations as the system collapsed\n"
     ]
    },
    {
     "name": "stderr",
     "output_type": "stream",
     "text": [
      "\r",
      " 90%|█████████ | 90/100 [04:34<00:30,  3.05s/it]"
     ]
    },
    {
     "name": "stdout",
     "output_type": "stream",
     "text": [
      "resetting populations as the system collapsed\n",
      "resetting populations as the system collapsed\n"
     ]
    },
    {
     "name": "stderr",
     "output_type": "stream",
     "text": [
      "\r",
      " 91%|█████████ | 91/100 [04:37<00:27,  3.05s/it]"
     ]
    },
    {
     "name": "stdout",
     "output_type": "stream",
     "text": [
      "resetting populations as the system collapsed\n",
      "resetting populations as the system collapsed\n",
      "resetting populations as the system collapsed\n"
     ]
    },
    {
     "name": "stderr",
     "output_type": "stream",
     "text": [
      "\r",
      " 92%|█████████▏| 92/100 [04:40<00:24,  3.05s/it]"
     ]
    },
    {
     "name": "stdout",
     "output_type": "stream",
     "text": [
      "resetting populations as the system collapsed\n",
      "resetting populations as the system collapsed\n",
      "resetting populations as the system collapsed\n",
      "resetting populations as the system collapsed\n",
      "resetting populations as the system collapsed\n",
      "resetting populations as the system collapsed\n"
     ]
    },
    {
     "name": "stderr",
     "output_type": "stream",
     "text": [
      " 94%|█████████▍| 94/100 [04:46<00:18,  3.05s/it]"
     ]
    },
    {
     "name": "stdout",
     "output_type": "stream",
     "text": [
      "resetting populations as the system collapsed\n",
      "resetting populations as the system collapsed\n",
      "resetting populations as the system collapsed\n"
     ]
    },
    {
     "name": "stderr",
     "output_type": "stream",
     "text": [
      "\r",
      " 95%|█████████▌| 95/100 [04:49<00:15,  3.05s/it]"
     ]
    },
    {
     "name": "stdout",
     "output_type": "stream",
     "text": [
      "resetting populations as the system collapsed\n"
     ]
    },
    {
     "name": "stderr",
     "output_type": "stream",
     "text": [
      "\r",
      " 96%|█████████▌| 96/100 [04:52<00:12,  3.04s/it]"
     ]
    },
    {
     "name": "stdout",
     "output_type": "stream",
     "text": [
      "resetting populations as the system collapsed\n",
      "resetting populations as the system collapsed\n",
      "resetting populations as the system collapsed\n"
     ]
    },
    {
     "name": "stderr",
     "output_type": "stream",
     "text": [
      "\r",
      " 97%|█████████▋| 97/100 [04:55<00:09,  3.04s/it]"
     ]
    },
    {
     "name": "stdout",
     "output_type": "stream",
     "text": [
      "resetting populations as the system collapsed\n",
      "resetting populations as the system collapsed\n"
     ]
    },
    {
     "name": "stderr",
     "output_type": "stream",
     "text": [
      "\r",
      " 98%|█████████▊| 98/100 [04:58<00:06,  3.04s/it]"
     ]
    },
    {
     "name": "stdout",
     "output_type": "stream",
     "text": [
      "resetting populations as the system collapsed\n",
      "resetting populations as the system collapsed\n",
      "resetting populations as the system collapsed\n",
      "resetting populations as the system collapsed\n"
     ]
    },
    {
     "name": "stderr",
     "output_type": "stream",
     "text": [
      "\r",
      " 99%|█████████▉| 99/100 [05:01<00:03,  3.04s/it]"
     ]
    },
    {
     "name": "stdout",
     "output_type": "stream",
     "text": [
      "resetting populations as the system collapsed\n",
      "resetting populations as the system collapsed\n"
     ]
    },
    {
     "name": "stderr",
     "output_type": "stream",
     "text": [
      "100%|██████████| 100/100 [05:04<00:00,  3.04s/it]\n",
      "  0%|          | 0/100 [00:00<?, ?it/s]"
     ]
    },
    {
     "name": "stdout",
     "output_type": "stream",
     "text": [
      "resetting populations as the system collapsed\n"
     ]
    },
    {
     "name": "stderr",
     "output_type": "stream",
     "text": [
      "100%|██████████| 100/100 [04:25<00:00,  2.66s/it]\n",
      "  1%|          | 1/100 [00:03<04:58,  3.02s/it]"
     ]
    },
    {
     "name": "stdout",
     "output_type": "stream",
     "text": [
      "resetting populations as the system collapsed\n",
      "resetting populations as the system collapsed\n",
      "resetting populations as the system collapsed\n",
      "resetting populations as the system collapsed\n",
      "resetting populations as the system collapsed\n"
     ]
    },
    {
     "name": "stderr",
     "output_type": "stream",
     "text": [
      "\r",
      "  2%|▏         | 2/100 [00:06<05:33,  3.40s/it]"
     ]
    },
    {
     "name": "stdout",
     "output_type": "stream",
     "text": [
      "resetting populations as the system collapsed\n",
      "resetting populations as the system collapsed\n",
      "resetting populations as the system collapsed\n",
      "resetting populations as the system collapsed\n",
      "resetting populations as the system collapsed\n"
     ]
    },
    {
     "name": "stderr",
     "output_type": "stream",
     "text": [
      "\r",
      "  3%|▎         | 3/100 [00:10<05:42,  3.53s/it]"
     ]
    },
    {
     "name": "stdout",
     "output_type": "stream",
     "text": [
      "resetting populations as the system collapsed\n",
      "resetting populations as the system collapsed\n",
      "resetting populations as the system collapsed\n"
     ]
    },
    {
     "name": "stderr",
     "output_type": "stream",
     "text": [
      "\r",
      "  4%|▍         | 4/100 [00:14<05:38,  3.53s/it]"
     ]
    },
    {
     "name": "stdout",
     "output_type": "stream",
     "text": [
      "resetting populations as the system collapsed\n"
     ]
    },
    {
     "name": "stderr",
     "output_type": "stream",
     "text": [
      "\r",
      "  5%|▌         | 5/100 [00:17<05:28,  3.46s/it]"
     ]
    },
    {
     "name": "stdout",
     "output_type": "stream",
     "text": [
      "resetting populations as the system collapsed\n",
      "resetting populations as the system collapsed\n",
      "resetting populations as the system collapsed\n"
     ]
    },
    {
     "name": "stderr",
     "output_type": "stream",
     "text": [
      "\r",
      "  6%|▌         | 6/100 [00:20<05:27,  3.48s/it]"
     ]
    },
    {
     "name": "stdout",
     "output_type": "stream",
     "text": [
      "resetting populations as the system collapsed\n"
     ]
    },
    {
     "name": "stderr",
     "output_type": "stream",
     "text": [
      "\r",
      "  7%|▋         | 7/100 [00:23<05:18,  3.42s/it]"
     ]
    },
    {
     "name": "stdout",
     "output_type": "stream",
     "text": [
      "resetting populations as the system collapsed\n",
      "resetting populations as the system collapsed\n",
      "resetting populations as the system collapsed\n",
      "resetting populations as the system collapsed\n"
     ]
    },
    {
     "name": "stderr",
     "output_type": "stream",
     "text": [
      "\r",
      "  8%|▊         | 8/100 [00:27<05:16,  3.44s/it]"
     ]
    },
    {
     "name": "stdout",
     "output_type": "stream",
     "text": [
      "resetting populations as the system collapsed\n",
      "resetting populations as the system collapsed\n"
     ]
    },
    {
     "name": "stderr",
     "output_type": "stream",
     "text": [
      "\r",
      "  9%|▉         | 9/100 [00:30<05:11,  3.42s/it]"
     ]
    },
    {
     "name": "stdout",
     "output_type": "stream",
     "text": [
      "resetting populations as the system collapsed\n",
      "resetting populations as the system collapsed\n"
     ]
    },
    {
     "name": "stderr",
     "output_type": "stream",
     "text": [
      "\r",
      " 10%|█         | 10/100 [00:34<05:07,  3.41s/it]"
     ]
    },
    {
     "name": "stdout",
     "output_type": "stream",
     "text": [
      "resetting populations as the system collapsed\n",
      "resetting populations as the system collapsed\n"
     ]
    },
    {
     "name": "stderr",
     "output_type": "stream",
     "text": [
      "\r",
      " 11%|█         | 11/100 [00:37<05:02,  3.40s/it]"
     ]
    },
    {
     "name": "stdout",
     "output_type": "stream",
     "text": [
      "resetting populations as the system collapsed\n"
     ]
    },
    {
     "name": "stderr",
     "output_type": "stream",
     "text": [
      "\r",
      " 12%|█▏        | 12/100 [00:40<04:57,  3.38s/it]"
     ]
    },
    {
     "name": "stdout",
     "output_type": "stream",
     "text": [
      "resetting populations as the system collapsed\n",
      "resetting populations as the system collapsed\n",
      "resetting populations as the system collapsed\n"
     ]
    },
    {
     "name": "stderr",
     "output_type": "stream",
     "text": [
      "\r",
      " 13%|█▎        | 13/100 [00:44<04:55,  3.39s/it]"
     ]
    },
    {
     "name": "stdout",
     "output_type": "stream",
     "text": [
      "resetting populations as the system collapsed\n",
      "resetting populations as the system collapsed\n"
     ]
    },
    {
     "name": "stderr",
     "output_type": "stream",
     "text": [
      "\r",
      " 14%|█▍        | 14/100 [00:47<04:51,  3.39s/it]"
     ]
    },
    {
     "name": "stdout",
     "output_type": "stream",
     "text": [
      "resetting populations as the system collapsed\n",
      "resetting populations as the system collapsed\n",
      "resetting populations as the system collapsed\n",
      "resetting populations as the system collapsed\n"
     ]
    },
    {
     "name": "stderr",
     "output_type": "stream",
     "text": [
      "\r",
      " 15%|█▌        | 15/100 [00:51<04:49,  3.41s/it]"
     ]
    },
    {
     "name": "stdout",
     "output_type": "stream",
     "text": [
      "resetting populations as the system collapsed\n",
      "resetting populations as the system collapsed\n",
      "resetting populations as the system collapsed\n",
      "resetting populations as the system collapsed\n",
      "resetting populations as the system collapsed\n"
     ]
    },
    {
     "name": "stderr",
     "output_type": "stream",
     "text": [
      "\r",
      " 16%|█▌        | 16/100 [00:54<04:48,  3.43s/it]"
     ]
    },
    {
     "name": "stdout",
     "output_type": "stream",
     "text": [
      "resetting populations as the system collapsed\n",
      "resetting populations as the system collapsed\n",
      "resetting populations as the system collapsed\n",
      "resetting populations as the system collapsed\n",
      "resetting populations as the system collapsed\n"
     ]
    },
    {
     "name": "stderr",
     "output_type": "stream",
     "text": [
      "\r",
      " 17%|█▋        | 17/100 [00:58<04:46,  3.45s/it]"
     ]
    },
    {
     "name": "stdout",
     "output_type": "stream",
     "text": [
      "resetting populations as the system collapsed\n"
     ]
    },
    {
     "name": "stderr",
     "output_type": "stream",
     "text": [
      "\r",
      " 18%|█▊        | 18/100 [01:01<04:41,  3.43s/it]"
     ]
    },
    {
     "name": "stdout",
     "output_type": "stream",
     "text": [
      "resetting populations as the system collapsed\n",
      "resetting populations as the system collapsed\n",
      "resetting populations as the system collapsed\n",
      "resetting populations as the system collapsed\n"
     ]
    },
    {
     "name": "stderr",
     "output_type": "stream",
     "text": [
      "\r",
      " 19%|█▉        | 19/100 [01:05<04:38,  3.44s/it]"
     ]
    },
    {
     "name": "stdout",
     "output_type": "stream",
     "text": [
      "resetting populations as the system collapsed\n",
      "resetting populations as the system collapsed\n",
      "resetting populations as the system collapsed\n"
     ]
    },
    {
     "name": "stderr",
     "output_type": "stream",
     "text": [
      "\r",
      " 20%|██        | 20/100 [01:08<04:35,  3.44s/it]"
     ]
    },
    {
     "name": "stdout",
     "output_type": "stream",
     "text": [
      "resetting populations as the system collapsed\n",
      "resetting populations as the system collapsed\n",
      "resetting populations as the system collapsed\n",
      "resetting populations as the system collapsed\n",
      "resetting populations as the system collapsed\n"
     ]
    },
    {
     "name": "stderr",
     "output_type": "stream",
     "text": [
      "\r",
      " 21%|██        | 21/100 [01:12<04:33,  3.46s/it]"
     ]
    },
    {
     "name": "stdout",
     "output_type": "stream",
     "text": [
      "resetting populations as the system collapsed\n",
      "resetting populations as the system collapsed\n",
      "resetting populations as the system collapsed\n",
      "resetting populations as the system collapsed\n"
     ]
    },
    {
     "name": "stderr",
     "output_type": "stream",
     "text": [
      "\r",
      " 22%|██▏       | 22/100 [01:16<04:30,  3.47s/it]"
     ]
    },
    {
     "name": "stdout",
     "output_type": "stream",
     "text": [
      "resetting populations as the system collapsed\n",
      "resetting populations as the system collapsed\n",
      "resetting populations as the system collapsed\n",
      "resetting populations as the system collapsed\n",
      "resetting populations as the system collapsed\n"
     ]
    },
    {
     "name": "stderr",
     "output_type": "stream",
     "text": [
      "\r",
      " 23%|██▎       | 23/100 [01:20<04:28,  3.48s/it]"
     ]
    },
    {
     "name": "stdout",
     "output_type": "stream",
     "text": [
      "resetting populations as the system collapsed\n",
      "resetting populations as the system collapsed\n"
     ]
    },
    {
     "name": "stderr",
     "output_type": "stream",
     "text": [
      "\r",
      " 24%|██▍       | 24/100 [01:23<04:24,  3.47s/it]"
     ]
    },
    {
     "name": "stdout",
     "output_type": "stream",
     "text": [
      "resetting populations as the system collapsed\n",
      "resetting populations as the system collapsed\n",
      "resetting populations as the system collapsed\n",
      "resetting populations as the system collapsed\n",
      "resetting populations as the system collapsed\n",
      "resetting populations as the system collapsed\n"
     ]
    },
    {
     "name": "stderr",
     "output_type": "stream",
     "text": [
      "\r",
      " 25%|██▌       | 25/100 [01:27<04:22,  3.49s/it]"
     ]
    },
    {
     "name": "stdout",
     "output_type": "stream",
     "text": [
      "resetting populations as the system collapsed\n",
      "resetting populations as the system collapsed\n",
      "resetting populations as the system collapsed\n",
      "resetting populations as the system collapsed\n"
     ]
    },
    {
     "name": "stderr",
     "output_type": "stream",
     "text": [
      "\r",
      " 26%|██▌       | 26/100 [01:31<04:19,  3.50s/it]"
     ]
    },
    {
     "name": "stdout",
     "output_type": "stream",
     "text": [
      "resetting populations as the system collapsed\n"
     ]
    },
    {
     "name": "stderr",
     "output_type": "stream",
     "text": [
      "\r",
      " 27%|██▋       | 27/100 [01:34<04:14,  3.49s/it]"
     ]
    },
    {
     "name": "stdout",
     "output_type": "stream",
     "text": [
      "resetting populations as the system collapsed\n",
      "resetting populations as the system collapsed\n",
      "resetting populations as the system collapsed\n",
      "resetting populations as the system collapsed\n",
      "resetting populations as the system collapsed\n"
     ]
    },
    {
     "name": "stderr",
     "output_type": "stream",
     "text": [
      "\r",
      " 28%|██▊       | 28/100 [01:37<04:11,  3.50s/it]"
     ]
    },
    {
     "name": "stdout",
     "output_type": "stream",
     "text": [
      "resetting populations as the system collapsed\n"
     ]
    },
    {
     "name": "stderr",
     "output_type": "stream",
     "text": [
      "\r",
      " 29%|██▉       | 29/100 [01:41<04:07,  3.48s/it]"
     ]
    },
    {
     "name": "stdout",
     "output_type": "stream",
     "text": [
      "resetting populations as the system collapsed\n"
     ]
    },
    {
     "name": "stderr",
     "output_type": "stream",
     "text": [
      "\r",
      " 30%|███       | 30/100 [01:44<04:02,  3.47s/it]"
     ]
    },
    {
     "name": "stdout",
     "output_type": "stream",
     "text": [
      "resetting populations as the system collapsed\n",
      "resetting populations as the system collapsed\n",
      "resetting populations as the system collapsed\n",
      "resetting populations as the system collapsed\n",
      "resetting populations as the system collapsed\n"
     ]
    },
    {
     "name": "stderr",
     "output_type": "stream",
     "text": [
      "\r",
      " 31%|███       | 31/100 [01:47<04:00,  3.48s/it]"
     ]
    },
    {
     "name": "stdout",
     "output_type": "stream",
     "text": [
      "resetting populations as the system collapsed\n",
      "resetting populations as the system collapsed\n",
      "resetting populations as the system collapsed\n",
      "resetting populations as the system collapsed\n",
      "resetting populations as the system collapsed\n"
     ]
    },
    {
     "name": "stderr",
     "output_type": "stream",
     "text": [
      "\r",
      " 32%|███▏      | 32/100 [01:51<03:57,  3.49s/it]"
     ]
    },
    {
     "name": "stdout",
     "output_type": "stream",
     "text": [
      "resetting populations as the system collapsed\n",
      "resetting populations as the system collapsed\n",
      "resetting populations as the system collapsed\n"
     ]
    },
    {
     "name": "stderr",
     "output_type": "stream",
     "text": [
      "\r",
      " 33%|███▎      | 33/100 [01:55<03:53,  3.49s/it]"
     ]
    },
    {
     "name": "stdout",
     "output_type": "stream",
     "text": [
      "resetting populations as the system collapsed\n",
      "resetting populations as the system collapsed\n",
      "resetting populations as the system collapsed\n",
      "resetting populations as the system collapsed\n"
     ]
    },
    {
     "name": "stderr",
     "output_type": "stream",
     "text": [
      "\r",
      " 34%|███▍      | 34/100 [01:58<03:50,  3.49s/it]"
     ]
    },
    {
     "name": "stdout",
     "output_type": "stream",
     "text": [
      "resetting populations as the system collapsed\n",
      "resetting populations as the system collapsed\n",
      "resetting populations as the system collapsed\n"
     ]
    },
    {
     "name": "stderr",
     "output_type": "stream",
     "text": [
      "\r",
      " 35%|███▌      | 35/100 [02:02<03:47,  3.49s/it]"
     ]
    },
    {
     "name": "stdout",
     "output_type": "stream",
     "text": [
      "resetting populations as the system collapsed\n"
     ]
    },
    {
     "name": "stderr",
     "output_type": "stream",
     "text": [
      "\r",
      " 36%|███▌      | 36/100 [02:05<03:42,  3.48s/it]"
     ]
    },
    {
     "name": "stdout",
     "output_type": "stream",
     "text": [
      "resetting populations as the system collapsed\n",
      "resetting populations as the system collapsed\n"
     ]
    },
    {
     "name": "stderr",
     "output_type": "stream",
     "text": [
      "\r",
      " 37%|███▋      | 37/100 [02:08<03:39,  3.48s/it]"
     ]
    },
    {
     "name": "stdout",
     "output_type": "stream",
     "text": [
      "resetting populations as the system collapsed\n",
      "resetting populations as the system collapsed\n",
      "resetting populations as the system collapsed\n"
     ]
    },
    {
     "name": "stderr",
     "output_type": "stream",
     "text": [
      "\r",
      " 38%|███▊      | 38/100 [02:12<03:35,  3.48s/it]"
     ]
    },
    {
     "name": "stdout",
     "output_type": "stream",
     "text": [
      "resetting populations as the system collapsed\n",
      "resetting populations as the system collapsed\n"
     ]
    },
    {
     "name": "stderr",
     "output_type": "stream",
     "text": [
      "\r",
      " 39%|███▉      | 39/100 [02:15<03:32,  3.48s/it]"
     ]
    },
    {
     "name": "stdout",
     "output_type": "stream",
     "text": [
      "resetting populations as the system collapsed\n",
      "resetting populations as the system collapsed\n",
      "resetting populations as the system collapsed\n",
      "resetting populations as the system collapsed\n",
      "resetting populations as the system collapsed\n",
      "resetting populations as the system collapsed\n",
      "resetting populations as the system collapsed\n"
     ]
    },
    {
     "name": "stderr",
     "output_type": "stream",
     "text": [
      "\r",
      " 40%|████      | 40/100 [02:20<03:30,  3.50s/it]"
     ]
    },
    {
     "name": "stdout",
     "output_type": "stream",
     "text": [
      "resetting populations as the system collapsed\n",
      "resetting populations as the system collapsed\n"
     ]
    },
    {
     "name": "stderr",
     "output_type": "stream",
     "text": [
      "\r",
      " 41%|████      | 41/100 [02:23<03:26,  3.50s/it]"
     ]
    },
    {
     "name": "stdout",
     "output_type": "stream",
     "text": [
      "resetting populations as the system collapsed\n"
     ]
    },
    {
     "name": "stderr",
     "output_type": "stream",
     "text": [
      "\r",
      " 42%|████▏     | 42/100 [02:26<03:22,  3.49s/it]"
     ]
    },
    {
     "name": "stdout",
     "output_type": "stream",
     "text": [
      "resetting populations as the system collapsed\n",
      "resetting populations as the system collapsed\n",
      "resetting populations as the system collapsed\n"
     ]
    },
    {
     "name": "stderr",
     "output_type": "stream",
     "text": [
      "\r",
      " 43%|████▎     | 43/100 [02:30<03:19,  3.49s/it]"
     ]
    },
    {
     "name": "stdout",
     "output_type": "stream",
     "text": [
      "resetting populations as the system collapsed\n",
      "resetting populations as the system collapsed\n",
      "resetting populations as the system collapsed\n",
      "resetting populations as the system collapsed\n"
     ]
    },
    {
     "name": "stderr",
     "output_type": "stream",
     "text": [
      "\r",
      " 44%|████▍     | 44/100 [02:33<03:15,  3.50s/it]"
     ]
    },
    {
     "name": "stdout",
     "output_type": "stream",
     "text": [
      "resetting populations as the system collapsed\n",
      "resetting populations as the system collapsed\n",
      "resetting populations as the system collapsed\n",
      "resetting populations as the system collapsed\n"
     ]
    },
    {
     "name": "stderr",
     "output_type": "stream",
     "text": [
      "\r",
      " 45%|████▌     | 45/100 [02:37<03:12,  3.50s/it]"
     ]
    },
    {
     "name": "stdout",
     "output_type": "stream",
     "text": [
      "resetting populations as the system collapsed\n",
      "resetting populations as the system collapsed\n"
     ]
    },
    {
     "name": "stderr",
     "output_type": "stream",
     "text": [
      "\r",
      " 46%|████▌     | 46/100 [02:40<03:08,  3.50s/it]"
     ]
    },
    {
     "name": "stdout",
     "output_type": "stream",
     "text": [
      "resetting populations as the system collapsed\n",
      "resetting populations as the system collapsed\n",
      "resetting populations as the system collapsed\n",
      "resetting populations as the system collapsed\n"
     ]
    },
    {
     "name": "stderr",
     "output_type": "stream",
     "text": [
      "\r",
      " 47%|████▋     | 47/100 [02:44<03:05,  3.50s/it]"
     ]
    },
    {
     "name": "stdout",
     "output_type": "stream",
     "text": [
      "resetting populations as the system collapsed\n",
      "resetting populations as the system collapsed\n",
      "resetting populations as the system collapsed\n",
      "resetting populations as the system collapsed\n"
     ]
    },
    {
     "name": "stderr",
     "output_type": "stream",
     "text": [
      "\r",
      " 48%|████▊     | 48/100 [02:48<03:02,  3.50s/it]"
     ]
    },
    {
     "name": "stdout",
     "output_type": "stream",
     "text": [
      "resetting populations as the system collapsed\n",
      "resetting populations as the system collapsed\n"
     ]
    },
    {
     "name": "stderr",
     "output_type": "stream",
     "text": [
      "\r",
      " 49%|████▉     | 49/100 [02:51<02:58,  3.50s/it]"
     ]
    },
    {
     "name": "stdout",
     "output_type": "stream",
     "text": [
      "resetting populations as the system collapsed\n",
      "resetting populations as the system collapsed\n"
     ]
    },
    {
     "name": "stderr",
     "output_type": "stream",
     "text": [
      "\r",
      " 50%|█████     | 50/100 [02:54<02:54,  3.49s/it]"
     ]
    },
    {
     "name": "stdout",
     "output_type": "stream",
     "text": [
      "resetting populations as the system collapsed\n"
     ]
    },
    {
     "name": "stderr",
     "output_type": "stream",
     "text": [
      "\r",
      " 51%|█████     | 51/100 [02:57<02:50,  3.49s/it]"
     ]
    },
    {
     "name": "stdout",
     "output_type": "stream",
     "text": [
      "resetting populations as the system collapsed\n"
     ]
    },
    {
     "name": "stderr",
     "output_type": "stream",
     "text": [
      "\r",
      " 52%|█████▏    | 52/100 [03:01<02:47,  3.48s/it]"
     ]
    },
    {
     "name": "stdout",
     "output_type": "stream",
     "text": [
      "resetting populations as the system collapsed\n",
      "resetting populations as the system collapsed\n",
      "resetting populations as the system collapsed\n",
      "resetting populations as the system collapsed\n"
     ]
    },
    {
     "name": "stderr",
     "output_type": "stream",
     "text": [
      "\r",
      " 53%|█████▎    | 53/100 [03:04<02:43,  3.48s/it]"
     ]
    },
    {
     "name": "stdout",
     "output_type": "stream",
     "text": [
      "resetting populations as the system collapsed\n",
      "resetting populations as the system collapsed\n"
     ]
    },
    {
     "name": "stderr",
     "output_type": "stream",
     "text": [
      "\r",
      " 54%|█████▍    | 54/100 [03:07<02:40,  3.48s/it]"
     ]
    },
    {
     "name": "stdout",
     "output_type": "stream",
     "text": [
      "resetting populations as the system collapsed\n"
     ]
    },
    {
     "name": "stderr",
     "output_type": "stream",
     "text": [
      "\r",
      " 55%|█████▌    | 55/100 [03:11<02:36,  3.47s/it]"
     ]
    },
    {
     "name": "stdout",
     "output_type": "stream",
     "text": [
      "resetting populations as the system collapsed\n",
      "resetting populations as the system collapsed\n",
      "resetting populations as the system collapsed\n",
      "resetting populations as the system collapsed\n",
      "resetting populations as the system collapsed\n"
     ]
    },
    {
     "name": "stderr",
     "output_type": "stream",
     "text": [
      "\r",
      " 56%|█████▌    | 56/100 [03:14<02:33,  3.48s/it]"
     ]
    },
    {
     "name": "stdout",
     "output_type": "stream",
     "text": [
      "resetting populations as the system collapsed\n"
     ]
    },
    {
     "name": "stderr",
     "output_type": "stream",
     "text": [
      "\r",
      " 57%|█████▋    | 57/100 [03:18<02:29,  3.48s/it]"
     ]
    },
    {
     "name": "stdout",
     "output_type": "stream",
     "text": [
      "resetting populations as the system collapsed\n",
      "resetting populations as the system collapsed\n",
      "resetting populations as the system collapsed\n",
      "resetting populations as the system collapsed\n"
     ]
    },
    {
     "name": "stderr",
     "output_type": "stream",
     "text": [
      "\r",
      " 58%|█████▊    | 58/100 [03:21<02:26,  3.48s/it]"
     ]
    },
    {
     "name": "stdout",
     "output_type": "stream",
     "text": [
      "resetting populations as the system collapsed\n",
      "resetting populations as the system collapsed\n",
      "resetting populations as the system collapsed\n",
      "resetting populations as the system collapsed\n"
     ]
    },
    {
     "name": "stderr",
     "output_type": "stream",
     "text": [
      "\r",
      " 59%|█████▉    | 59/100 [03:25<02:22,  3.48s/it]"
     ]
    },
    {
     "name": "stdout",
     "output_type": "stream",
     "text": [
      "resetting populations as the system collapsed\n",
      "resetting populations as the system collapsed\n",
      "resetting populations as the system collapsed\n"
     ]
    },
    {
     "name": "stderr",
     "output_type": "stream",
     "text": [
      "\r",
      " 60%|██████    | 60/100 [03:28<02:19,  3.48s/it]"
     ]
    },
    {
     "name": "stdout",
     "output_type": "stream",
     "text": [
      "resetting populations as the system collapsed\n",
      "resetting populations as the system collapsed\n",
      "resetting populations as the system collapsed\n",
      "resetting populations as the system collapsed\n",
      "resetting populations as the system collapsed\n",
      "resetting populations as the system collapsed\n"
     ]
    },
    {
     "name": "stderr",
     "output_type": "stream",
     "text": [
      "\r",
      " 61%|██████    | 61/100 [03:32<02:16,  3.49s/it]"
     ]
    },
    {
     "name": "stdout",
     "output_type": "stream",
     "text": [
      "resetting populations as the system collapsed\n",
      "resetting populations as the system collapsed\n",
      "resetting populations as the system collapsed\n"
     ]
    },
    {
     "name": "stderr",
     "output_type": "stream",
     "text": [
      "\r",
      " 62%|██████▏   | 62/100 [03:36<02:12,  3.49s/it]"
     ]
    },
    {
     "name": "stdout",
     "output_type": "stream",
     "text": [
      "resetting populations as the system collapsed\n"
     ]
    },
    {
     "name": "stderr",
     "output_type": "stream",
     "text": [
      "\r",
      " 63%|██████▎   | 63/100 [03:39<02:08,  3.48s/it]"
     ]
    },
    {
     "name": "stdout",
     "output_type": "stream",
     "text": [
      "resetting populations as the system collapsed\n",
      "resetting populations as the system collapsed\n"
     ]
    },
    {
     "name": "stderr",
     "output_type": "stream",
     "text": [
      "\r",
      " 64%|██████▍   | 64/100 [03:42<02:05,  3.48s/it]"
     ]
    },
    {
     "name": "stdout",
     "output_type": "stream",
     "text": [
      "resetting populations as the system collapsed\n",
      "resetting populations as the system collapsed\n",
      "resetting populations as the system collapsed\n",
      "resetting populations as the system collapsed\n",
      "resetting populations as the system collapsed\n",
      "resetting populations as the system collapsed\n",
      "resetting populations as the system collapsed\n",
      "resetting populations as the system collapsed\n"
     ]
    },
    {
     "name": "stderr",
     "output_type": "stream",
     "text": [
      "\r",
      " 65%|██████▌   | 65/100 [03:47<02:02,  3.50s/it]"
     ]
    },
    {
     "name": "stdout",
     "output_type": "stream",
     "text": [
      "resetting populations as the system collapsed\n",
      "resetting populations as the system collapsed\n",
      "resetting populations as the system collapsed\n"
     ]
    },
    {
     "name": "stderr",
     "output_type": "stream",
     "text": [
      "\r",
      " 66%|██████▌   | 66/100 [03:50<01:58,  3.50s/it]"
     ]
    },
    {
     "name": "stdout",
     "output_type": "stream",
     "text": [
      "resetting populations as the system collapsed\n",
      "resetting populations as the system collapsed\n",
      "resetting populations as the system collapsed\n",
      "resetting populations as the system collapsed\n",
      "resetting populations as the system collapsed\n",
      "resetting populations as the system collapsed\n",
      "resetting populations as the system collapsed\n",
      "resetting populations as the system collapsed\n"
     ]
    },
    {
     "name": "stderr",
     "output_type": "stream",
     "text": [
      "\r",
      " 67%|██████▋   | 67/100 [03:54<01:55,  3.51s/it]"
     ]
    },
    {
     "name": "stdout",
     "output_type": "stream",
     "text": [
      "resetting populations as the system collapsed\n",
      "resetting populations as the system collapsed\n",
      "resetting populations as the system collapsed\n"
     ]
    },
    {
     "name": "stderr",
     "output_type": "stream",
     "text": [
      "\r",
      " 68%|██████▊   | 68/100 [03:58<01:52,  3.51s/it]"
     ]
    },
    {
     "name": "stdout",
     "output_type": "stream",
     "text": [
      "resetting populations as the system collapsed\n",
      "resetting populations as the system collapsed\n",
      "resetting populations as the system collapsed\n",
      "resetting populations as the system collapsed\n"
     ]
    },
    {
     "name": "stderr",
     "output_type": "stream",
     "text": [
      "\r",
      " 69%|██████▉   | 69/100 [04:02<01:48,  3.51s/it]"
     ]
    },
    {
     "name": "stdout",
     "output_type": "stream",
     "text": [
      "resetting populations as the system collapsed\n",
      "resetting populations as the system collapsed\n",
      "resetting populations as the system collapsed\n"
     ]
    },
    {
     "name": "stderr",
     "output_type": "stream",
     "text": [
      "\r",
      " 70%|███████   | 70/100 [04:05<01:45,  3.51s/it]"
     ]
    },
    {
     "name": "stdout",
     "output_type": "stream",
     "text": [
      "resetting populations as the system collapsed\n",
      "resetting populations as the system collapsed\n",
      "resetting populations as the system collapsed\n",
      "resetting populations as the system collapsed\n"
     ]
    },
    {
     "name": "stderr",
     "output_type": "stream",
     "text": [
      "\r",
      " 71%|███████   | 71/100 [04:09<01:41,  3.51s/it]"
     ]
    },
    {
     "name": "stdout",
     "output_type": "stream",
     "text": [
      "resetting populations as the system collapsed\n"
     ]
    },
    {
     "name": "stderr",
     "output_type": "stream",
     "text": [
      "\r",
      " 72%|███████▏  | 72/100 [04:12<01:38,  3.50s/it]"
     ]
    },
    {
     "name": "stdout",
     "output_type": "stream",
     "text": [
      "resetting populations as the system collapsed\n",
      "resetting populations as the system collapsed\n",
      "resetting populations as the system collapsed\n",
      "resetting populations as the system collapsed\n",
      "resetting populations as the system collapsed\n"
     ]
    },
    {
     "name": "stderr",
     "output_type": "stream",
     "text": [
      "\r",
      " 73%|███████▎  | 73/100 [04:16<01:34,  3.51s/it]"
     ]
    },
    {
     "name": "stdout",
     "output_type": "stream",
     "text": [
      "resetting populations as the system collapsed\n"
     ]
    },
    {
     "name": "stderr",
     "output_type": "stream",
     "text": [
      "\r",
      " 74%|███████▍  | 74/100 [04:19<01:31,  3.50s/it]"
     ]
    },
    {
     "name": "stdout",
     "output_type": "stream",
     "text": [
      "resetting populations as the system collapsed\n",
      "resetting populations as the system collapsed\n",
      "resetting populations as the system collapsed\n",
      "resetting populations as the system collapsed\n"
     ]
    },
    {
     "name": "stderr",
     "output_type": "stream",
     "text": [
      "\r",
      " 75%|███████▌  | 75/100 [04:22<01:27,  3.50s/it]"
     ]
    },
    {
     "name": "stdout",
     "output_type": "stream",
     "text": [
      "resetting populations as the system collapsed\n",
      "resetting populations as the system collapsed\n",
      "resetting populations as the system collapsed\n",
      "resetting populations as the system collapsed\n",
      "resetting populations as the system collapsed\n"
     ]
    },
    {
     "name": "stderr",
     "output_type": "stream",
     "text": [
      "\r",
      " 76%|███████▌  | 76/100 [04:26<01:24,  3.51s/it]"
     ]
    },
    {
     "name": "stdout",
     "output_type": "stream",
     "text": [
      "resetting populations as the system collapsed\n",
      "resetting populations as the system collapsed\n",
      "resetting populations as the system collapsed\n",
      "resetting populations as the system collapsed\n",
      "resetting populations as the system collapsed\n"
     ]
    },
    {
     "name": "stderr",
     "output_type": "stream",
     "text": [
      "\r",
      " 77%|███████▋  | 77/100 [04:30<01:20,  3.51s/it]"
     ]
    },
    {
     "name": "stdout",
     "output_type": "stream",
     "text": [
      "resetting populations as the system collapsed\n",
      "resetting populations as the system collapsed\n"
     ]
    },
    {
     "name": "stderr",
     "output_type": "stream",
     "text": [
      "\r",
      " 78%|███████▊  | 78/100 [04:33<01:17,  3.51s/it]"
     ]
    },
    {
     "name": "stdout",
     "output_type": "stream",
     "text": [
      "resetting populations as the system collapsed\n",
      "resetting populations as the system collapsed\n",
      "resetting populations as the system collapsed\n"
     ]
    },
    {
     "name": "stderr",
     "output_type": "stream",
     "text": [
      "\r",
      " 79%|███████▉  | 79/100 [04:37<01:13,  3.51s/it]"
     ]
    },
    {
     "name": "stdout",
     "output_type": "stream",
     "text": [
      "resetting populations as the system collapsed\n",
      "resetting populations as the system collapsed\n",
      "resetting populations as the system collapsed\n",
      "resetting populations as the system collapsed\n",
      "resetting populations as the system collapsed\n"
     ]
    },
    {
     "name": "stderr",
     "output_type": "stream",
     "text": [
      "\r",
      " 80%|████████  | 80/100 [04:41<01:10,  3.51s/it]"
     ]
    },
    {
     "name": "stdout",
     "output_type": "stream",
     "text": [
      "resetting populations as the system collapsed\n"
     ]
    },
    {
     "name": "stderr",
     "output_type": "stream",
     "text": [
      "\r",
      " 81%|████████  | 81/100 [04:44<01:06,  3.51s/it]"
     ]
    },
    {
     "name": "stdout",
     "output_type": "stream",
     "text": [
      "resetting populations as the system collapsed\n",
      "resetting populations as the system collapsed\n",
      "resetting populations as the system collapsed\n"
     ]
    },
    {
     "name": "stderr",
     "output_type": "stream",
     "text": [
      "\r",
      " 82%|████████▏ | 82/100 [04:47<01:03,  3.51s/it]"
     ]
    },
    {
     "name": "stdout",
     "output_type": "stream",
     "text": [
      "resetting populations as the system collapsed\n"
     ]
    },
    {
     "name": "stderr",
     "output_type": "stream",
     "text": [
      "\r",
      " 83%|████████▎ | 83/100 [04:50<00:59,  3.50s/it]"
     ]
    },
    {
     "name": "stdout",
     "output_type": "stream",
     "text": [
      "resetting populations as the system collapsed\n",
      "resetting populations as the system collapsed\n"
     ]
    },
    {
     "name": "stderr",
     "output_type": "stream",
     "text": [
      "\r",
      " 84%|████████▍ | 84/100 [04:54<00:56,  3.50s/it]"
     ]
    },
    {
     "name": "stdout",
     "output_type": "stream",
     "text": [
      "resetting populations as the system collapsed\n",
      "resetting populations as the system collapsed\n",
      "resetting populations as the system collapsed\n"
     ]
    },
    {
     "name": "stderr",
     "output_type": "stream",
     "text": [
      "\r",
      " 85%|████████▌ | 85/100 [04:57<00:52,  3.50s/it]"
     ]
    },
    {
     "name": "stdout",
     "output_type": "stream",
     "text": [
      "resetting populations as the system collapsed\n",
      "resetting populations as the system collapsed\n",
      "resetting populations as the system collapsed\n"
     ]
    },
    {
     "name": "stderr",
     "output_type": "stream",
     "text": [
      "\r",
      " 86%|████████▌ | 86/100 [05:01<00:49,  3.50s/it]"
     ]
    },
    {
     "name": "stdout",
     "output_type": "stream",
     "text": [
      "resetting populations as the system collapsed\n",
      "resetting populations as the system collapsed\n",
      "resetting populations as the system collapsed\n"
     ]
    },
    {
     "name": "stderr",
     "output_type": "stream",
     "text": [
      "\r",
      " 87%|████████▋ | 87/100 [05:04<00:45,  3.50s/it]"
     ]
    },
    {
     "name": "stdout",
     "output_type": "stream",
     "text": [
      "resetting populations as the system collapsed\n",
      "resetting populations as the system collapsed\n"
     ]
    },
    {
     "name": "stderr",
     "output_type": "stream",
     "text": [
      "\r",
      " 88%|████████▊ | 88/100 [05:07<00:41,  3.50s/it]"
     ]
    },
    {
     "name": "stdout",
     "output_type": "stream",
     "text": [
      "resetting populations as the system collapsed\n",
      "resetting populations as the system collapsed\n",
      "resetting populations as the system collapsed\n",
      "resetting populations as the system collapsed\n"
     ]
    },
    {
     "name": "stderr",
     "output_type": "stream",
     "text": [
      "\r",
      " 89%|████████▉ | 89/100 [05:11<00:38,  3.50s/it]"
     ]
    },
    {
     "name": "stdout",
     "output_type": "stream",
     "text": [
      "resetting populations as the system collapsed\n",
      "resetting populations as the system collapsed\n",
      "resetting populations as the system collapsed\n",
      "resetting populations as the system collapsed\n",
      "resetting populations as the system collapsed\n"
     ]
    },
    {
     "name": "stderr",
     "output_type": "stream",
     "text": [
      "\r",
      " 90%|█████████ | 90/100 [05:15<00:35,  3.50s/it]"
     ]
    },
    {
     "name": "stdout",
     "output_type": "stream",
     "text": [
      "resetting populations as the system collapsed\n",
      "resetting populations as the system collapsed\n",
      "resetting populations as the system collapsed\n",
      "resetting populations as the system collapsed\n",
      "resetting populations as the system collapsed\n",
      "resetting populations as the system collapsed\n",
      "resetting populations as the system collapsed\n",
      "resetting populations as the system collapsed\n"
     ]
    },
    {
     "name": "stderr",
     "output_type": "stream",
     "text": [
      "\r",
      " 91%|█████████ | 91/100 [05:19<00:31,  3.51s/it]"
     ]
    },
    {
     "name": "stdout",
     "output_type": "stream",
     "text": [
      "resetting populations as the system collapsed\n",
      "resetting populations as the system collapsed\n",
      "resetting populations as the system collapsed\n",
      "resetting populations as the system collapsed\n",
      "resetting populations as the system collapsed\n"
     ]
    },
    {
     "name": "stderr",
     "output_type": "stream",
     "text": [
      "\r",
      " 92%|█████████▏| 92/100 [05:23<00:28,  3.52s/it]"
     ]
    },
    {
     "name": "stdout",
     "output_type": "stream",
     "text": [
      "resetting populations as the system collapsed\n",
      "resetting populations as the system collapsed\n",
      "resetting populations as the system collapsed\n",
      "resetting populations as the system collapsed\n"
     ]
    },
    {
     "name": "stderr",
     "output_type": "stream",
     "text": [
      "\r",
      " 93%|█████████▎| 93/100 [05:27<00:24,  3.52s/it]"
     ]
    },
    {
     "name": "stdout",
     "output_type": "stream",
     "text": [
      "resetting populations as the system collapsed\n",
      "resetting populations as the system collapsed\n"
     ]
    },
    {
     "name": "stderr",
     "output_type": "stream",
     "text": [
      "\r",
      " 94%|█████████▍| 94/100 [05:30<00:21,  3.51s/it]"
     ]
    },
    {
     "name": "stdout",
     "output_type": "stream",
     "text": [
      "resetting populations as the system collapsed\n",
      "resetting populations as the system collapsed\n",
      "resetting populations as the system collapsed\n",
      "resetting populations as the system collapsed\n"
     ]
    },
    {
     "name": "stderr",
     "output_type": "stream",
     "text": [
      "\r",
      " 95%|█████████▌| 95/100 [05:34<00:17,  3.52s/it]"
     ]
    },
    {
     "name": "stdout",
     "output_type": "stream",
     "text": [
      "resetting populations as the system collapsed\n",
      "resetting populations as the system collapsed\n"
     ]
    },
    {
     "name": "stderr",
     "output_type": "stream",
     "text": [
      "\r",
      " 96%|█████████▌| 96/100 [05:37<00:14,  3.51s/it]"
     ]
    },
    {
     "name": "stdout",
     "output_type": "stream",
     "text": [
      "resetting populations as the system collapsed\n",
      "resetting populations as the system collapsed\n",
      "resetting populations as the system collapsed\n",
      "resetting populations as the system collapsed\n",
      "resetting populations as the system collapsed\n",
      "resetting populations as the system collapsed\n"
     ]
    },
    {
     "name": "stderr",
     "output_type": "stream",
     "text": [
      "\r",
      " 97%|█████████▋| 97/100 [05:41<00:10,  3.52s/it]"
     ]
    },
    {
     "name": "stdout",
     "output_type": "stream",
     "text": [
      "resetting populations as the system collapsed\n",
      "resetting populations as the system collapsed\n",
      "resetting populations as the system collapsed\n",
      "resetting populations as the system collapsed\n"
     ]
    },
    {
     "name": "stderr",
     "output_type": "stream",
     "text": [
      "\r",
      " 98%|█████████▊| 98/100 [05:44<00:07,  3.52s/it]"
     ]
    },
    {
     "name": "stdout",
     "output_type": "stream",
     "text": [
      "resetting populations as the system collapsed\n",
      "resetting populations as the system collapsed\n"
     ]
    },
    {
     "name": "stderr",
     "output_type": "stream",
     "text": [
      "\r",
      " 99%|█████████▉| 99/100 [05:48<00:03,  3.52s/it]"
     ]
    },
    {
     "name": "stdout",
     "output_type": "stream",
     "text": [
      "resetting populations as the system collapsed\n",
      "resetting populations as the system collapsed\n",
      "resetting populations as the system collapsed\n",
      "resetting populations as the system collapsed\n",
      "resetting populations as the system collapsed\n"
     ]
    },
    {
     "name": "stderr",
     "output_type": "stream",
     "text": [
      "100%|██████████| 100/100 [05:52<00:00,  3.52s/it]\n",
      " 88%|████████▊ | 88/100 [04:24<00:36,  3.00s/it]"
     ]
    },
    {
     "name": "stdout",
     "output_type": "stream",
     "text": [
      "resetting populations as the system collapsed\n"
     ]
    },
    {
     "name": "stderr",
     "output_type": "stream",
     "text": [
      "100%|██████████| 100/100 [05:00<00:00,  3.00s/it]\n",
      "100%|██████████| 100/100 [05:01<00:00,  3.01s/it]\n",
      "100%|██████████| 100/100 [06:21<00:00,  3.81s/it]\n",
      "100%|██████████| 100/100 [06:22<00:00,  3.83s/it]\n",
      "100%|██████████| 100/100 [06:22<00:00,  3.82s/it]\n",
      "100%|██████████| 100/100 [08:28<00:00,  5.09s/it]\n",
      "100%|██████████| 100/100 [08:02<00:00,  4.83s/it]\n",
      "100%|██████████| 100/100 [08:02<00:00,  4.82s/it]\n"
     ]
    }
   ],
   "source": [
    "#ORDER PARAMETER  DETERMINATION IMPROVED\n",
    "runs = 100\n",
    "length = 400\n",
    "pops = [16,32,64,128]\n",
    "vals = np.zeros((runs*3*len(pops),6)) \n",
    "for ind1, pop in enumerate(pops):\n",
    "    for ind2, weight in enumerate([1.5,2,2.5]):\n",
    "        for i in tqdm(range(runs)):\n",
    "            sim = Simulation(genome_length=4,\n",
    "                             n_females=pop,\n",
    "                             n_males=pop,\n",
    "                             sub_rate=0.3,\n",
    "                             offsprings_per_female=1,\n",
    "                             fitness_weight=weight\n",
    "                            )\n",
    "            sim.set_populations()\n",
    "            st = sim.evolve_order_par_stats(4,length)\n",
    "            vals[i+ind1*runs*3+ind2*runs] = (weight,pop,*st.mean(), *st.std())\n",
    "results = pd.DataFrame(vals, columns=['weight','population','mean ind','mean gen','std ind','std gen'])"
   ]
  },
  {
   "cell_type": "code",
   "execution_count": 35,
   "metadata": {},
   "outputs": [],
   "source": [
    "results.to_csv('100runs400length4g.csv')"
   ]
  },
  {
   "cell_type": "code",
   "execution_count": 60,
   "metadata": {},
   "outputs": [
    {
     "data": {
      "text/plain": [
       "Index(['weight', 'population', 'mean ind', 'mean gen', 'std ind', 'std gen'], dtype='object')"
      ]
     },
     "execution_count": 60,
     "metadata": {},
     "output_type": "execute_result"
    }
   ],
   "source": [
    "results.columns"
   ]
  },
  {
   "cell_type": "code",
   "execution_count": 66,
   "metadata": {},
   "outputs": [
    {
     "data": {
      "application/javascript": [
       "var spec = {\"config\": {\"view\": {\"width\": 400, \"height\": 300}}, \"data\": {\"url\": \"altair-data-deeae6e0ebc719ca7977b5b929b302fe.json\", \"format\": {\"type\": \"json\"}}, \"mark\": {\"type\": \"bar\", \"opacity\": 0.5}, \"encoding\": {\"color\": {\"type\": \"nominal\", \"field\": \"weight\"}, \"column\": {\"type\": \"quantitative\", \"field\": \"population\"}, \"x\": {\"type\": \"quantitative\", \"bin\": {\"maxbins\": 100}, \"field\": \"std gen\"}, \"y\": {\"type\": \"quantitative\", \"aggregate\": \"count\", \"field\": \"std gen\", \"stack\": null}}, \"$schema\": \"https://vega.github.io/schema/vega-lite/v2.6.0.json\"};\n",
       "var opt = {};\n",
       "var type = \"vega-lite\";\n",
       "var id = \"9e4cac65-64ec-4ee7-a2fd-d2419007b48e\";\n",
       "\n",
       "var output_area = this;\n",
       "\n",
       "require([\"nbextensions/jupyter-vega/index\"], function(vega) {\n",
       "  var target = document.createElement(\"div\");\n",
       "  target.id = id;\n",
       "  target.className = \"vega-embed\";\n",
       "\n",
       "  var style = document.createElement(\"style\");\n",
       "  style.textContent = [\n",
       "    \".vega-embed .error p {\",\n",
       "    \"  color: firebrick;\",\n",
       "    \"  font-size: 14px;\",\n",
       "    \"}\",\n",
       "  ].join(\"\\\\n\");\n",
       "\n",
       "  // element is a jQuery wrapped DOM element inside the output area\n",
       "  // see http://ipython.readthedocs.io/en/stable/api/generated/\\\n",
       "  // IPython.display.html#IPython.display.Javascript.__init__\n",
       "  element[0].appendChild(target);\n",
       "  element[0].appendChild(style);\n",
       "\n",
       "  vega.render(\"#\" + id, spec, type, opt, output_area);\n",
       "}, function (err) {\n",
       "  if (err.requireType !== \"scripterror\") {\n",
       "    throw(err);\n",
       "  }\n",
       "});\n"
      ],
      "text/plain": [
       "<vega.vegalite.VegaLite at 0x7f3a9972f940>"
      ]
     },
     "metadata": {
      "jupyter-vega": "#9e4cac65-64ec-4ee7-a2fd-d2419007b48e"
     },
     "output_type": "display_data"
    },
    {
     "data": {
      "text/plain": []
     },
     "execution_count": 66,
     "metadata": {},
     "output_type": "execute_result"
    },
    {
     "data": {
      "image/png": "[encoded data removed]"
     },
     "metadata": {
      "jupyter-vega": "#9e4cac65-64ec-4ee7-a2fd-d2419007b48e"
     },
     "output_type": "display_data"
    }
   ],
   "source": [
    "alt.Chart(results).mark_bar(opacity=0.5).encode(\n",
    "    x= alt.X('std gen',bin=alt.BinParams(maxbins=100)),\n",
    "    y = alt.Y('count(std gen)',stack=None),\n",
    "    column = 'population',\n",
    "    color = 'weight:N')\n"
   ]
  },
  {
   "cell_type": "code",
   "execution_count": 68,
   "metadata": {},
   "outputs": [
    {
     "data": {
      "application/javascript": [
       "var spec = {\"config\": {\"view\": {\"width\": 400, \"height\": 300}}, \"data\": {\"url\": \"altair-data-deeae6e0ebc719ca7977b5b929b302fe.json\", \"format\": {\"type\": \"json\"}}, \"mark\": {\"type\": \"bar\", \"opacity\": 0.5}, \"encoding\": {\"color\": {\"type\": \"nominal\", \"field\": \"weight\"}, \"column\": {\"type\": \"quantitative\", \"field\": \"population\"}, \"x\": {\"type\": \"quantitative\", \"bin\": {\"maxbins\": 100}, \"field\": \"mean gen\"}, \"y\": {\"type\": \"quantitative\", \"aggregate\": \"count\", \"field\": \"mean gen\", \"stack\": null}}, \"$schema\": \"https://vega.github.io/schema/vega-lite/v2.6.0.json\"};\n",
       "var opt = {};\n",
       "var type = \"vega-lite\";\n",
       "var id = \"2b43cbee-cfd9-4126-ad9f-f608e6b15519\";\n",
       "\n",
       "var output_area = this;\n",
       "\n",
       "require([\"nbextensions/jupyter-vega/index\"], function(vega) {\n",
       "  var target = document.createElement(\"div\");\n",
       "  target.id = id;\n",
       "  target.className = \"vega-embed\";\n",
       "\n",
       "  var style = document.createElement(\"style\");\n",
       "  style.textContent = [\n",
       "    \".vega-embed .error p {\",\n",
       "    \"  color: firebrick;\",\n",
       "    \"  font-size: 14px;\",\n",
       "    \"}\",\n",
       "  ].join(\"\\\\n\");\n",
       "\n",
       "  // element is a jQuery wrapped DOM element inside the output area\n",
       "  // see http://ipython.readthedocs.io/en/stable/api/generated/\\\n",
       "  // IPython.display.html#IPython.display.Javascript.__init__\n",
       "  element[0].appendChild(target);\n",
       "  element[0].appendChild(style);\n",
       "\n",
       "  vega.render(\"#\" + id, spec, type, opt, output_area);\n",
       "}, function (err) {\n",
       "  if (err.requireType !== \"scripterror\") {\n",
       "    throw(err);\n",
       "  }\n",
       "});\n"
      ],
      "text/plain": [
       "<vega.vegalite.VegaLite at 0x7f3a99872ac8>"
      ]
     },
     "metadata": {
      "jupyter-vega": "#2b43cbee-cfd9-4126-ad9f-f608e6b15519"
     },
     "output_type": "display_data"
    },
    {
     "data": {
      "text/plain": []
     },
     "execution_count": 68,
     "metadata": {},
     "output_type": "execute_result"
    },
    {
     "data": {
      "image/png": "[encoded data removed]"
     },
     "metadata": {
      "jupyter-vega": "#2b43cbee-cfd9-4126-ad9f-f608e6b15519"
     },
     "output_type": "display_data"
    }
   ],
   "source": [
    "alt.Chart(results).mark_bar(opacity=0.5).encode(\n",
    "    x= alt.X('mean gen',bin=alt.BinParams(maxbins=100)),\n",
    "    y = alt.Y('count(mean gen)',stack=None),\n",
    "    column = 'population',\n",
    "    color = 'weight:N')\n",
    "\n"
   ]
  },
  {
   "cell_type": "code",
   "execution_count": 70,
   "metadata": {},
   "outputs": [
    {
     "data": {
      "application/javascript": [
       "var spec = {\"config\": {\"view\": {\"width\": 400, \"height\": 300}}, \"data\": {\"url\": \"altair-data-deeae6e0ebc719ca7977b5b929b302fe.json\", \"format\": {\"type\": \"json\"}}, \"mark\": {\"type\": \"bar\", \"opacity\": 0.5}, \"encoding\": {\"color\": {\"type\": \"nominal\", \"field\": \"weight\"}, \"column\": {\"type\": \"quantitative\", \"field\": \"population\"}, \"x\": {\"type\": \"quantitative\", \"bin\": {\"maxbins\": 100}, \"field\": \"mean ind\"}, \"y\": {\"type\": \"quantitative\", \"aggregate\": \"count\", \"field\": \"mean ind\", \"stack\": null}}, \"$schema\": \"https://vega.github.io/schema/vega-lite/v2.6.0.json\"};\n",
       "var opt = {};\n",
       "var type = \"vega-lite\";\n",
       "var id = \"f4ba9079-a119-4526-87f4-618f426c2e16\";\n",
       "\n",
       "var output_area = this;\n",
       "\n",
       "require([\"nbextensions/jupyter-vega/index\"], function(vega) {\n",
       "  var target = document.createElement(\"div\");\n",
       "  target.id = id;\n",
       "  target.className = \"vega-embed\";\n",
       "\n",
       "  var style = document.createElement(\"style\");\n",
       "  style.textContent = [\n",
       "    \".vega-embed .error p {\",\n",
       "    \"  color: firebrick;\",\n",
       "    \"  font-size: 14px;\",\n",
       "    \"}\",\n",
       "  ].join(\"\\\\n\");\n",
       "\n",
       "  // element is a jQuery wrapped DOM element inside the output area\n",
       "  // see http://ipython.readthedocs.io/en/stable/api/generated/\\\n",
       "  // IPython.display.html#IPython.display.Javascript.__init__\n",
       "  element[0].appendChild(target);\n",
       "  element[0].appendChild(style);\n",
       "\n",
       "  vega.render(\"#\" + id, spec, type, opt, output_area);\n",
       "}, function (err) {\n",
       "  if (err.requireType !== \"scripterror\") {\n",
       "    throw(err);\n",
       "  }\n",
       "});\n"
      ],
      "text/plain": [
       "<vega.vegalite.VegaLite at 0x7f3a997d6cc0>"
      ]
     },
     "metadata": {
      "jupyter-vega": "#f4ba9079-a119-4526-87f4-618f426c2e16"
     },
     "output_type": "display_data"
    },
    {
     "data": {
      "text/plain": []
     },
     "execution_count": 70,
     "metadata": {},
     "output_type": "execute_result"
    },
    {
     "data": {
      "image/png": "[encoded data removed]"
     },
     "metadata": {
      "jupyter-vega": "#f4ba9079-a119-4526-87f4-618f426c2e16"
     },
     "output_type": "display_data"
    }
   ],
   "source": [
    "alt.Chart(results).mark_bar(opacity=0.5).encode(\n",
    "    x= alt.X('mean ind',bin=alt.BinParams(maxbins=100)),\n",
    "    y = alt.Y('count(mean ind)',stack=None),\n",
    "    column = 'population',\n",
    "    color = 'weight:N')\n",
    "\n"
   ]
  },
  {
   "cell_type": "code",
   "execution_count": 71,
   "metadata": {},
   "outputs": [
    {
     "data": {
      "application/javascript": [
       "var spec = {\"config\": {\"view\": {\"width\": 400, \"height\": 300}}, \"data\": {\"url\": \"altair-data-deeae6e0ebc719ca7977b5b929b302fe.json\", \"format\": {\"type\": \"json\"}}, \"mark\": {\"type\": \"bar\", \"opacity\": 0.5}, \"encoding\": {\"color\": {\"type\": \"nominal\", \"field\": \"weight\"}, \"column\": {\"type\": \"quantitative\", \"field\": \"population\"}, \"x\": {\"type\": \"quantitative\", \"bin\": {\"maxbins\": 100}, \"field\": \"std ind\"}, \"y\": {\"type\": \"quantitative\", \"aggregate\": \"count\", \"field\": \"std ind\", \"stack\": null}}, \"$schema\": \"https://vega.github.io/schema/vega-lite/v2.6.0.json\"};\n",
       "var opt = {};\n",
       "var type = \"vega-lite\";\n",
       "var id = \"831d1897-1fe0-49ad-aa52-4bbcaf14cc44\";\n",
       "\n",
       "var output_area = this;\n",
       "\n",
       "require([\"nbextensions/jupyter-vega/index\"], function(vega) {\n",
       "  var target = document.createElement(\"div\");\n",
       "  target.id = id;\n",
       "  target.className = \"vega-embed\";\n",
       "\n",
       "  var style = document.createElement(\"style\");\n",
       "  style.textContent = [\n",
       "    \".vega-embed .error p {\",\n",
       "    \"  color: firebrick;\",\n",
       "    \"  font-size: 14px;\",\n",
       "    \"}\",\n",
       "  ].join(\"\\\\n\");\n",
       "\n",
       "  // element is a jQuery wrapped DOM element inside the output area\n",
       "  // see http://ipython.readthedocs.io/en/stable/api/generated/\\\n",
       "  // IPython.display.html#IPython.display.Javascript.__init__\n",
       "  element[0].appendChild(target);\n",
       "  element[0].appendChild(style);\n",
       "\n",
       "  vega.render(\"#\" + id, spec, type, opt, output_area);\n",
       "}, function (err) {\n",
       "  if (err.requireType !== \"scripterror\") {\n",
       "    throw(err);\n",
       "  }\n",
       "});\n"
      ],
      "text/plain": [
       "<vega.vegalite.VegaLite at 0x7f3a997e2588>"
      ]
     },
     "metadata": {
      "jupyter-vega": "#831d1897-1fe0-49ad-aa52-4bbcaf14cc44"
     },
     "output_type": "display_data"
    },
    {
     "data": {
      "text/plain": []
     },
     "execution_count": 71,
     "metadata": {},
     "output_type": "execute_result"
    },
    {
     "data": {
      "image/png": "[encoded data removed]"
     },
     "metadata": {
      "jupyter-vega": "#831d1897-1fe0-49ad-aa52-4bbcaf14cc44"
     },
     "output_type": "display_data"
    }
   ],
   "source": [
    "alt.Chart(results).mark_bar(opacity=0.5).encode(\n",
    "    x= alt.X('std ind',bin=alt.BinParams(maxbins=100)),\n",
    "    y = alt.Y('count(std ind)',stack=None),\n",
    "    column = 'population',\n",
    "    color = 'weight:N')\n"
   ]
  }
 ],
 "metadata": {
  "kernelspec": {
   "display_name": "Python 3",
   "language": "python",
   "name": "python3"
  },
  "language_info": {
   "codemirror_mode": {
    "name": "ipython",
    "version": 3
   },
   "file_extension": ".py",
   "mimetype": "text/x-python",
   "name": "python",
   "nbconvert_exporter": "python",
   "pygments_lexer": "ipython3",
   "version": "3.6.4"
  }
 },
 "nbformat": 4,
 "nbformat_minor": 2
}
