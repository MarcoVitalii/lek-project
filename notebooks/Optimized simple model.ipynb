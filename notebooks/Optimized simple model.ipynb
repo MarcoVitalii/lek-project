{
 "cells": [
  {
   "cell_type": "code",
   "execution_count": 1,
   "metadata": {},
   "outputs": [
    {
     "data": {
      "text/plain": [
       "DataTransformerRegistry.enable('json')"
      ]
     },
     "execution_count": 1,
     "metadata": {},
     "output_type": "execute_result"
    }
   ],
   "source": [
    "import numpy as np\n",
    "import matplotlib.pyplot as plt\n",
    "import time \n",
    "from itertools import product\n",
    "from IPython.display import display\n",
    "\n",
    "\n",
    "import pandas as pd\n",
    "import altair as alt\n",
    "\n",
    "alt.renderers.enable('notebook')\n",
    "alt.data_transformers.enable('json') #enables graphs with more than 5k lines. It stores info in a local file"
   ]
  },
  {
   "cell_type": "code",
   "execution_count": 365,
   "metadata": {},
   "outputs": [],
   "source": [
    "class Simulation:\n",
    "    def __init__(self, genome_length, n_females, n_males, sub_rate, offsprings_per_female=1, fitness_weight=1.0, seed=None):\n",
    "        self.genome_length = genome_length\n",
    "        self.n_females = n_females\n",
    "        self.n_males = n_males\n",
    "        self.sub_rate = sub_rate\n",
    "        self.offsprings_per_female = offsprings_per_female\n",
    "        self.fitness_weight = fitness_weight\n",
    "        self.n_female_sub = int(sub_rate * n_females)\n",
    "        self.n_male_sub = int(sub_rate * n_males)\n",
    "        self.powers = np.array([2**i for i in range(genome_length)])\n",
    "        if seed == None:\n",
    "            seed = int(time.time())\n",
    "        self.seed = seed\n",
    "        np.random.seed(seed)\n",
    "        \n",
    "        \n",
    "    def set_populations(self):\n",
    "        self.females = np.random.randint(0, 2, (self.n_females, self.genome_length))\n",
    "        self.males = np.random.randint(0, 2, (self.n_males, self.genome_length))\n",
    "        \n",
    "        \n",
    "    def calculate_fitness_matrix(self):\n",
    "        return - (self.females.reshape(self.n_females,1,self.genome_length) == self.males).sum(axis=2) * \\\n",
    "                self.fitness_weight + np.abs(self.genome_length - 2 * self.males.sum(1) )\n",
    "\n",
    "    \n",
    "    def select_partners(self):\n",
    "        \"\"\"\n",
    "        Selects the indexes of the right male partner for every female. Equally good partners are\n",
    "        randomly selected\n",
    "        \"\"\"\n",
    "        partners = np.zeros(self.n_females,dtype=np.int)\n",
    "        fitness = self.calculate_fitness_matrix()\n",
    "        maxes = np.max(fitness,axis=1)\n",
    "        for i in range(self.n_females):\n",
    "            partners[i] = np.random.choice(np.where(fitness[i,:] == maxes[i])[0],1)\n",
    "        return partners\n",
    "       \n",
    "        \n",
    "    def generate_sons(self):\n",
    "        return np.where(np.random.randint(0,2,(self.n_females * self.offsprings_per_female, self.genome_length)),\n",
    "                        self.females[list(range(self.n_females)) * self.offsprings_per_female],\n",
    "                        self.males[list(self.select_partners()) * self.offsprings_per_female])\n",
    "    \n",
    "    \n",
    "    def evolve(self, time, stats_dt):\n",
    "        stats = pd.DataFrame(columns=['sex','genome','timestep','partner','n_copulations'],\n",
    "                             index=np.arange(time / stats_dt * (self.n_males + self.n_females),dtype=np.int))\n",
    "        progress = 0\n",
    "        for i in range(time):\n",
    "            \n",
    "            #calculating the statistics:\n",
    "            if(i % stats_dt == 0):\n",
    "                partners  = self.select_partners()\n",
    "                for ind in range(self.n_males):\n",
    "                    stats.loc[progress] = ['M', self.males[ind].dot(self.powers), i, np.nan,(partners==ind).sum()]\n",
    "                    progress += 1\n",
    "                for ind in range(self.n_females):\n",
    "                    stats.loc[progress] = ['F', self.females[ind].dot(self.powers), i, self.males[partners[ind]].dot(self.powers),np.nan]\n",
    "                    progress += 1\n",
    "                \n",
    "            #mixing the offsprings in the population NO NATURAL SELECTION IS TAKEN INTO ACCOUT \n",
    "            sons = self.generate_sons()[np.random.choice(self.n_females * self.offsprings_per_female,\n",
    "                                                        self.n_female_sub + self.n_male_sub,\n",
    "                                                        replace=False),:]\n",
    "            self.females[np.random.choice(self.n_females,self.n_female_sub,replace=False),:] = sons[:self.n_female_sub]\n",
    "            self.males[np.random.choice(self.n_males, self.n_male_sub, replace=False),:] = sons[-self.n_male_sub:]\n",
    "       \n",
    "        #setting the right types for the stats Dataframe\n",
    "        stats.to_csv('test.csv')\n",
    "    \n",
    "    \n",
    "    def count_different_genomes(self,objs):\n",
    "        \"\"\"\n",
    "        args:\n",
    "        objs - list of genomes\n",
    "\n",
    "        returns:\n",
    "\n",
    "        number of different genomes inside the given list. \n",
    "\n",
    "        obj are converted to strings because the  not in operation for np.arrays is more complex and ambiguous written in this way\"\"\"\n",
    "        differents = []\n",
    "        for obj in objs:\n",
    "            st = str(obj)\n",
    "            if st not in differents:\n",
    "                differents.append(st)\n",
    "        return len(differents)\n",
    "    \n",
    "    \n",
    "    def sons_statistics(self):\n",
    "#         Distribution of sons for the current male and female population.\n",
    "        sons_count = np.zeros(2 ** self.genome_length)\n",
    "        sons = np.zeros((2 ** self.genome_length, self.genome_length))\n",
    "        partners = self.select_partners()\n",
    "        for ind in range(self.n_females):\n",
    "            for son in product(*np.array([self.males[partners[ind]],self.females[ind]]).transpose()):\n",
    "                sons_count[np.array(son).dot(self.powers)] += 1\n",
    "        return sons_count\n",
    "        \n",
    "        \n",
    "        "
   ]
  },
  {
   "cell_type": "code",
   "execution_count": 380,
   "metadata": {},
   "outputs": [
    {
     "name": "stdout",
     "output_type": "stream",
     "text": [
      "current seed:1558367451\n"
     ]
    }
   ],
   "source": [
    "# Initialization of the simulation. \n",
    "k = Simulation(genome_length=3,\n",
    "               n_females=40,\n",
    "               n_males=40,\n",
    "               sub_rate=0.3,\n",
    "               offsprings_per_female=1,\n",
    "               fitness_weight=1,\n",
    "               seed = 1558367451\n",
    "               )\n",
    "print(f\"current seed:{k.seed}\")\n",
    "k.set_populations()"
   ]
  },
  {
   "cell_type": "code",
   "execution_count": 383,
   "metadata": {},
   "outputs": [],
   "source": [
    "# Evolution of the system. Stats are recorded every STAT_STEP steps and are saved in test.csv\n",
    "SIM_LENGTH = 300\n",
    "STAT_STEP = 1\n",
    "k.evolve(SIM_LENGTH, STAT_STEP)\n",
    "\n",
    "#preparation of the dataframe needed for visualization\n",
    "stats = pd.read_csv('test.csv')\n",
    "st = stats[['timestep','sex','genome']]\n",
    "r2 = st.groupby(['timestep','sex']).agg(lambda x: sum([((x==j).sum()**2) for j in x.unique()])).reset_index()"
   ]
  },
  {
   "cell_type": "code",
   "execution_count": 384,
   "metadata": {},
   "outputs": [
    {
     "data": {
      "application/javascript": [
       "var spec = {\"config\": {\"view\": {\"width\": 400, \"height\": 300}}, \"hconcat\": [{\"data\": {\"url\": \"altair-data-ecc137bba20ede08884325a4ca5eb167.json\", \"format\": {\"type\": \"json\"}}, \"mark\": \"line\", \"encoding\": {\"color\": {\"type\": \"nominal\", \"field\": \"sex\"}, \"x\": {\"type\": \"quantitative\", \"field\": \"timestep\"}, \"y\": {\"type\": \"quantitative\", \"aggregate\": \"distinct\", \"field\": \"genome\"}}}, {\"data\": {\"url\": \"altair-data-bc073ac3b06c416038c3c520ed6d2320.json\", \"format\": {\"type\": \"json\"}}, \"mark\": \"line\", \"encoding\": {\"color\": {\"type\": \"nominal\", \"field\": \"sex\"}, \"x\": {\"type\": \"quantitative\", \"field\": \"timestep\"}, \"y\": {\"type\": \"quantitative\", \"field\": \"genome\", \"title\": \"R**2\"}}}], \"$schema\": \"https://vega.github.io/schema/vega-lite/v2.6.0.json\"};\n",
       "var opt = {};\n",
       "var type = \"vega-lite\";\n",
       "var id = \"175434cf-e20d-4873-8183-444c9c958a11\";\n",
       "\n",
       "var output_area = this;\n",
       "\n",
       "require([\"nbextensions/jupyter-vega/index\"], function(vega) {\n",
       "  var target = document.createElement(\"div\");\n",
       "  target.id = id;\n",
       "  target.className = \"vega-embed\";\n",
       "\n",
       "  var style = document.createElement(\"style\");\n",
       "  style.textContent = [\n",
       "    \".vega-embed .error p {\",\n",
       "    \"  color: firebrick;\",\n",
       "    \"  font-size: 14px;\",\n",
       "    \"}\",\n",
       "  ].join(\"\\\\n\");\n",
       "\n",
       "  // element is a jQuery wrapped DOM element inside the output area\n",
       "  // see http://ipython.readthedocs.io/en/stable/api/generated/\\\n",
       "  // IPython.display.html#IPython.display.Javascript.__init__\n",
       "  element[0].appendChild(target);\n",
       "  element[0].appendChild(style);\n",
       "\n",
       "  vega.render(\"#\" + id, spec, type, opt, output_area);\n",
       "}, function (err) {\n",
       "  if (err.requireType !== \"scripterror\") {\n",
       "    throw(err);\n",
       "  }\n",
       "});\n"
      ],
      "text/plain": [
       "<vega.vegalite.VegaLite at 0x7fd94c0abd30>"
      ]
     },
     "metadata": {
      "jupyter-vega": "#175434cf-e20d-4873-8183-444c9c958a11"
     },
     "output_type": "display_data"
    },
    {
     "data": {
      "text/plain": []
     },
     "execution_count": 384,
     "metadata": {},
     "output_type": "execute_result"
    },
    {
     "data": {
      "image/png": "[encoded data removed]"
     },
     "metadata": {
      "jupyter-vega": "#175434cf-e20d-4873-8183-444c9c958a11"
     },
     "output_type": "display_data"
    }
   ],
   "source": [
    "#visualization of variety inside the genome pool and measure of distance from uniform distribution\n",
    "c1 = alt.Chart(stats[['timestep','sex','genome']]).mark_line().encode(\n",
    "    x = 'timestep',\n",
    "    y = 'distinct(genome)',\n",
    "    color = 'sex')\n",
    "c2 = alt.Chart(r2).mark_line().encode(\n",
    "    x = 'timestep',\n",
    "    y = alt.Y('genome',title='R**2'),\n",
    "    color = 'sex')\n",
    "\n",
    "c1 |c2"
   ]
  },
  {
   "cell_type": "code",
   "execution_count": 385,
   "metadata": {
    "scrolled": true
   },
   "outputs": [
    {
     "data": {
      "application/javascript": [
       "var spec = {\"config\": {\"view\": {\"width\": 400, \"height\": 300}}, \"hconcat\": [{\"data\": {\"url\": \"altair-data-fe1c18227ef596b8edc382cdd138a66a.json\", \"format\": {\"type\": \"json\"}}, \"mark\": {\"type\": \"bar\", \"opacity\": 0.6}, \"encoding\": {\"color\": {\"type\": \"nominal\", \"field\": \"sex\"}, \"tooltip\": {\"type\": \"quantitative\", \"aggregate\": \"count\"}, \"x\": {\"type\": \"nominal\", \"field\": \"genome\"}, \"y\": {\"type\": \"quantitative\", \"aggregate\": \"count\", \"stack\": null}}, \"selection\": {\"timestep\": {\"type\": \"single\", \"fields\": [\"timestep\"], \"bind\": {\"input\": \"range\", \"max\": 300, \"min\": 0, \"step\": 1}}}, \"transform\": [{\"filter\": {\"selection\": \"timestep\"}}]}, {\"data\": {\"url\": \"altair-data-3c0b16804c1a166594848c78327a2bb9.json\", \"format\": {\"type\": \"json\"}}, \"mark\": \"bar\", \"encoding\": {\"x\": {\"type\": \"nominal\", \"field\": \"genome\"}, \"y\": {\"type\": \"quantitative\", \"aggregate\": \"sum\", \"field\": \"n_copulations\"}}, \"selection\": {\"timestep\": {\"type\": \"single\", \"fields\": [\"timestep\"], \"bind\": {\"input\": \"range\", \"max\": 300, \"min\": 0, \"step\": 1}}}, \"transform\": [{\"filter\": {\"selection\": \"timestep\"}}]}], \"$schema\": \"https://vega.github.io/schema/vega-lite/v2.6.0.json\"};\n",
       "var opt = {};\n",
       "var type = \"vega-lite\";\n",
       "var id = \"33548af2-33b4-48f8-bca3-d7fcd79b8a35\";\n",
       "\n",
       "var output_area = this;\n",
       "\n",
       "require([\"nbextensions/jupyter-vega/index\"], function(vega) {\n",
       "  var target = document.createElement(\"div\");\n",
       "  target.id = id;\n",
       "  target.className = \"vega-embed\";\n",
       "\n",
       "  var style = document.createElement(\"style\");\n",
       "  style.textContent = [\n",
       "    \".vega-embed .error p {\",\n",
       "    \"  color: firebrick;\",\n",
       "    \"  font-size: 14px;\",\n",
       "    \"}\",\n",
       "  ].join(\"\\\\n\");\n",
       "\n",
       "  // element is a jQuery wrapped DOM element inside the output area\n",
       "  // see http://ipython.readthedocs.io/en/stable/api/generated/\\\n",
       "  // IPython.display.html#IPython.display.Javascript.__init__\n",
       "  element[0].appendChild(target);\n",
       "  element[0].appendChild(style);\n",
       "\n",
       "  vega.render(\"#\" + id, spec, type, opt, output_area);\n",
       "}, function (err) {\n",
       "  if (err.requireType !== \"scripterror\") {\n",
       "    throw(err);\n",
       "  }\n",
       "});\n"
      ],
      "text/plain": [
       "<vega.vegalite.VegaLite at 0x7fd94c7a4438>"
      ]
     },
     "metadata": {
      "jupyter-vega": "#33548af2-33b4-48f8-bca3-d7fcd79b8a35"
     },
     "output_type": "display_data"
    },
    {
     "data": {
      "text/plain": []
     },
     "execution_count": 385,
     "metadata": {},
     "output_type": "execute_result"
    },
    {
     "data": {
      "image/png": "[encoded data removed]"
     },
     "metadata": {
      "jupyter-vega": "#33548af2-33b4-48f8-bca3-d7fcd79b8a35"
     },
     "output_type": "display_data"
    }
   ],
   "source": [
    "#visualization of populations for both sexes and reproductive success of males based on their genome\n",
    "\n",
    "copulations = stats.drop(['partner','Unnamed: 0'],axis=1)[stats['sex'] ==\"M\"]\n",
    "slider = alt.binding_range(min=0, max=SIM_LENGTH, step=STAT_STEP)\n",
    "select_timestep = alt.selection_single(name=\"timestep\", fields=['timestep'],\n",
    "                                       bind=slider)\n",
    "\n",
    "c_pops = alt.Chart(stats).mark_bar(opacity=0.6).encode(\n",
    "    x = 'genome:N',\n",
    "    y = alt.Y('count()', stack=None),\n",
    "    color = alt.Color('sex'),\n",
    "    tooltip = 'count()'\n",
    ").add_selection(\n",
    "    select_timestep\n",
    ").transform_filter(\n",
    "    select_timestep\n",
    ")\n",
    "\n",
    "c_copulations = alt.Chart(copulations).mark_bar().encode(\n",
    "    x = 'genome:N',\n",
    "    y = 'sum(n_copulations)'\n",
    ").add_selection(\n",
    "    select_timestep\n",
    ").transform_filter(\n",
    "    select_timestep\n",
    ")\n",
    "\n",
    "c_pops | c_copulations"
   ]
  },
  {
   "cell_type": "code",
   "execution_count": 262,
   "metadata": {},
   "outputs": [],
   "source": [
    "#Code needed to explore sons distribution at fixed female and male populations.\n",
    "\n",
    "\n",
    "# # k.males = np.array( [list(np.binary_repr(n,3)) for n in range(2**3)],dtype=int)\n",
    "# k.females = np.array(([0,0,0],[0,0,0]))\n",
    "# plt.plot(range(8),k.sons_statistics(),label='sons genetic distribution')\n",
    "# plt.hist([k.males[i].dot(k.powers) for i in k.select_partners()], bins=np.arange(-0.5,8.5,1),label='partners')\n",
    "# plt.legend()"
   ]
  }
 ],
 "metadata": {
  "kernelspec": {
   "display_name": "lek-project",
   "language": "python",
   "name": "lek-project"
  },
  "language_info": {
   "codemirror_mode": {
    "name": "ipython",
    "version": 3
   },
   "file_extension": ".py",
   "mimetype": "text/x-python",
   "name": "python",
   "nbconvert_exporter": "python",
   "pygments_lexer": "ipython3",
   "version": "3.6.4"
  }
 },
 "nbformat": 4,
 "nbformat_minor": 2
}
